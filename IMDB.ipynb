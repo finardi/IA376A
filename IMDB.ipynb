{
  "nbformat": 4,
  "nbformat_minor": 0,
  "metadata": {
    "colab": {
      "name": "Paulo Finardi  [Sem-4].ipynb",
      "provenance": [],
      "collapsed_sections": [
        "hpHsn58xAL5J",
        "c_fuTyCxP9Om",
        "ThzSeNEKIm6J",
        "xYLMb5yqud7l",
        "OAYPeXkOQnyR",
        "Wfls1IXpRZVx",
        "s-LjltlrW7A8",
        "pG0fxVNr_AQR",
        "bYEkdNJQbcOc"
      ],
      "include_colab_link": true
    },
    "kernelspec": {
      "name": "python3",
      "display_name": "Python 3"
    },
    "accelerator": "GPU"
  },
  "cells": [
    {
      "cell_type": "markdown",
      "metadata": {
        "id": "view-in-github",
        "colab_type": "text"
      },
      "source": [
        "<a href=\"https://colab.research.google.com/github/finardi/IA376A/blob/master/IMDB.ipynb\" target=\"_parent\"><img src=\"https://colab.research.google.com/assets/colab-badge.svg\" alt=\"Open In Colab\"/></a>"
      ]
    },
    {
      "cell_type": "markdown",
      "metadata": {
        "id": "hpHsn58xAL5J",
        "colab_type": "text"
      },
      "source": [
        "# Nome: Paulo Finardi\n",
        "\n",
        "- **IMDB Week4**\n"
      ]
    },
    {
      "cell_type": "markdown",
      "metadata": {
        "id": "c_fuTyCxP9Om",
        "colab_type": "text"
      },
      "source": [
        "## Bibliotecas e Fç para fazer testes pseudo determínisticos"
      ]
    },
    {
      "cell_type": "code",
      "metadata": {
        "id": "LYYJrZbaQDfd",
        "colab_type": "code",
        "colab": {
          "base_uri": "https://localhost:8080/",
          "height": 68
        },
        "outputId": "64f4d4f6-614c-4274-c0ab-5c3ac8c9c881"
      },
      "source": [
        "!pip install -q  nltk\n",
        "\n",
        "import re\n",
        "import torch \n",
        "import torch.nn as nn\n",
        "import torch.nn.functional as F\n",
        "from collections import Counter\n",
        "import numpy as np\n",
        "import nltk\n",
        "nltk.download('punkt')\n",
        "\n",
        "manualSeed = 0\n",
        "\n",
        "def deterministic(rep=True):\n",
        "  if rep:\n",
        "    np.random.seed(manualSeed)\n",
        "    torch.manual_seed(manualSeed)\n",
        "    if torch.cuda.is_available():\n",
        "      torch.cuda.manual_seed(manualSeed)\n",
        "      torch.cuda.manual_seed_all(manualSeed)\n",
        "    torch.backends.cudnn.enabled = False \n",
        "    torch.backends.cudnn.benchmark = False\n",
        "    torch.backends.cudnn.deterministic = True\n",
        "    print(f'Deterministic experiment, seed: {manualSeed}')\n",
        "  else:\n",
        "    print('Random experiment')\n",
        "\n",
        "device = torch.device('cuda' if torch.cuda.is_available() else 'cpu')\n",
        "print(f'Using device: {device}')"
      ],
      "execution_count": null,
      "outputs": [
        {
          "output_type": "stream",
          "text": [
            "[nltk_data] Downloading package punkt to /root/nltk_data...\n",
            "[nltk_data]   Unzipping tokenizers/punkt.zip.\n",
            "Using device: cuda\n"
          ],
          "name": "stdout"
        }
      ]
    },
    {
      "cell_type": "markdown",
      "metadata": {
        "id": "ThzSeNEKIm6J",
        "colab_type": "text"
      },
      "source": [
        "# Download IMDB dataset \n",
        "- fast.ai\n"
      ]
    },
    {
      "cell_type": "code",
      "metadata": {
        "id": "fIVVCS2GoMtf",
        "colab_type": "code",
        "colab": {
          "base_uri": "https://localhost:8080/",
          "height": 204
        },
        "outputId": "f6ff1939-f4fe-4627-9009-3b4235b2245e"
      },
      "source": [
        "!wget -nc http://files.fast.ai/data/examples/imdb_sample.tgz\n",
        "!tar -xzf imdb_sample.tgz"
      ],
      "execution_count": null,
      "outputs": [
        {
          "output_type": "stream",
          "text": [
            "--2020-03-29 13:36:07--  http://files.fast.ai/data/examples/imdb_sample.tgz\n",
            "Resolving files.fast.ai (files.fast.ai)... 67.205.15.147\n",
            "Connecting to files.fast.ai (files.fast.ai)|67.205.15.147|:80... connected.\n",
            "HTTP request sent, awaiting response... 200 OK\n",
            "Length: 571827 (558K) [application/x-gtar-compressed]\n",
            "Saving to: ‘imdb_sample.tgz’\n",
            "\n",
            "imdb_sample.tgz     100%[===================>] 558.42K  1.70MB/s    in 0.3s    \n",
            "\n",
            "2020-03-29 13:36:08 (1.70 MB/s) - ‘imdb_sample.tgz’ saved [571827/571827]\n",
            "\n"
          ],
          "name": "stdout"
        }
      ]
    },
    {
      "cell_type": "code",
      "metadata": {
        "id": "DFf1MI9XRNdN",
        "colab_type": "code",
        "colab": {
          "base_uri": "https://localhost:8080/",
          "height": 221
        },
        "outputId": "d9161a3c-ba5d-4792-9da8-d85a3500995a"
      },
      "source": [
        "import pandas as pd\n",
        "\n",
        "df = pd.read_csv('imdb_sample/texts.csv')\n",
        "print(df.shape)\n",
        "df['label'] = df['label'].copy()\n",
        "\n",
        "# Coluna lábel para numérica\n",
        "df['label'] = df['label'].map({'negative': int(0), 'positive': int(1)})\n",
        "df.head()"
      ],
      "execution_count": null,
      "outputs": [
        {
          "output_type": "stream",
          "text": [
            "(1000, 3)\n"
          ],
          "name": "stdout"
        },
        {
          "output_type": "execute_result",
          "data": {
            "text/html": [
              "<div>\n",
              "<style scoped>\n",
              "    .dataframe tbody tr th:only-of-type {\n",
              "        vertical-align: middle;\n",
              "    }\n",
              "\n",
              "    .dataframe tbody tr th {\n",
              "        vertical-align: top;\n",
              "    }\n",
              "\n",
              "    .dataframe thead th {\n",
              "        text-align: right;\n",
              "    }\n",
              "</style>\n",
              "<table border=\"1\" class=\"dataframe\">\n",
              "  <thead>\n",
              "    <tr style=\"text-align: right;\">\n",
              "      <th></th>\n",
              "      <th>label</th>\n",
              "      <th>text</th>\n",
              "      <th>is_valid</th>\n",
              "    </tr>\n",
              "  </thead>\n",
              "  <tbody>\n",
              "    <tr>\n",
              "      <th>0</th>\n",
              "      <td>0</td>\n",
              "      <td>Un-bleeping-believable! Meg Ryan doesn't even ...</td>\n",
              "      <td>False</td>\n",
              "    </tr>\n",
              "    <tr>\n",
              "      <th>1</th>\n",
              "      <td>1</td>\n",
              "      <td>This is a extremely well-made film. The acting...</td>\n",
              "      <td>False</td>\n",
              "    </tr>\n",
              "    <tr>\n",
              "      <th>2</th>\n",
              "      <td>0</td>\n",
              "      <td>Every once in a long while a movie will come a...</td>\n",
              "      <td>False</td>\n",
              "    </tr>\n",
              "    <tr>\n",
              "      <th>3</th>\n",
              "      <td>1</td>\n",
              "      <td>Name just says it all. I watched this movie wi...</td>\n",
              "      <td>False</td>\n",
              "    </tr>\n",
              "    <tr>\n",
              "      <th>4</th>\n",
              "      <td>0</td>\n",
              "      <td>This movie succeeds at being one of the most u...</td>\n",
              "      <td>False</td>\n",
              "    </tr>\n",
              "  </tbody>\n",
              "</table>\n",
              "</div>"
            ],
            "text/plain": [
              "   label                                               text  is_valid\n",
              "0      0  Un-bleeping-believable! Meg Ryan doesn't even ...     False\n",
              "1      1  This is a extremely well-made film. The acting...     False\n",
              "2      0  Every once in a long while a movie will come a...     False\n",
              "3      1  Name just says it all. I watched this movie wi...     False\n",
              "4      0  This movie succeeds at being one of the most u...     False"
            ]
          },
          "metadata": {
            "tags": []
          },
          "execution_count": 3
        }
      ]
    },
    {
      "cell_type": "code",
      "metadata": {
        "id": "TgFmqT0LkbJo",
        "colab_type": "code",
        "colab": {
          "base_uri": "https://localhost:8080/",
          "height": 305
        },
        "outputId": "ce7aa2bc-5de8-4ccc-a562-475ac5f2be06"
      },
      "source": [
        "import seaborn as sns\n",
        "import matplotlib.pyplot as plt\n",
        "\n",
        "\"\"\" Exploration of number of samples classes \"\"\"\n",
        "\n",
        "# plot\n",
        "ax = sns.barplot(df.label.unique(), df.label.value_counts(), \n",
        "                 linewidth=2.5, facecolor=(0, 1, 0), edgecolor=\".1\")\n",
        "\n",
        "# decoração\n",
        "sns.despine(offset=1, trim=False)\n",
        "sns.set_style(\"ticks\")\n",
        "ax.set_ylabel('Number of samples', fontsize=16)\n",
        "plt.xticks(fontsize=16)\n",
        "plt.yticks(fontsize=16)\n",
        "plt.rcParams['figure.figsize'] = (10,3)\n",
        "\n",
        "print(f'There are {df.label.value_counts().tolist()[0]} samples of Negative class.\\\n",
        "       \\nThere are {df.label.value_counts().tolist()[1]} samples of Positive class.\\\n",
        "     ')"
      ],
      "execution_count": null,
      "outputs": [
        {
          "output_type": "stream",
          "text": [
            "There are 524 samples of Negative class.       \n",
            "There are 476 samples of Positive class.     \n"
          ],
          "name": "stdout"
        },
        {
          "output_type": "display_data",
          "data": {
            "image/png": "[encoded data removed]",
            "text/plain": [
              "<Figure size 432x288 with 1 Axes>"
            ]
          },
          "metadata": {
            "tags": []
          }
        }
      ]
    },
    {
      "cell_type": "markdown",
      "metadata": {
        "id": "xYLMb5yqud7l",
        "colab_type": "text"
      },
      "source": [
        "# Classes / fçs comuns as implementações do BoW TF-IDF e Embedding pré treinados\n",
        "\n"
      ]
    },
    {
      "cell_type": "code",
      "metadata": {
        "id": "eTmeLmpWud45",
        "colab_type": "code",
        "colab": {}
      },
      "source": [
        "from torch.utils.data import Dataset, DataLoader\n",
        "\n",
        "# Classe que cria o dataset\n",
        "class ImdbDataset(Dataset):\n",
        "  def __init__(self, csv_path):\n",
        "    super(ImdbDataset, self).__init__()\n",
        "    data = pd.read_csv(csv_path, index_col=0)\n",
        "    \n",
        "    self.target =  data.label.to_numpy().copy()\n",
        "    self.x      =  data.drop(['label'], axis=1).to_numpy().copy()\n",
        "\n",
        "    self.target = torch.from_numpy(self.target).type(torch.LongTensor)\n",
        "    self.x      = torch.from_numpy(self.x).type(torch.FloatTensor)\n",
        "\n",
        "  def __len__(self):\n",
        "    return self.x.shape[0]\n",
        "  \n",
        "  def __getitem__(self, index):\n",
        "    return self.x[index], self.target[index]"
      ],
      "execution_count": null,
      "outputs": []
    },
    {
      "cell_type": "markdown",
      "metadata": {
        "id": "EyHLCZp7V2mn",
        "colab_type": "text"
      },
      "source": [
        "## Label Smoothing and Optim\n",
        "- details in this [paper:](https://arxiv.org/pdf/1906.02629.pdf)"
      ]
    },
    {
      "cell_type": "code",
      "metadata": {
        "id": "PoYRb3o4V1_j",
        "colab_type": "code",
        "colab": {}
      },
      "source": [
        "import torch.nn as nn\n",
        "# Método de regularização\n",
        "class LabelSmoothing(nn.Module):\n",
        "  def __init__(self, smoothing = 0.1):\n",
        "    assert 0.0 <= smoothing < 1.0, f\"got smoothing={smoothing}\"\n",
        "    super(LabelSmoothing, self).__init__()\n",
        "    self.smoothing = smoothing\n",
        "\n",
        "  def forward(self, input, target):\n",
        "    target = target.detach()\n",
        "    log = F.log_softmax(input, dim=1)\n",
        "    oh = torch.ones_like(input).detach_()*(self.smoothing/input.size(1))\n",
        "    oh = oh.scatter_(1, target.unsqueeze(1),\n",
        "                      (1.0 - self.smoothing + self.smoothing/input.size(1)))\n",
        "    return ((-oh*log).sum(dim=1).mean())"
      ],
      "execution_count": null,
      "outputs": []
    },
    {
      "cell_type": "markdown",
      "metadata": {
        "colab_type": "text",
        "id": "R35rTnj55PP2"
      },
      "source": [
        "## Train and Eval functions"
      ]
    },
    {
      "cell_type": "code",
      "metadata": {
        "colab_type": "code",
        "id": "FqJmRP0i5PQM",
        "colab": {}
      },
      "source": [
        "from sklearn.metrics import accuracy_score\n",
        "\n",
        "def train(model, device, train_loader, loss_fn, optimizer):\n",
        "  model.train()\n",
        "  loss_train = []\n",
        "  for data, target in train_loader:\n",
        "    data, target = data.to(device), target.to(device)\n",
        "    optimizer.zero_grad()\n",
        "    output = model(data)\n",
        "    loss = loss_fn(output, target)\n",
        "    loss_train.append(loss.item())\n",
        "  \n",
        "    loss.backward()\n",
        "    optimizer.step()\n",
        "  \n",
        "  ave_train_loss = sum(loss_train) / len(loss_train)\n",
        "  return ave_train_loss, np.exp(ave_train_loss)\n",
        "\n",
        "def test(model, device, valid_loader, loss_fn):\n",
        "  model.eval()\n",
        "  logits, trues, loss_test = [],[],[]\n",
        "  with torch.no_grad():\n",
        "    for data, target in valid_loader:\n",
        "      data, target = data.to(device), target.to(device)\n",
        "      output = model(data)\n",
        "      loss = loss_fn(output, target)\n",
        "      loss_test.append(loss.item())\n",
        "      \n",
        "      logits.extend(output.to('cpu').numpy().tolist())\n",
        "      trues.extend(target.to('cpu').numpy().tolist())\n",
        "      prob = F.softmax(torch.tensor(logits), dim=1).numpy().copy()\n",
        "      probs = prob[:,1]\n",
        "  \n",
        "    ave_test_loss = sum(loss_test) / len(loss_test)\n",
        "  return ave_test_loss, np.exp(ave_test_loss), accuracy_score(trues, probs.round()) "
      ],
      "execution_count": null,
      "outputs": []
    },
    {
      "cell_type": "markdown",
      "metadata": {
        "colab_type": "text",
        "id": "OAYPeXkOQnyR"
      },
      "source": [
        "# Processamento do texto"
      ]
    },
    {
      "cell_type": "code",
      "metadata": {
        "colab_type": "code",
        "id": "ebiSanRCQnyU",
        "colab": {}
      },
      "source": [
        "REP_SEM_SPACE = re.compile(\"(\\.)|(\\;)|(\\:)|(\\!)|(\\')|(\\?)|(\\,)|(\\\")|(\\()|(\\))|(\\[)|(\\])\")\n",
        "REP_COM_SPACE = re.compile(\"(<br\\s*/><br\\s*/>)|(\\-)|(\\/)\")"
      ],
      "execution_count": null,
      "outputs": []
    },
    {
      "cell_type": "code",
      "metadata": {
        "colab_type": "code",
        "id": "QQJJNcRvQnyX",
        "colab": {}
      },
      "source": [
        "def preprocess_reviews(reviews):\n",
        "    reviews = [REP_SEM_SPACE.sub(\"\", r.lower()) for r in reviews]\n",
        "    reviews = [REP_COM_SPACE.sub(\" \", r) for r in reviews]\n",
        "    return reviews"
      ],
      "execution_count": null,
      "outputs": []
    },
    {
      "cell_type": "code",
      "metadata": {
        "colab_type": "code",
        "id": "vzimr1cZQnyZ",
        "colab": {}
      },
      "source": [
        "reviews_clean = preprocess_reviews(df.text.to_list())"
      ],
      "execution_count": null,
      "outputs": []
    },
    {
      "cell_type": "code",
      "metadata": {
        "colab_type": "code",
        "id": "2vr4773MQnya",
        "colab": {}
      },
      "source": [
        "reviews_tokenized = [nltk.word_tokenize(review) for review in reviews_clean] # tokenização"
      ],
      "execution_count": null,
      "outputs": []
    },
    {
      "cell_type": "markdown",
      "metadata": {
        "colab_type": "text",
        "id": "DFn9FHmLQnyc"
      },
      "source": [
        "## Palavras mais frequentes"
      ]
    },
    {
      "cell_type": "code",
      "metadata": {
        "colab_type": "code",
        "id": "Skx0VckyQnye",
        "colab": {}
      },
      "source": [
        "import itertools\n",
        "\n",
        "# Extrair as palavras das reviews positivas\n",
        "pos_words = [reviews_tokenized[i] for i in range(len(reviews_tokenized)) if df.label.to_list()[i] == 1]\n",
        "pos_words = list(itertools.chain.from_iterable(pos_words))\n",
        "\n",
        "# Extrair as palavras das reviews negativas\n",
        "neg_words = [reviews_tokenized[i] for i in range(len(reviews_tokenized)) if df.label.to_list()[i] == 0]\n",
        "neg_words = list(itertools.chain.from_iterable(neg_words))"
      ],
      "execution_count": null,
      "outputs": []
    },
    {
      "cell_type": "code",
      "metadata": {
        "colab_type": "code",
        "id": "JKHB8OwGQnyg",
        "colab": {
          "base_uri": "https://localhost:8080/",
          "height": 51
        },
        "outputId": "bfd32626-ccda-458e-9b8e-fb749a735074"
      },
      "source": [
        "nltk.download('stopwords')\n",
        "\n",
        "# Remover stop words\n",
        "stop_words = set(nltk.corpus.stopwords.words('english'))\n",
        "stop_words.add('movie')\n",
        "stop_words.add('film')\n",
        "stop_words.add('character')\n",
        "stop_words.add('characters')\n",
        "stop_words.add('br')\n",
        "pos_words_final = [word for word in pos_words if word not in stop_words]\n",
        "neg_words_final = [word for word in neg_words if word not in stop_words]"
      ],
      "execution_count": null,
      "outputs": [
        {
          "output_type": "stream",
          "text": [
            "[nltk_data] Downloading package stopwords to /root/nltk_data...\n",
            "[nltk_data]   Unzipping corpora/stopwords.zip.\n"
          ],
          "name": "stdout"
        }
      ]
    },
    {
      "cell_type": "code",
      "metadata": {
        "colab_type": "code",
        "id": "2oyPmWV-Qnyi",
        "colab": {}
      },
      "source": [
        "# Calcular a frequência das distribuições das palavras nas reviews positivas e negativas\n",
        "fd_pos = nltk.FreqDist(p for p in pos_words_final)\n",
        "fd_neg = nltk.FreqDist(n for n in neg_words_final)"
      ],
      "execution_count": null,
      "outputs": []
    },
    {
      "cell_type": "code",
      "metadata": {
        "colab_type": "code",
        "id": "P_6ImDKGQnyl",
        "colab": {}
      },
      "source": [
        "most_common_pos = fd_pos.most_common(30) # 30 palavras mais comuns na review positiva\n",
        "most_common_neg = fd_neg.most_common(30) # 30 palavras mais comuns na review negativa"
      ],
      "execution_count": null,
      "outputs": []
    },
    {
      "cell_type": "code",
      "metadata": {
        "colab_type": "code",
        "id": "1JJTQvWcQnyn",
        "colab": {
          "base_uri": "https://localhost:8080/",
          "height": 254
        },
        "outputId": "f1b8f775-e6e7-451e-dda4-992b42fda97f"
      },
      "source": [
        "plt.bar(range(len(most_common_pos)), [val[1] for val in most_common_pos])\n",
        "plt.xticks(range(len(most_common_pos)), [val[0] for val in most_common_pos])\n",
        "plt.xticks(rotation=80)\n",
        "plt.title('30 palavras mais comuns em reviews positivas')\n",
        "plt.show()"
      ],
      "execution_count": null,
      "outputs": [
        {
          "output_type": "display_data",
          "data": {
            "image/png": "[encoded data removed]",
            "text/plain": [
              "<Figure size 720x216 with 1 Axes>"
            ]
          },
          "metadata": {
            "tags": []
          }
        }
      ]
    },
    {
      "cell_type": "code",
      "metadata": {
        "colab_type": "code",
        "id": "-yyrJxHnQnyq",
        "colab": {
          "base_uri": "https://localhost:8080/",
          "height": 254
        },
        "outputId": "2f1d607c-0643-42d4-cdf7-3ab6e79fc99f"
      },
      "source": [
        "plt.bar(range(len(most_common_neg)), [val[1] for val in most_common_neg])\n",
        "plt.xticks(range(len(most_common_neg)), [val[0] for val in most_common_neg])\n",
        "plt.xticks(rotation=80)\n",
        "plt.title('30 palavras mais comuns em reviews negativas')\n",
        "plt.show()"
      ],
      "execution_count": null,
      "outputs": [
        {
          "output_type": "display_data",
          "data": {
            "image/png": "[encoded data removed]",
            "text/plain": [
              "<Figure size 720x216 with 1 Axes>"
            ]
          },
          "metadata": {
            "tags": []
          }
        }
      ]
    },
    {
      "cell_type": "code",
      "metadata": {
        "colab_type": "code",
        "id": "831FXGZbQnys",
        "colab": {
          "base_uri": "https://localhost:8080/",
          "height": 51
        },
        "outputId": "d2926fbe-d615-4341-c569-17ea2b7a8d5f"
      },
      "source": [
        "# Verificando a interseção das palavras que aparecem nas reviews positivas e negativas\n",
        "inter = list(set(pos_words_final).intersection(set(neg_words_final)))\n",
        "print(f'Existem: {len(inter)} words comuns nas reviews positivas e Negativas.\\n\\\n",
        "        As 10ª são: {inter[:10]}')"
      ],
      "execution_count": null,
      "outputs": [
        {
          "output_type": "stream",
          "text": [
            "Existem: 6774 words comuns nas reviews positivas e Negativas.\n",
            "        As 10ª são: ['wedding', 'orders', 'shadows', 'drugs', 'humble', 'stories', 'besides', 'omar', 'someplace', 'freudian']\n"
          ],
          "name": "stdout"
        }
      ]
    },
    {
      "cell_type": "markdown",
      "metadata": {
        "colab_type": "text",
        "id": "sutWOZa8Qnyt"
      },
      "source": [
        "## Removendo stop words"
      ]
    },
    {
      "cell_type": "code",
      "metadata": {
        "colab_type": "code",
        "id": "chh1v1-QQnyx",
        "colab": {
          "base_uri": "https://localhost:8080/",
          "height": 54
        },
        "outputId": "1149467c-896e-4c83-f17c-661c20c0e7d2"
      },
      "source": [
        "\"\"\" Removendo stop words \"\"\"\n",
        "tokenized_processed = []\n",
        "for i in range(len(reviews_tokenized)):\n",
        "  review = []\n",
        "  for j in reviews_tokenized[i]:\n",
        "    if j not in stop_words: \n",
        "      review.append(j)\n",
        "  tokenized_processed.append(review)\n",
        "\n",
        "print(f'Texto tokenizado e limpo: {tokenized_processed[:1]}')"
      ],
      "execution_count": null,
      "outputs": [
        {
          "output_type": "stream",
          "text": [
            "Texto tokenizado e limpo: [['un', 'bleeping', 'believable', 'meg', 'ryan', 'doesnt', 'even', 'look', 'usual', 'pert', 'lovable', 'self', 'normally', 'makes', 'forgive', 'shallow', 'ticky', 'acting', 'schtick', 'hard', 'believe', 'producer', 'dog', 'plus', 'kevin', 'kline', 'kind', 'suicide', 'trip', 'career', 'whoosh', 'banzai', 'finally', 'directed', 'guy', 'big', 'chill', 'must', 'replay', 'jonestown', 'hollywood', 'style', 'wooofff']]\n"
          ],
          "name": "stdout"
        }
      ]
    },
    {
      "cell_type": "code",
      "metadata": {
        "colab_type": "code",
        "id": "MlvHxt0TQnyy",
        "colab": {
          "base_uri": "https://localhost:8080/",
          "height": 54
        },
        "outputId": "0a9348a1-15fa-4ad6-ceb6-50caba8a080b"
      },
      "source": [
        "reviews = [' '.join(t) for t in tokenized_processed] # juntando as reviews ()\n",
        "reviews[2]"
      ],
      "execution_count": null,
      "outputs": [
        {
          "output_type": "execute_result",
          "data": {
            "text/plain": [
              "'every long come along awful feel compelled warn people labor days save one soul watching great joy begin discussion pain starters musical montage every five minutes development every stereotype swearing guy fat guy eats donuts goofy foreign guy etc script felt written shot production value incredibly low felt like watching junior high video presentation directors producers etc ever even seen halestorm getting worse worse every new entry concept sounded funny could go wrong gary coleman handful somewhat legitimate actors trust say things went wrong wrong'"
            ]
          },
          "metadata": {
            "tags": []
          },
          "execution_count": 20
        }
      ]
    },
    {
      "cell_type": "code",
      "metadata": {
        "colab_type": "code",
        "id": "1xEBG11vQny0",
        "colab": {}
      },
      "source": [
        "labels = df.label.to_list() # labels "
      ],
      "execution_count": null,
      "outputs": []
    },
    {
      "cell_type": "markdown",
      "metadata": {
        "id": "Wfls1IXpRZVx",
        "colab_type": "text"
      },
      "source": [
        "# MLP com TF-IDF"
      ]
    },
    {
      "cell_type": "code",
      "metadata": {
        "id": "BTCCHVRBReas",
        "colab_type": "code",
        "colab": {}
      },
      "source": [
        "from sklearn.feature_extraction.text import TfidfVectorizer\n",
        "from sklearn.model_selection import StratifiedKFold\n",
        "from sklearn.metrics import accuracy_score\n",
        "from torch.utils.data import TensorDataset\n",
        "from sklearn.model_selection import train_test_split"
      ],
      "execution_count": null,
      "outputs": []
    },
    {
      "cell_type": "code",
      "metadata": {
        "id": "_k9aTkxoRvHX",
        "colab_type": "code",
        "colab": {}
      },
      "source": [
        "# Essa função é o Tfid que faz o BoW\n",
        "def encoder_BoW(X_train,X_test):\n",
        "  tfid = TfidfVectorizer()\n",
        "  tfid.fit(X_train)\n",
        "  return tfid.transform(X_train), tfid.transform(X_test)"
      ],
      "execution_count": null,
      "outputs": []
    },
    {
      "cell_type": "code",
      "metadata": {
        "id": "eoJZK7NGR753",
        "colab_type": "code",
        "colab": {}
      },
      "source": [
        "train_X, test_X, train_y, test_y = train_test_split(reviews, \n",
        "                                                    labels, \n",
        "                                                    shuffle=True, \n",
        "                                                    test_size=0.2, \n",
        "                                                    random_state=123)"
      ],
      "execution_count": null,
      "outputs": []
    },
    {
      "cell_type": "code",
      "metadata": {
        "id": "XpGmvkw0SEjr",
        "colab_type": "code",
        "colab": {}
      },
      "source": [
        "X_train, X_test = encoder_BoW(train_X, test_X) "
      ],
      "execution_count": null,
      "outputs": []
    },
    {
      "cell_type": "code",
      "metadata": {
        "id": "UdLlKM4QSEVh",
        "colab_type": "code",
        "colab": {}
      },
      "source": [
        "# Cria o dataset (Pandas DF) de treino\n",
        "df_train = pd.DataFrame(X_train.toarray())\n",
        "df_train['label'] = train_y\n",
        "cols = df_train.columns.tolist()\n",
        "cols = cols[-1:] + cols[:-1]\n",
        "df_train = df_train[cols]\n",
        "\n",
        "# Cria o dataset (Pandas DF) de teste\n",
        "df_test = pd.DataFrame(X_test.toarray())\n",
        "df_test['label'] = test_y\n",
        "cols = df_test.columns.tolist()\n",
        "cols = cols[-1:] + cols[:-1]\n",
        "df_test = df_test[cols]"
      ],
      "execution_count": null,
      "outputs": []
    },
    {
      "cell_type": "code",
      "metadata": {
        "id": "xYXPH6lRSERo",
        "colab_type": "code",
        "colab": {
          "base_uri": "https://localhost:8080/",
          "height": 287
        },
        "outputId": "137f4217-fe2e-450f-c2ff-28b25f2a9a20"
      },
      "source": [
        "# Eu escolhi salvar e chamar os conj. de dados para minha classe dataset \n",
        "df_train.to_csv('train.csv')\n",
        "df_test.to_csv('test.csv')\n",
        "\n",
        "df_train = pd.read_csv('train.csv',index_col=0)\n",
        "df_test  = pd.read_csv('test.csv', index_col=0)\n",
        "\n",
        "print(f'df_train.shape: {df_train.shape}') \n",
        "print(f'df_test.shape: {df_test.shape}') \n",
        "\n",
        "# teste de sanidade:\n",
        "trn = pd.read_csv('train.csv', index_col=0)\n",
        "trn.head()"
      ],
      "execution_count": null,
      "outputs": [
        {
          "output_type": "stream",
          "text": [
            "df_train.shape: (800, 17300)\n",
            "df_test.shape: (200, 17300)\n"
          ],
          "name": "stdout"
        },
        {
          "output_type": "execute_result",
          "data": {
            "text/html": [
              "<div>\n",
              "<style scoped>\n",
              "    .dataframe tbody tr th:only-of-type {\n",
              "        vertical-align: middle;\n",
              "    }\n",
              "\n",
              "    .dataframe tbody tr th {\n",
              "        vertical-align: top;\n",
              "    }\n",
              "\n",
              "    .dataframe thead th {\n",
              "        text-align: right;\n",
              "    }\n",
              "</style>\n",
              "<table border=\"1\" class=\"dataframe\">\n",
              "  <thead>\n",
              "    <tr style=\"text-align: right;\">\n",
              "      <th></th>\n",
              "      <th>label</th>\n",
              "      <th>0</th>\n",
              "      <th>1</th>\n",
              "      <th>2</th>\n",
              "      <th>3</th>\n",
              "      <th>4</th>\n",
              "      <th>5</th>\n",
              "      <th>6</th>\n",
              "      <th>7</th>\n",
              "      <th>8</th>\n",
              "      <th>9</th>\n",
              "      <th>10</th>\n",
              "      <th>11</th>\n",
              "      <th>12</th>\n",
              "      <th>13</th>\n",
              "      <th>14</th>\n",
              "      <th>15</th>\n",
              "      <th>16</th>\n",
              "      <th>17</th>\n",
              "      <th>18</th>\n",
              "      <th>19</th>\n",
              "      <th>20</th>\n",
              "      <th>21</th>\n",
              "      <th>22</th>\n",
              "      <th>23</th>\n",
              "      <th>24</th>\n",
              "      <th>25</th>\n",
              "      <th>26</th>\n",
              "      <th>27</th>\n",
              "      <th>28</th>\n",
              "      <th>29</th>\n",
              "      <th>30</th>\n",
              "      <th>31</th>\n",
              "      <th>32</th>\n",
              "      <th>33</th>\n",
              "      <th>34</th>\n",
              "      <th>35</th>\n",
              "      <th>36</th>\n",
              "      <th>37</th>\n",
              "      <th>38</th>\n",
              "      <th>...</th>\n",
              "      <th>17259</th>\n",
              "      <th>17260</th>\n",
              "      <th>17261</th>\n",
              "      <th>17262</th>\n",
              "      <th>17263</th>\n",
              "      <th>17264</th>\n",
              "      <th>17265</th>\n",
              "      <th>17266</th>\n",
              "      <th>17267</th>\n",
              "      <th>17268</th>\n",
              "      <th>17269</th>\n",
              "      <th>17270</th>\n",
              "      <th>17271</th>\n",
              "      <th>17272</th>\n",
              "      <th>17273</th>\n",
              "      <th>17274</th>\n",
              "      <th>17275</th>\n",
              "      <th>17276</th>\n",
              "      <th>17277</th>\n",
              "      <th>17278</th>\n",
              "      <th>17279</th>\n",
              "      <th>17280</th>\n",
              "      <th>17281</th>\n",
              "      <th>17282</th>\n",
              "      <th>17283</th>\n",
              "      <th>17284</th>\n",
              "      <th>17285</th>\n",
              "      <th>17286</th>\n",
              "      <th>17287</th>\n",
              "      <th>17288</th>\n",
              "      <th>17289</th>\n",
              "      <th>17290</th>\n",
              "      <th>17291</th>\n",
              "      <th>17292</th>\n",
              "      <th>17293</th>\n",
              "      <th>17294</th>\n",
              "      <th>17295</th>\n",
              "      <th>17296</th>\n",
              "      <th>17297</th>\n",
              "      <th>17298</th>\n",
              "    </tr>\n",
              "  </thead>\n",
              "  <tbody>\n",
              "    <tr>\n",
              "      <th>0</th>\n",
              "      <td>0</td>\n",
              "      <td>0.0</td>\n",
              "      <td>0.0</td>\n",
              "      <td>0.0</td>\n",
              "      <td>0.0</td>\n",
              "      <td>0.0</td>\n",
              "      <td>0.0</td>\n",
              "      <td>0.0</td>\n",
              "      <td>0.000000</td>\n",
              "      <td>0.0</td>\n",
              "      <td>0.0</td>\n",
              "      <td>0.0</td>\n",
              "      <td>0.0</td>\n",
              "      <td>0.0</td>\n",
              "      <td>0.0</td>\n",
              "      <td>0.0</td>\n",
              "      <td>0.0</td>\n",
              "      <td>0.0</td>\n",
              "      <td>0.0</td>\n",
              "      <td>0.0</td>\n",
              "      <td>0.0</td>\n",
              "      <td>0.0</td>\n",
              "      <td>0.0</td>\n",
              "      <td>0.0</td>\n",
              "      <td>0.0</td>\n",
              "      <td>0.0</td>\n",
              "      <td>0.0</td>\n",
              "      <td>0.0</td>\n",
              "      <td>0.0</td>\n",
              "      <td>0.0</td>\n",
              "      <td>0.0</td>\n",
              "      <td>0.0</td>\n",
              "      <td>0.0</td>\n",
              "      <td>0.0</td>\n",
              "      <td>0.0</td>\n",
              "      <td>0.0</td>\n",
              "      <td>0.0</td>\n",
              "      <td>0.0</td>\n",
              "      <td>0.0</td>\n",
              "      <td>0.0</td>\n",
              "      <td>...</td>\n",
              "      <td>0.0</td>\n",
              "      <td>0.0</td>\n",
              "      <td>0.0</td>\n",
              "      <td>0.0</td>\n",
              "      <td>0.0</td>\n",
              "      <td>0.0</td>\n",
              "      <td>0.0</td>\n",
              "      <td>0.0</td>\n",
              "      <td>0.0</td>\n",
              "      <td>0.0</td>\n",
              "      <td>0.0</td>\n",
              "      <td>0.0</td>\n",
              "      <td>0.0</td>\n",
              "      <td>0.0</td>\n",
              "      <td>0.00000</td>\n",
              "      <td>0.0</td>\n",
              "      <td>0.0</td>\n",
              "      <td>0.0</td>\n",
              "      <td>0.0</td>\n",
              "      <td>0.0</td>\n",
              "      <td>0.0</td>\n",
              "      <td>0.0</td>\n",
              "      <td>0.0</td>\n",
              "      <td>0.0</td>\n",
              "      <td>0.124306</td>\n",
              "      <td>0.0</td>\n",
              "      <td>0.0</td>\n",
              "      <td>0.0</td>\n",
              "      <td>0.0</td>\n",
              "      <td>0.0</td>\n",
              "      <td>0.0</td>\n",
              "      <td>0.0</td>\n",
              "      <td>0.0</td>\n",
              "      <td>0.0</td>\n",
              "      <td>0.0</td>\n",
              "      <td>0.0</td>\n",
              "      <td>0.0</td>\n",
              "      <td>0.0</td>\n",
              "      <td>0.0</td>\n",
              "      <td>0.0</td>\n",
              "    </tr>\n",
              "    <tr>\n",
              "      <th>1</th>\n",
              "      <td>0</td>\n",
              "      <td>0.0</td>\n",
              "      <td>0.0</td>\n",
              "      <td>0.0</td>\n",
              "      <td>0.0</td>\n",
              "      <td>0.0</td>\n",
              "      <td>0.0</td>\n",
              "      <td>0.0</td>\n",
              "      <td>0.000000</td>\n",
              "      <td>0.0</td>\n",
              "      <td>0.0</td>\n",
              "      <td>0.0</td>\n",
              "      <td>0.0</td>\n",
              "      <td>0.0</td>\n",
              "      <td>0.0</td>\n",
              "      <td>0.0</td>\n",
              "      <td>0.0</td>\n",
              "      <td>0.0</td>\n",
              "      <td>0.0</td>\n",
              "      <td>0.0</td>\n",
              "      <td>0.0</td>\n",
              "      <td>0.0</td>\n",
              "      <td>0.0</td>\n",
              "      <td>0.0</td>\n",
              "      <td>0.0</td>\n",
              "      <td>0.0</td>\n",
              "      <td>0.0</td>\n",
              "      <td>0.0</td>\n",
              "      <td>0.0</td>\n",
              "      <td>0.0</td>\n",
              "      <td>0.0</td>\n",
              "      <td>0.0</td>\n",
              "      <td>0.0</td>\n",
              "      <td>0.0</td>\n",
              "      <td>0.0</td>\n",
              "      <td>0.0</td>\n",
              "      <td>0.0</td>\n",
              "      <td>0.0</td>\n",
              "      <td>0.0</td>\n",
              "      <td>0.0</td>\n",
              "      <td>...</td>\n",
              "      <td>0.0</td>\n",
              "      <td>0.0</td>\n",
              "      <td>0.0</td>\n",
              "      <td>0.0</td>\n",
              "      <td>0.0</td>\n",
              "      <td>0.0</td>\n",
              "      <td>0.0</td>\n",
              "      <td>0.0</td>\n",
              "      <td>0.0</td>\n",
              "      <td>0.0</td>\n",
              "      <td>0.0</td>\n",
              "      <td>0.0</td>\n",
              "      <td>0.0</td>\n",
              "      <td>0.0</td>\n",
              "      <td>0.00000</td>\n",
              "      <td>0.0</td>\n",
              "      <td>0.0</td>\n",
              "      <td>0.0</td>\n",
              "      <td>0.0</td>\n",
              "      <td>0.0</td>\n",
              "      <td>0.0</td>\n",
              "      <td>0.0</td>\n",
              "      <td>0.0</td>\n",
              "      <td>0.0</td>\n",
              "      <td>0.000000</td>\n",
              "      <td>0.0</td>\n",
              "      <td>0.0</td>\n",
              "      <td>0.0</td>\n",
              "      <td>0.0</td>\n",
              "      <td>0.0</td>\n",
              "      <td>0.0</td>\n",
              "      <td>0.0</td>\n",
              "      <td>0.0</td>\n",
              "      <td>0.0</td>\n",
              "      <td>0.0</td>\n",
              "      <td>0.0</td>\n",
              "      <td>0.0</td>\n",
              "      <td>0.0</td>\n",
              "      <td>0.0</td>\n",
              "      <td>0.0</td>\n",
              "    </tr>\n",
              "    <tr>\n",
              "      <th>2</th>\n",
              "      <td>0</td>\n",
              "      <td>0.0</td>\n",
              "      <td>0.0</td>\n",
              "      <td>0.0</td>\n",
              "      <td>0.0</td>\n",
              "      <td>0.0</td>\n",
              "      <td>0.0</td>\n",
              "      <td>0.0</td>\n",
              "      <td>0.000000</td>\n",
              "      <td>0.0</td>\n",
              "      <td>0.0</td>\n",
              "      <td>0.0</td>\n",
              "      <td>0.0</td>\n",
              "      <td>0.0</td>\n",
              "      <td>0.0</td>\n",
              "      <td>0.0</td>\n",
              "      <td>0.0</td>\n",
              "      <td>0.0</td>\n",
              "      <td>0.0</td>\n",
              "      <td>0.0</td>\n",
              "      <td>0.0</td>\n",
              "      <td>0.0</td>\n",
              "      <td>0.0</td>\n",
              "      <td>0.0</td>\n",
              "      <td>0.0</td>\n",
              "      <td>0.0</td>\n",
              "      <td>0.0</td>\n",
              "      <td>0.0</td>\n",
              "      <td>0.0</td>\n",
              "      <td>0.0</td>\n",
              "      <td>0.0</td>\n",
              "      <td>0.0</td>\n",
              "      <td>0.0</td>\n",
              "      <td>0.0</td>\n",
              "      <td>0.0</td>\n",
              "      <td>0.0</td>\n",
              "      <td>0.0</td>\n",
              "      <td>0.0</td>\n",
              "      <td>0.0</td>\n",
              "      <td>0.0</td>\n",
              "      <td>...</td>\n",
              "      <td>0.0</td>\n",
              "      <td>0.0</td>\n",
              "      <td>0.0</td>\n",
              "      <td>0.0</td>\n",
              "      <td>0.0</td>\n",
              "      <td>0.0</td>\n",
              "      <td>0.0</td>\n",
              "      <td>0.0</td>\n",
              "      <td>0.0</td>\n",
              "      <td>0.0</td>\n",
              "      <td>0.0</td>\n",
              "      <td>0.0</td>\n",
              "      <td>0.0</td>\n",
              "      <td>0.0</td>\n",
              "      <td>0.00000</td>\n",
              "      <td>0.0</td>\n",
              "      <td>0.0</td>\n",
              "      <td>0.0</td>\n",
              "      <td>0.0</td>\n",
              "      <td>0.0</td>\n",
              "      <td>0.0</td>\n",
              "      <td>0.0</td>\n",
              "      <td>0.0</td>\n",
              "      <td>0.0</td>\n",
              "      <td>0.000000</td>\n",
              "      <td>0.0</td>\n",
              "      <td>0.0</td>\n",
              "      <td>0.0</td>\n",
              "      <td>0.0</td>\n",
              "      <td>0.0</td>\n",
              "      <td>0.0</td>\n",
              "      <td>0.0</td>\n",
              "      <td>0.0</td>\n",
              "      <td>0.0</td>\n",
              "      <td>0.0</td>\n",
              "      <td>0.0</td>\n",
              "      <td>0.0</td>\n",
              "      <td>0.0</td>\n",
              "      <td>0.0</td>\n",
              "      <td>0.0</td>\n",
              "    </tr>\n",
              "    <tr>\n",
              "      <th>3</th>\n",
              "      <td>0</td>\n",
              "      <td>0.0</td>\n",
              "      <td>0.0</td>\n",
              "      <td>0.0</td>\n",
              "      <td>0.0</td>\n",
              "      <td>0.0</td>\n",
              "      <td>0.0</td>\n",
              "      <td>0.0</td>\n",
              "      <td>0.038289</td>\n",
              "      <td>0.0</td>\n",
              "      <td>0.0</td>\n",
              "      <td>0.0</td>\n",
              "      <td>0.0</td>\n",
              "      <td>0.0</td>\n",
              "      <td>0.0</td>\n",
              "      <td>0.0</td>\n",
              "      <td>0.0</td>\n",
              "      <td>0.0</td>\n",
              "      <td>0.0</td>\n",
              "      <td>0.0</td>\n",
              "      <td>0.0</td>\n",
              "      <td>0.0</td>\n",
              "      <td>0.0</td>\n",
              "      <td>0.0</td>\n",
              "      <td>0.0</td>\n",
              "      <td>0.0</td>\n",
              "      <td>0.0</td>\n",
              "      <td>0.0</td>\n",
              "      <td>0.0</td>\n",
              "      <td>0.0</td>\n",
              "      <td>0.0</td>\n",
              "      <td>0.0</td>\n",
              "      <td>0.0</td>\n",
              "      <td>0.0</td>\n",
              "      <td>0.0</td>\n",
              "      <td>0.0</td>\n",
              "      <td>0.0</td>\n",
              "      <td>0.0</td>\n",
              "      <td>0.0</td>\n",
              "      <td>0.0</td>\n",
              "      <td>...</td>\n",
              "      <td>0.0</td>\n",
              "      <td>0.0</td>\n",
              "      <td>0.0</td>\n",
              "      <td>0.0</td>\n",
              "      <td>0.0</td>\n",
              "      <td>0.0</td>\n",
              "      <td>0.0</td>\n",
              "      <td>0.0</td>\n",
              "      <td>0.0</td>\n",
              "      <td>0.0</td>\n",
              "      <td>0.0</td>\n",
              "      <td>0.0</td>\n",
              "      <td>0.0</td>\n",
              "      <td>0.0</td>\n",
              "      <td>0.06225</td>\n",
              "      <td>0.0</td>\n",
              "      <td>0.0</td>\n",
              "      <td>0.0</td>\n",
              "      <td>0.0</td>\n",
              "      <td>0.0</td>\n",
              "      <td>0.0</td>\n",
              "      <td>0.0</td>\n",
              "      <td>0.0</td>\n",
              "      <td>0.0</td>\n",
              "      <td>0.000000</td>\n",
              "      <td>0.0</td>\n",
              "      <td>0.0</td>\n",
              "      <td>0.0</td>\n",
              "      <td>0.0</td>\n",
              "      <td>0.0</td>\n",
              "      <td>0.0</td>\n",
              "      <td>0.0</td>\n",
              "      <td>0.0</td>\n",
              "      <td>0.0</td>\n",
              "      <td>0.0</td>\n",
              "      <td>0.0</td>\n",
              "      <td>0.0</td>\n",
              "      <td>0.0</td>\n",
              "      <td>0.0</td>\n",
              "      <td>0.0</td>\n",
              "    </tr>\n",
              "    <tr>\n",
              "      <th>4</th>\n",
              "      <td>1</td>\n",
              "      <td>0.0</td>\n",
              "      <td>0.0</td>\n",
              "      <td>0.0</td>\n",
              "      <td>0.0</td>\n",
              "      <td>0.0</td>\n",
              "      <td>0.0</td>\n",
              "      <td>0.0</td>\n",
              "      <td>0.000000</td>\n",
              "      <td>0.0</td>\n",
              "      <td>0.0</td>\n",
              "      <td>0.0</td>\n",
              "      <td>0.0</td>\n",
              "      <td>0.0</td>\n",
              "      <td>0.0</td>\n",
              "      <td>0.0</td>\n",
              "      <td>0.0</td>\n",
              "      <td>0.0</td>\n",
              "      <td>0.0</td>\n",
              "      <td>0.0</td>\n",
              "      <td>0.0</td>\n",
              "      <td>0.0</td>\n",
              "      <td>0.0</td>\n",
              "      <td>0.0</td>\n",
              "      <td>0.0</td>\n",
              "      <td>0.0</td>\n",
              "      <td>0.0</td>\n",
              "      <td>0.0</td>\n",
              "      <td>0.0</td>\n",
              "      <td>0.0</td>\n",
              "      <td>0.0</td>\n",
              "      <td>0.0</td>\n",
              "      <td>0.0</td>\n",
              "      <td>0.0</td>\n",
              "      <td>0.0</td>\n",
              "      <td>0.0</td>\n",
              "      <td>0.0</td>\n",
              "      <td>0.0</td>\n",
              "      <td>0.0</td>\n",
              "      <td>0.0</td>\n",
              "      <td>...</td>\n",
              "      <td>0.0</td>\n",
              "      <td>0.0</td>\n",
              "      <td>0.0</td>\n",
              "      <td>0.0</td>\n",
              "      <td>0.0</td>\n",
              "      <td>0.0</td>\n",
              "      <td>0.0</td>\n",
              "      <td>0.0</td>\n",
              "      <td>0.0</td>\n",
              "      <td>0.0</td>\n",
              "      <td>0.0</td>\n",
              "      <td>0.0</td>\n",
              "      <td>0.0</td>\n",
              "      <td>0.0</td>\n",
              "      <td>0.00000</td>\n",
              "      <td>0.0</td>\n",
              "      <td>0.0</td>\n",
              "      <td>0.0</td>\n",
              "      <td>0.0</td>\n",
              "      <td>0.0</td>\n",
              "      <td>0.0</td>\n",
              "      <td>0.0</td>\n",
              "      <td>0.0</td>\n",
              "      <td>0.0</td>\n",
              "      <td>0.000000</td>\n",
              "      <td>0.0</td>\n",
              "      <td>0.0</td>\n",
              "      <td>0.0</td>\n",
              "      <td>0.0</td>\n",
              "      <td>0.0</td>\n",
              "      <td>0.0</td>\n",
              "      <td>0.0</td>\n",
              "      <td>0.0</td>\n",
              "      <td>0.0</td>\n",
              "      <td>0.0</td>\n",
              "      <td>0.0</td>\n",
              "      <td>0.0</td>\n",
              "      <td>0.0</td>\n",
              "      <td>0.0</td>\n",
              "      <td>0.0</td>\n",
              "    </tr>\n",
              "  </tbody>\n",
              "</table>\n",
              "<p>5 rows × 17300 columns</p>\n",
              "</div>"
            ],
            "text/plain": [
              "   label    0    1    2    3    4  ...  17293  17294  17295  17296  17297  17298\n",
              "0      0  0.0  0.0  0.0  0.0  0.0  ...    0.0    0.0    0.0    0.0    0.0    0.0\n",
              "1      0  0.0  0.0  0.0  0.0  0.0  ...    0.0    0.0    0.0    0.0    0.0    0.0\n",
              "2      0  0.0  0.0  0.0  0.0  0.0  ...    0.0    0.0    0.0    0.0    0.0    0.0\n",
              "3      0  0.0  0.0  0.0  0.0  0.0  ...    0.0    0.0    0.0    0.0    0.0    0.0\n",
              "4      1  0.0  0.0  0.0  0.0  0.0  ...    0.0    0.0    0.0    0.0    0.0    0.0\n",
              "\n",
              "[5 rows x 17300 columns]"
            ]
          },
          "metadata": {
            "tags": []
          },
          "execution_count": 27
        }
      ]
    },
    {
      "cell_type": "markdown",
      "metadata": {
        "id": "0BRCURh3-3LV",
        "colab_type": "text"
      },
      "source": [
        "## ImdbDataset Class\n"
      ]
    },
    {
      "cell_type": "code",
      "metadata": {
        "id": "RAqGXfrFQMMO",
        "colab_type": "code",
        "colab": {}
      },
      "source": [
        "from torch.utils.data import Dataset, DataLoader\n",
        "\n",
        "# Classe que cria o dataset\n",
        "class ImdbDataset(Dataset):\n",
        "  def __init__(self, csv_path):\n",
        "    super(ImdbDataset, self).__init__()\n",
        "    data = pd.read_csv(csv_path, index_col=0)\n",
        "    \n",
        "    self.target =  data.label.to_numpy().copy()\n",
        "    self.x      =  data.drop(['label'], axis=1).to_numpy().copy()\n",
        "\n",
        "    self.target = torch.from_numpy(self.target).type(torch.LongTensor)\n",
        "    self.x      = torch.from_numpy(self.x).type(torch.FloatTensor)\n",
        "\n",
        "  def __len__(self):\n",
        "    return self.x.shape[0]\n",
        "  \n",
        "  def __getitem__(self, index):\n",
        "    return self.x[index], self.target[index]"
      ],
      "execution_count": null,
      "outputs": []
    },
    {
      "cell_type": "code",
      "metadata": {
        "id": "vqZlXss-TfwF",
        "colab_type": "code",
        "colab": {
          "base_uri": "https://localhost:8080/",
          "height": 34
        },
        "outputId": "62815ca7-c129-4b3e-f15a-e92a9c7c8e88"
      },
      "source": [
        "# teste de sanidade:\n",
        "ds = ImdbDataset('train.csv')\n",
        "x0, y0 = ds[4]\n",
        "x0, y0"
      ],
      "execution_count": null,
      "outputs": [
        {
          "output_type": "execute_result",
          "data": {
            "text/plain": [
              "(tensor([0., 0., 0.,  ..., 0., 0., 0.]), tensor(1))"
            ]
          },
          "metadata": {
            "tags": []
          },
          "execution_count": 29
        }
      ]
    },
    {
      "cell_type": "code",
      "metadata": {
        "id": "tAk6DQ1yTfuQ",
        "colab_type": "code",
        "colab": {
          "base_uri": "https://localhost:8080/",
          "height": 51
        },
        "outputId": "36cb6025-5000-4dc4-a716-e240e2ece622"
      },
      "source": [
        "# teste de sanidade:\n",
        "train_loader = DataLoader(ds, 100, shuffle=False)\n",
        "x, y = next(iter(train_loader))\n",
        "\n",
        "print(f'input shape: {x.shape}') \n",
        "print(f'label shape: {y.shape}')"
      ],
      "execution_count": null,
      "outputs": [
        {
          "output_type": "stream",
          "text": [
            "input shape: torch.Size([100, 17299])\n",
            "label shape: torch.Size([100])\n"
          ],
          "name": "stdout"
        }
      ]
    },
    {
      "cell_type": "markdown",
      "metadata": {
        "id": "s-LjltlrW7A8",
        "colab_type": "text"
      },
      "source": [
        "# Modelo MLP"
      ]
    },
    {
      "cell_type": "code",
      "metadata": {
        "id": "HbhuNuUouDm1",
        "colab_type": "code",
        "colab": {}
      },
      "source": [
        "class MLP(nn.Module):\n",
        "  def __init__(self, vocab_dim, neur1, neur2, drop, out):\n",
        "    super(MLP, self).__init__()\n",
        "    \n",
        "    self.norm0 = nn.LayerNorm(vocab_dim) # <- norm. do dado de entrada\n",
        "    self.drop = nn.Dropout(drop)\n",
        "    self.relu = nn.ReLU() \n",
        "    \n",
        "    self.fc0 = nn.Linear(vocab_dim, neur1)\n",
        "    self.fc1 = nn.Linear(neur1, neur2)\n",
        "    self.fc2 = nn.Linear(neur2, out) \n",
        "\n",
        "  def forward(self, x):\n",
        "    o = self.norm0(x)\n",
        "    o = self.drop(self.relu(self.fc0(o)))\n",
        "    o = self.drop(self.relu(self.fc1(o)))\n",
        "    return self.fc2(o)"
      ],
      "execution_count": null,
      "outputs": []
    },
    {
      "cell_type": "markdown",
      "metadata": {
        "id": "cNsSvtlWatOQ",
        "colab_type": "text"
      },
      "source": [
        "### Glorot init para os pesos e zero init para os bias"
      ]
    },
    {
      "cell_type": "code",
      "metadata": {
        "id": "YgOSxS0FZP_U",
        "colab_type": "code",
        "colab": {}
      },
      "source": [
        "# pesos iniciados com valores (0,std²)\n",
        "def weights_init(m):\n",
        "  if isinstance(m, nn.Linear):\n",
        "    torch.nn.init.xavier_normal_(m.weight.data, gain=nn.init.calculate_gain('relu'))\n",
        "    torch.nn.init.zeros_(m.bias.data)"
      ],
      "execution_count": null,
      "outputs": []
    },
    {
      "cell_type": "code",
      "metadata": {
        "id": "P5-H9f2yuDko",
        "colab_type": "code",
        "colab": {
          "base_uri": "https://localhost:8080/",
          "height": 34
        },
        "outputId": "867578df-e2a6-41fe-f04d-b4c278bb41e5"
      },
      "source": [
        "# Hyperparams do modelo\n",
        "VOCAB_SIZE, H1,H2,D,O, = df_train.shape[1] -1, 70, 39, 0.5, df.label.nunique()\n",
        "\n",
        "model       = MLP(VOCAB_SIZE, H1, H2, D, O)\n",
        "# model.apply(weights_init)\n",
        "\n",
        "# teste de sanidade:\n",
        "x,y = next(iter(train_loader))\n",
        "model(x).shape"
      ],
      "execution_count": null,
      "outputs": [
        {
          "output_type": "execute_result",
          "data": {
            "text/plain": [
              "torch.Size([100, 2])"
            ]
          },
          "metadata": {
            "tags": []
          },
          "execution_count": 33
        }
      ]
    },
    {
      "cell_type": "markdown",
      "metadata": {
        "id": "a-8z3-ly_eu0",
        "colab_type": "text"
      },
      "source": [
        "## Dataloaders, Minibatches and Criterion\n"
      ]
    },
    {
      "cell_type": "code",
      "metadata": {
        "id": "xsOA55HJgTTN",
        "colab_type": "code",
        "colab": {
          "base_uri": "https://localhost:8080/",
          "height": 34
        },
        "outputId": "9cb1e717-8765-4aa8-9b5a-88d652bc7779"
      },
      "source": [
        "BATCH_SIZE = 20\n",
        "\n",
        "# Cria datasets (train / valid)\n",
        "dataset_train  = ImdbDataset('train.csv')\n",
        "dataset_valid  = ImdbDataset('test.csv')\n",
        "\n",
        "# Cria o dataloder_bow de treino\n",
        "train_loader_bow = DataLoader(dataset=dataset_train, batch_size=BATCH_SIZE, shuffle=True)\n",
        "\n",
        "# Cria o dataloader_bow de valid\n",
        "valid_loader_bow = DataLoader(dataset=dataset_valid, batch_size=BATCH_SIZE, shuffle=False)                       \n",
        "\n",
        "print(len(train_loader_bow), len(valid_loader_bow))"
      ],
      "execution_count": null,
      "outputs": [
        {
          "output_type": "stream",
          "text": [
            "40 10\n"
          ],
          "name": "stdout"
        }
      ]
    },
    {
      "cell_type": "markdown",
      "metadata": {
        "id": "pG0fxVNr_AQR",
        "colab_type": "text"
      },
      "source": [
        "# Busca de hyperparams - Optuna\n"
      ]
    },
    {
      "cell_type": "code",
      "metadata": {
        "id": "J1IE49M-dcwm",
        "colab_type": "code",
        "colab": {
          "base_uri": "https://localhost:8080/",
          "height": 238
        },
        "outputId": "783ab350-b6fa-4d4f-f172-7377995be09d"
      },
      "source": [
        "!pip install -q optuna\n",
        "!pip install -q torch_optimizer\n",
        "import torch_optimizer as optim\n",
        "import optuna\n",
        "from optuna.samplers import RandomSampler"
      ],
      "execution_count": null,
      "outputs": [
        {
          "output_type": "stream",
          "text": [
            "\u001b[K     |████████████████████████████████| 153kB 33.7MB/s \n",
            "\u001b[K     |████████████████████████████████| 1.1MB 47.4MB/s \n",
            "\u001b[?25h  Installing build dependencies ... \u001b[?25l\u001b[?25hdone\n",
            "  Getting requirements to build wheel ... \u001b[?25l\u001b[?25hdone\n",
            "    Preparing wheel metadata ... \u001b[?25l\u001b[?25hdone\n",
            "\u001b[K     |████████████████████████████████| 81kB 11.7MB/s \n",
            "\u001b[K     |████████████████████████████████| 81kB 12.1MB/s \n",
            "\u001b[K     |████████████████████████████████| 51kB 8.1MB/s \n",
            "\u001b[K     |████████████████████████████████| 61kB 10.0MB/s \n",
            "\u001b[K     |████████████████████████████████| 112kB 65.3MB/s \n",
            "\u001b[?25h  Building wheel for alembic (PEP 517) ... \u001b[?25l\u001b[?25hdone\n",
            "  Building wheel for optuna (setup.py) ... \u001b[?25l\u001b[?25hdone\n",
            "  Building wheel for pyperclip (setup.py) ... \u001b[?25l\u001b[?25hdone\n"
          ],
          "name": "stdout"
        }
      ]
    },
    {
      "cell_type": "code",
      "metadata": {
        "id": "I5euDxHNdcr0",
        "colab_type": "code",
        "colab": {}
      },
      "source": [
        "EPOCH = 10\n",
        "\n",
        "# Função trial que busca o melhor optmin e a melhor lr\n",
        "def get_optimizer(trial, model):\n",
        "    optimizer_name = trial.suggest_categorical('optimizer', ['AdaMod', 'Yogi'])\n",
        "    lr_optmzd = trial.suggest_uniform('optim_lr', 3*1e-4, 2*1e-3)\n",
        "    return getattr(optim, optimizer_name)(model.parameters(), lr=lr_optmzd)\n",
        "\n",
        "# Função obj que tenta max a acurácia\n",
        "def objective(trial):\n",
        "  h1     = int(trial.suggest_uniform(\"h1_units\", 60, 90))\n",
        "  h2     = int(trial.suggest_uniform(\"h2_units\", 20, 50))\n",
        "  drop   = trial.suggest_uniform(\"drop\", 0.2, 0.7)\n",
        "  smooth = trial.suggest_uniform(\"smooth\", 0.1, 0.35)\n",
        "  \n",
        "  criterion = LabelSmoothing(smooth)     \n",
        "  model     = MLP(VOCAB_SIZE, h1, h2, drop, O).to(device)\n",
        "  model.apply(weights_init)    \n",
        "  optimizer = get_optimizer(trial, model)\n",
        "\n",
        "  for step in range(EPOCH):\n",
        "    loss_train, _ = train(model, device, train_loader_bow, criterion, optimizer)\n",
        "    loss_valid, _, acc = test(model, device, valid_loader_bow, criterion)\n",
        "\n",
        "  return acc"
      ],
      "execution_count": null,
      "outputs": []
    },
    {
      "cell_type": "code",
      "metadata": {
        "id": "6iztIgc6nMQU",
        "colab_type": "code",
        "colab": {}
      },
      "source": [
        "deterministic() # <- ter certeza que tudo foi zerado para o teste ser reproduzível\n",
        "\n",
        "# Running optuna\n",
        "study = optuna.create_study(direction='maximize', sampler=RandomSampler(manualSeed))\n",
        "study.optimize(objective, n_trials=200)\n",
        "print('Number of finished trials: ', len(study.trials))\n",
        "print('Best trial:')\n",
        "trial = study.best_trial\n",
        "print('  Value: ', trial.value)\n",
        "print('  Params: ')\n",
        "\n",
        "for key, value in trial.params.items():\n",
        "    print(f'    {key}: {value}')"
      ],
      "execution_count": null,
      "outputs": []
    },
    {
      "cell_type": "code",
      "metadata": {
        "id": "O0IpOsCch0xa",
        "colab_type": "code",
        "colab": {
          "base_uri": "https://localhost:8080/",
          "height": 119
        },
        "outputId": "1feae1fe-14d2-4da8-ad37-16ecfc5ea758"
      },
      "source": [
        "# Melhor conj. de params encontrado\n",
        "study.best_params"
      ],
      "execution_count": null,
      "outputs": [
        {
          "output_type": "execute_result",
          "data": {
            "text/plain": [
              "{'drop': 0.358600871034648,\n",
              " 'h1_units': 70.14022844516676,\n",
              " 'h2_units': 40.242569667770624,\n",
              " 'optim_lr': 0.0009268327901236391,\n",
              " 'optimizer': 'Yogi',\n",
              " 'smooth': 0.29458637050647724}"
            ]
          },
          "metadata": {
            "tags": []
          },
          "execution_count": 168
        }
      ]
    },
    {
      "cell_type": "markdown",
      "metadata": {
        "id": "arKdxyc5BryW",
        "colab_type": "text"
      },
      "source": [
        "## Optuna Visualization\n",
        "- nice plots"
      ]
    },
    {
      "cell_type": "code",
      "metadata": {
        "id": "s9HBN5SO-XEx",
        "colab_type": "code",
        "colab": {
          "base_uri": "https://localhost:8080/",
          "height": 542
        },
        "outputId": "243c8f4a-1f69-4e8d-eacb-37085d647886"
      },
      "source": [
        "optuna.visualization.plot_optimization_history(study)"
      ],
      "execution_count": null,
      "outputs": [
        {
          "output_type": "display_data",
          "data": {
            "text/html": [
              "<html>\n",
              "<head><meta charset=\"utf-8\" /></head>\n",
              "<body>\n",
              "    <div>\n",
              "            <script src=\"https://cdnjs.cloudflare.com/ajax/libs/mathjax/2.7.5/MathJax.js?config=TeX-AMS-MML_SVG\"></script><script type=\"text/javascript\">if (window.MathJax) {MathJax.Hub.Config({SVG: {font: \"STIX-Web\"}});}</script>\n",
              "                <script type=\"text/javascript\">window.PlotlyConfig = {MathJaxConfig: 'local'};</script>\n",
              "        <script src=\"https://cdn.plot.ly/plotly-latest.min.js\"></script>    \n",
              "            <div id=\"12aa4c4f-1ebb-4b13-a14c-0cf9afb72066\" class=\"plotly-graph-div\" style=\"height:525px; width:100%;\"></div>\n",
              "            <script type=\"text/javascript\">\n",
              "                \n",
              "                    window.PLOTLYENV=window.PLOTLYENV || {};\n",
              "                    \n",
              "                if (document.getElementById(\"12aa4c4f-1ebb-4b13-a14c-0cf9afb72066\")) {\n",
              "                    Plotly.newPlot(\n",
              "                        '12aa4c4f-1ebb-4b13-a14c-0cf9afb72066',\n",
              "                        [{\"mode\": \"markers\", \"name\": \"Objective Value\", \"type\": \"scatter\", \"x\": [0, 1, 2, 3, 4, 5, 6, 7, 8, 9, 10, 11, 12, 13, 14, 15, 16, 17, 18, 19, 20, 21, 22, 23, 24, 25, 26, 27, 28, 29, 30, 31, 32, 33, 34, 35, 36, 37, 38, 39, 40, 41, 42, 43, 44, 45, 46, 47, 48, 49, 50, 51, 52, 53, 54, 55, 56, 57, 58, 59, 60, 61, 62, 63, 64, 65, 66, 67, 68, 69, 70, 71, 72, 73, 74, 75, 76, 77, 78, 79, 80, 81, 82, 83, 84, 85, 86, 87, 88, 89, 90, 91, 92, 93, 94, 95, 96, 97, 98, 99, 100, 101, 102, 103, 104, 105, 106, 107, 108, 109, 110, 111, 112, 113, 114, 115, 116, 117, 118, 119, 120, 121, 122, 123, 124, 125, 126, 127, 128, 129, 130, 131, 132, 133, 134, 135, 136, 137, 138, 139, 140, 141, 142, 143, 144, 145, 146, 147, 148, 149, 150, 151, 152, 153, 154, 155, 156, 157, 158, 159, 160, 161, 162, 163, 164, 165, 166, 167, 168, 169, 170, 171, 172, 173, 174, 175, 176, 177, 178, 179, 180, 181, 182, 183, 184, 185, 186, 187, 188, 189, 190, 191, 192, 193, 194, 195, 196, 197, 198, 199], \"y\": [0.87, 0.845, 0.835, 0.84, 0.85, 0.835, 0.81, 0.83, 0.8, 0.83, 0.825, 0.875, 0.845, 0.84, 0.83, 0.845, 0.83, 0.85, 0.85, 0.845, 0.835, 0.805, 0.84, 0.83, 0.85, 0.815, 0.82, 0.835, 0.825, 0.835, 0.815, 0.85, 0.845, 0.81, 0.85, 0.845, 0.83, 0.825, 0.835, 0.805, 0.855, 0.82, 0.845, 0.865, 0.825, 0.815, 0.84, 0.825, 0.84, 0.81, 0.825, 0.835, 0.835, 0.82, 0.87, 0.83, 0.845, 0.825, 0.845, 0.805, 0.84, 0.83, 0.805, 0.84, 0.84, 0.855, 0.805, 0.82, 0.815, 0.83, 0.82, 0.855, 0.82, 0.84, 0.82, 0.815, 0.845, 0.83, 0.815, 0.825, 0.81, 0.855, 0.84, 0.835, 0.83, 0.845, 0.84, 0.83, 0.865, 0.82, 0.825, 0.82, 0.825, 0.825, 0.84, 0.795, 0.845, 0.82, 0.835, 0.84, 0.84, 0.835, 0.81, 0.845, 0.855, 0.845, 0.83, 0.825, 0.82, 0.835, 0.835, 0.815, 0.85, 0.835, 0.85, 0.845, 0.86, 0.82, 0.84, 0.8, 0.815, 0.835, 0.83, 0.805, 0.83, 0.855, 0.84, 0.83, 0.805, 0.785, 0.84, 0.83, 0.82, 0.84, 0.835, 0.83, 0.85, 0.815, 0.845, 0.835, 0.855, 0.81, 0.84, 0.81, 0.84, 0.835, 0.835, 0.84, 0.845, 0.815, 0.83, 0.85, 0.835, 0.8, 0.84, 0.83, 0.805, 0.855, 0.81, 0.84, 0.81, 0.84, 0.83, 0.84, 0.835, 0.82, 0.855, 0.825, 0.815, 0.83, 0.86, 0.83, 0.84, 0.825, 0.845, 0.855, 0.815, 0.83, 0.835, 0.805, 0.85, 0.84, 0.845, 0.81, 0.8, 0.85, 0.87, 0.785, 0.79, 0.8, 0.84, 0.835, 0.835, 0.845, 0.81, 0.835, 0.84, 0.825, 0.855, 0.86]}, {\"name\": \"Best Value\", \"type\": \"scatter\", \"x\": [0, 1, 2, 3, 4, 5, 6, 7, 8, 9, 10, 11, 12, 13, 14, 15, 16, 17, 18, 19, 20, 21, 22, 23, 24, 25, 26, 27, 28, 29, 30, 31, 32, 33, 34, 35, 36, 37, 38, 39, 40, 41, 42, 43, 44, 45, 46, 47, 48, 49, 50, 51, 52, 53, 54, 55, 56, 57, 58, 59, 60, 61, 62, 63, 64, 65, 66, 67, 68, 69, 70, 71, 72, 73, 74, 75, 76, 77, 78, 79, 80, 81, 82, 83, 84, 85, 86, 87, 88, 89, 90, 91, 92, 93, 94, 95, 96, 97, 98, 99, 100, 101, 102, 103, 104, 105, 106, 107, 108, 109, 110, 111, 112, 113, 114, 115, 116, 117, 118, 119, 120, 121, 122, 123, 124, 125, 126, 127, 128, 129, 130, 131, 132, 133, 134, 135, 136, 137, 138, 139, 140, 141, 142, 143, 144, 145, 146, 147, 148, 149, 150, 151, 152, 153, 154, 155, 156, 157, 158, 159, 160, 161, 162, 163, 164, 165, 166, 167, 168, 169, 170, 171, 172, 173, 174, 175, 176, 177, 178, 179, 180, 181, 182, 183, 184, 185, 186, 187, 188, 189, 190, 191, 192, 193, 194, 195, 196, 197, 198, 199], \"y\": [0.87, 0.87, 0.87, 0.87, 0.87, 0.87, 0.87, 0.87, 0.87, 0.87, 0.87, 0.875, 0.875, 0.875, 0.875, 0.875, 0.875, 0.875, 0.875, 0.875, 0.875, 0.875, 0.875, 0.875, 0.875, 0.875, 0.875, 0.875, 0.875, 0.875, 0.875, 0.875, 0.875, 0.875, 0.875, 0.875, 0.875, 0.875, 0.875, 0.875, 0.875, 0.875, 0.875, 0.875, 0.875, 0.875, 0.875, 0.875, 0.875, 0.875, 0.875, 0.875, 0.875, 0.875, 0.875, 0.875, 0.875, 0.875, 0.875, 0.875, 0.875, 0.875, 0.875, 0.875, 0.875, 0.875, 0.875, 0.875, 0.875, 0.875, 0.875, 0.875, 0.875, 0.875, 0.875, 0.875, 0.875, 0.875, 0.875, 0.875, 0.875, 0.875, 0.875, 0.875, 0.875, 0.875, 0.875, 0.875, 0.875, 0.875, 0.875, 0.875, 0.875, 0.875, 0.875, 0.875, 0.875, 0.875, 0.875, 0.875, 0.875, 0.875, 0.875, 0.875, 0.875, 0.875, 0.875, 0.875, 0.875, 0.875, 0.875, 0.875, 0.875, 0.875, 0.875, 0.875, 0.875, 0.875, 0.875, 0.875, 0.875, 0.875, 0.875, 0.875, 0.875, 0.875, 0.875, 0.875, 0.875, 0.875, 0.875, 0.875, 0.875, 0.875, 0.875, 0.875, 0.875, 0.875, 0.875, 0.875, 0.875, 0.875, 0.875, 0.875, 0.875, 0.875, 0.875, 0.875, 0.875, 0.875, 0.875, 0.875, 0.875, 0.875, 0.875, 0.875, 0.875, 0.875, 0.875, 0.875, 0.875, 0.875, 0.875, 0.875, 0.875, 0.875, 0.875, 0.875, 0.875, 0.875, 0.875, 0.875, 0.875, 0.875, 0.875, 0.875, 0.875, 0.875, 0.875, 0.875, 0.875, 0.875, 0.875, 0.875, 0.875, 0.875, 0.875, 0.875, 0.875, 0.875, 0.875, 0.875, 0.875, 0.875, 0.875, 0.875, 0.875, 0.875, 0.875, 0.875]}],\n",
              "                        {\"template\": {\"data\": {\"bar\": [{\"error_x\": {\"color\": \"#2a3f5f\"}, \"error_y\": {\"color\": \"#2a3f5f\"}, \"marker\": {\"line\": {\"color\": \"#E5ECF6\", \"width\": 0.5}}, \"type\": \"bar\"}], \"barpolar\": [{\"marker\": {\"line\": {\"color\": \"#E5ECF6\", \"width\": 0.5}}, \"type\": \"barpolar\"}], \"carpet\": [{\"aaxis\": {\"endlinecolor\": \"#2a3f5f\", \"gridcolor\": \"white\", \"linecolor\": \"white\", \"minorgridcolor\": \"white\", \"startlinecolor\": \"#2a3f5f\"}, \"baxis\": {\"endlinecolor\": \"#2a3f5f\", \"gridcolor\": \"white\", \"linecolor\": \"white\", \"minorgridcolor\": \"white\", \"startlinecolor\": \"#2a3f5f\"}, \"type\": \"carpet\"}], \"choropleth\": [{\"colorbar\": {\"outlinewidth\": 0, \"ticks\": \"\"}, \"type\": \"choropleth\"}], \"contour\": [{\"colorbar\": {\"outlinewidth\": 0, \"ticks\": \"\"}, \"colorscale\": [[0.0, \"#0d0887\"], [0.1111111111111111, \"#46039f\"], [0.2222222222222222, \"#7201a8\"], [0.3333333333333333, \"#9c179e\"], [0.4444444444444444, \"#bd3786\"], [0.5555555555555556, \"#d8576b\"], [0.6666666666666666, \"#ed7953\"], [0.7777777777777778, \"#fb9f3a\"], [0.8888888888888888, \"#fdca26\"], [1.0, \"#f0f921\"]], \"type\": \"contour\"}], \"contourcarpet\": [{\"colorbar\": {\"outlinewidth\": 0, \"ticks\": \"\"}, \"type\": \"contourcarpet\"}], \"heatmap\": [{\"colorbar\": {\"outlinewidth\": 0, \"ticks\": \"\"}, \"colorscale\": [[0.0, \"#0d0887\"], [0.1111111111111111, \"#46039f\"], [0.2222222222222222, \"#7201a8\"], [0.3333333333333333, \"#9c179e\"], [0.4444444444444444, \"#bd3786\"], [0.5555555555555556, \"#d8576b\"], [0.6666666666666666, \"#ed7953\"], [0.7777777777777778, \"#fb9f3a\"], [0.8888888888888888, \"#fdca26\"], [1.0, \"#f0f921\"]], \"type\": \"heatmap\"}], \"heatmapgl\": [{\"colorbar\": {\"outlinewidth\": 0, \"ticks\": \"\"}, \"colorscale\": [[0.0, \"#0d0887\"], [0.1111111111111111, \"#46039f\"], [0.2222222222222222, \"#7201a8\"], [0.3333333333333333, \"#9c179e\"], [0.4444444444444444, \"#bd3786\"], [0.5555555555555556, \"#d8576b\"], [0.6666666666666666, \"#ed7953\"], [0.7777777777777778, \"#fb9f3a\"], [0.8888888888888888, \"#fdca26\"], [1.0, \"#f0f921\"]], \"type\": \"heatmapgl\"}], \"histogram\": [{\"marker\": {\"colorbar\": {\"outlinewidth\": 0, \"ticks\": \"\"}}, \"type\": \"histogram\"}], \"histogram2d\": [{\"colorbar\": {\"outlinewidth\": 0, \"ticks\": \"\"}, \"colorscale\": [[0.0, \"#0d0887\"], [0.1111111111111111, \"#46039f\"], [0.2222222222222222, \"#7201a8\"], [0.3333333333333333, \"#9c179e\"], [0.4444444444444444, \"#bd3786\"], [0.5555555555555556, \"#d8576b\"], [0.6666666666666666, \"#ed7953\"], [0.7777777777777778, \"#fb9f3a\"], [0.8888888888888888, \"#fdca26\"], [1.0, \"#f0f921\"]], \"type\": \"histogram2d\"}], \"histogram2dcontour\": [{\"colorbar\": {\"outlinewidth\": 0, \"ticks\": \"\"}, \"colorscale\": [[0.0, \"#0d0887\"], [0.1111111111111111, \"#46039f\"], [0.2222222222222222, \"#7201a8\"], [0.3333333333333333, \"#9c179e\"], [0.4444444444444444, \"#bd3786\"], [0.5555555555555556, \"#d8576b\"], [0.6666666666666666, \"#ed7953\"], [0.7777777777777778, \"#fb9f3a\"], [0.8888888888888888, \"#fdca26\"], [1.0, \"#f0f921\"]], \"type\": \"histogram2dcontour\"}], \"mesh3d\": [{\"colorbar\": {\"outlinewidth\": 0, \"ticks\": \"\"}, \"type\": \"mesh3d\"}], \"parcoords\": [{\"line\": {\"colorbar\": {\"outlinewidth\": 0, \"ticks\": \"\"}}, \"type\": \"parcoords\"}], \"pie\": [{\"automargin\": true, \"type\": \"pie\"}], \"scatter\": [{\"marker\": {\"colorbar\": {\"outlinewidth\": 0, \"ticks\": \"\"}}, \"type\": \"scatter\"}], \"scatter3d\": [{\"line\": {\"colorbar\": {\"outlinewidth\": 0, \"ticks\": \"\"}}, \"marker\": {\"colorbar\": {\"outlinewidth\": 0, \"ticks\": \"\"}}, \"type\": \"scatter3d\"}], \"scattercarpet\": [{\"marker\": {\"colorbar\": {\"outlinewidth\": 0, \"ticks\": \"\"}}, \"type\": \"scattercarpet\"}], \"scattergeo\": [{\"marker\": {\"colorbar\": {\"outlinewidth\": 0, \"ticks\": \"\"}}, \"type\": \"scattergeo\"}], \"scattergl\": [{\"marker\": {\"colorbar\": {\"outlinewidth\": 0, \"ticks\": \"\"}}, \"type\": \"scattergl\"}], \"scattermapbox\": [{\"marker\": {\"colorbar\": {\"outlinewidth\": 0, \"ticks\": \"\"}}, \"type\": \"scattermapbox\"}], \"scatterpolar\": [{\"marker\": {\"colorbar\": {\"outlinewidth\": 0, \"ticks\": \"\"}}, \"type\": \"scatterpolar\"}], \"scatterpolargl\": [{\"marker\": {\"colorbar\": {\"outlinewidth\": 0, \"ticks\": \"\"}}, \"type\": \"scatterpolargl\"}], \"scatterternary\": [{\"marker\": {\"colorbar\": {\"outlinewidth\": 0, \"ticks\": \"\"}}, \"type\": \"scatterternary\"}], \"surface\": [{\"colorbar\": {\"outlinewidth\": 0, \"ticks\": \"\"}, \"colorscale\": [[0.0, \"#0d0887\"], [0.1111111111111111, \"#46039f\"], [0.2222222222222222, \"#7201a8\"], [0.3333333333333333, \"#9c179e\"], [0.4444444444444444, \"#bd3786\"], [0.5555555555555556, \"#d8576b\"], [0.6666666666666666, \"#ed7953\"], [0.7777777777777778, \"#fb9f3a\"], [0.8888888888888888, \"#fdca26\"], [1.0, \"#f0f921\"]], \"type\": \"surface\"}], \"table\": [{\"cells\": {\"fill\": {\"color\": \"#EBF0F8\"}, \"line\": {\"color\": \"white\"}}, \"header\": {\"fill\": {\"color\": \"#C8D4E3\"}, \"line\": {\"color\": \"white\"}}, \"type\": \"table\"}]}, \"layout\": {\"annotationdefaults\": {\"arrowcolor\": \"#2a3f5f\", \"arrowhead\": 0, \"arrowwidth\": 1}, \"coloraxis\": {\"colorbar\": {\"outlinewidth\": 0, \"ticks\": \"\"}}, \"colorscale\": {\"diverging\": [[0, \"#8e0152\"], [0.1, \"#c51b7d\"], [0.2, \"#de77ae\"], [0.3, \"#f1b6da\"], [0.4, \"#fde0ef\"], [0.5, \"#f7f7f7\"], [0.6, \"#e6f5d0\"], [0.7, \"#b8e186\"], [0.8, \"#7fbc41\"], [0.9, \"#4d9221\"], [1, \"#276419\"]], \"sequential\": [[0.0, \"#0d0887\"], [0.1111111111111111, \"#46039f\"], [0.2222222222222222, \"#7201a8\"], [0.3333333333333333, \"#9c179e\"], [0.4444444444444444, \"#bd3786\"], [0.5555555555555556, \"#d8576b\"], [0.6666666666666666, \"#ed7953\"], [0.7777777777777778, \"#fb9f3a\"], [0.8888888888888888, \"#fdca26\"], [1.0, \"#f0f921\"]], \"sequentialminus\": [[0.0, \"#0d0887\"], [0.1111111111111111, \"#46039f\"], [0.2222222222222222, \"#7201a8\"], [0.3333333333333333, \"#9c179e\"], [0.4444444444444444, \"#bd3786\"], [0.5555555555555556, \"#d8576b\"], [0.6666666666666666, \"#ed7953\"], [0.7777777777777778, \"#fb9f3a\"], [0.8888888888888888, \"#fdca26\"], [1.0, \"#f0f921\"]]}, \"colorway\": [\"#636efa\", \"#EF553B\", \"#00cc96\", \"#ab63fa\", \"#FFA15A\", \"#19d3f3\", \"#FF6692\", \"#B6E880\", \"#FF97FF\", \"#FECB52\"], \"font\": {\"color\": \"#2a3f5f\"}, \"geo\": {\"bgcolor\": \"white\", \"lakecolor\": \"white\", \"landcolor\": \"#E5ECF6\", \"showlakes\": true, \"showland\": true, \"subunitcolor\": \"white\"}, \"hoverlabel\": {\"align\": \"left\"}, \"hovermode\": \"closest\", \"mapbox\": {\"style\": \"light\"}, \"paper_bgcolor\": \"white\", \"plot_bgcolor\": \"#E5ECF6\", \"polar\": {\"angularaxis\": {\"gridcolor\": \"white\", \"linecolor\": \"white\", \"ticks\": \"\"}, \"bgcolor\": \"#E5ECF6\", \"radialaxis\": {\"gridcolor\": \"white\", \"linecolor\": \"white\", \"ticks\": \"\"}}, \"scene\": {\"xaxis\": {\"backgroundcolor\": \"#E5ECF6\", \"gridcolor\": \"white\", \"gridwidth\": 2, \"linecolor\": \"white\", \"showbackground\": true, \"ticks\": \"\", \"zerolinecolor\": \"white\"}, \"yaxis\": {\"backgroundcolor\": \"#E5ECF6\", \"gridcolor\": \"white\", \"gridwidth\": 2, \"linecolor\": \"white\", \"showbackground\": true, \"ticks\": \"\", \"zerolinecolor\": \"white\"}, \"zaxis\": {\"backgroundcolor\": \"#E5ECF6\", \"gridcolor\": \"white\", \"gridwidth\": 2, \"linecolor\": \"white\", \"showbackground\": true, \"ticks\": \"\", \"zerolinecolor\": \"white\"}}, \"shapedefaults\": {\"line\": {\"color\": \"#2a3f5f\"}}, \"ternary\": {\"aaxis\": {\"gridcolor\": \"white\", \"linecolor\": \"white\", \"ticks\": \"\"}, \"baxis\": {\"gridcolor\": \"white\", \"linecolor\": \"white\", \"ticks\": \"\"}, \"bgcolor\": \"#E5ECF6\", \"caxis\": {\"gridcolor\": \"white\", \"linecolor\": \"white\", \"ticks\": \"\"}}, \"title\": {\"x\": 0.05}, \"xaxis\": {\"automargin\": true, \"gridcolor\": \"white\", \"linecolor\": \"white\", \"ticks\": \"\", \"title\": {\"standoff\": 15}, \"zerolinecolor\": \"white\", \"zerolinewidth\": 2}, \"yaxis\": {\"automargin\": true, \"gridcolor\": \"white\", \"linecolor\": \"white\", \"ticks\": \"\", \"title\": {\"standoff\": 15}, \"zerolinecolor\": \"white\", \"zerolinewidth\": 2}}}, \"title\": {\"text\": \"Optimization History Plot\"}, \"xaxis\": {\"title\": {\"text\": \"#Trials\"}}, \"yaxis\": {\"title\": {\"text\": \"Objective Value\"}}},\n",
              "                        {\"responsive\": true}\n",
              "                    ).then(function(){\n",
              "                            \n",
              "var gd = document.getElementById('12aa4c4f-1ebb-4b13-a14c-0cf9afb72066');\n",
              "var x = new MutationObserver(function (mutations, observer) {{\n",
              "        var display = window.getComputedStyle(gd).display;\n",
              "        if (!display || display === 'none') {{\n",
              "            console.log([gd, 'removed!']);\n",
              "            Plotly.purge(gd);\n",
              "            observer.disconnect();\n",
              "        }}\n",
              "}});\n",
              "\n",
              "// Listen for the removal of the full notebook cells\n",
              "var notebookContainer = gd.closest('#notebook-container');\n",
              "if (notebookContainer) {{\n",
              "    x.observe(notebookContainer, {childList: true});\n",
              "}}\n",
              "\n",
              "// Listen for the clearing of the current output cell\n",
              "var outputEl = gd.closest('.output');\n",
              "if (outputEl) {{\n",
              "    x.observe(outputEl, {childList: true});\n",
              "}}\n",
              "\n",
              "                        })\n",
              "                };\n",
              "                \n",
              "            </script>\n",
              "        </div>\n",
              "</body>\n",
              "</html>"
            ]
          },
          "metadata": {
            "tags": []
          }
        }
      ]
    },
    {
      "cell_type": "code",
      "metadata": {
        "id": "-5u1KiLV7moc",
        "colab_type": "code",
        "colab": {
          "base_uri": "https://localhost:8080/",
          "height": 542
        },
        "outputId": "920de388-f9ec-4b37-b6f0-15e3417f22d8"
      },
      "source": [
        "optuna.visualization.plot_parallel_coordinate(study)"
      ],
      "execution_count": null,
      "outputs": [
        {
          "output_type": "display_data",
          "data": {
            "text/html": [
              "<html>\n",
              "<head><meta charset=\"utf-8\" /></head>\n",
              "<body>\n",
              "    <div>\n",
              "            <script src=\"https://cdnjs.cloudflare.com/ajax/libs/mathjax/2.7.5/MathJax.js?config=TeX-AMS-MML_SVG\"></script><script type=\"text/javascript\">if (window.MathJax) {MathJax.Hub.Config({SVG: {font: \"STIX-Web\"}});}</script>\n",
              "                <script type=\"text/javascript\">window.PlotlyConfig = {MathJaxConfig: 'local'};</script>\n",
              "        <script src=\"https://cdn.plot.ly/plotly-latest.min.js\"></script>    \n",
              "            <div id=\"3abb5360-d6ab-46bc-9217-4e0035aac4bb\" class=\"plotly-graph-div\" style=\"height:525px; width:100%;\"></div>\n",
              "            <script type=\"text/javascript\">\n",
              "                \n",
              "                    window.PLOTLYENV=window.PLOTLYENV || {};\n",
              "                    \n",
              "                if (document.getElementById(\"3abb5360-d6ab-46bc-9217-4e0035aac4bb\")) {\n",
              "                    Plotly.newPlot(\n",
              "                        '3abb5360-d6ab-46bc-9217-4e0035aac4bb',\n",
              "                        [{\"dimensions\": [{\"label\": \"Objective Value\", \"range\": [0.785, 0.875], \"values\": [0.87, 0.845, 0.835, 0.84, 0.85, 0.835, 0.81, 0.83, 0.8, 0.83, 0.825, 0.875, 0.845, 0.84, 0.83, 0.845, 0.83, 0.85, 0.85, 0.845, 0.835, 0.805, 0.84, 0.83, 0.85, 0.815, 0.82, 0.835, 0.825, 0.835, 0.815, 0.85, 0.845, 0.81, 0.85, 0.845, 0.83, 0.825, 0.835, 0.805, 0.855, 0.82, 0.845, 0.865, 0.825, 0.815, 0.84, 0.825, 0.84, 0.81, 0.825, 0.835, 0.835, 0.82, 0.87, 0.83, 0.845, 0.825, 0.845, 0.805, 0.84, 0.83, 0.805, 0.84, 0.84, 0.855, 0.805, 0.82, 0.815, 0.83, 0.82, 0.855, 0.82, 0.84, 0.82, 0.815, 0.845, 0.83, 0.815, 0.825, 0.81, 0.855, 0.84, 0.835, 0.83, 0.845, 0.84, 0.83, 0.865, 0.82, 0.825, 0.82, 0.825, 0.825, 0.84, 0.795, 0.845, 0.82, 0.835, 0.84, 0.84, 0.835, 0.81, 0.845, 0.855, 0.845, 0.83, 0.825, 0.82, 0.835, 0.835, 0.815, 0.85, 0.835, 0.85, 0.845, 0.86, 0.82, 0.84, 0.8, 0.815, 0.835, 0.83, 0.805, 0.83, 0.855, 0.84, 0.83, 0.805, 0.785, 0.84, 0.83, 0.82, 0.84, 0.835, 0.83, 0.85, 0.815, 0.845, 0.835, 0.855, 0.81, 0.84, 0.81, 0.84, 0.835, 0.835, 0.84, 0.845, 0.815, 0.83, 0.85, 0.835, 0.8, 0.84, 0.83, 0.805, 0.855, 0.81, 0.84, 0.81, 0.84, 0.83, 0.84, 0.835, 0.82, 0.855, 0.825, 0.815, 0.83, 0.86, 0.83, 0.84, 0.825, 0.845, 0.855, 0.815, 0.83, 0.835, 0.805, 0.85, 0.84, 0.845, 0.81, 0.8, 0.85, 0.87, 0.785, 0.79, 0.8, 0.84, 0.835, 0.835, 0.845, 0.81, 0.835, 0.84, 0.825, 0.855, 0.86]}, {\"label\": \"drop\", \"range\": [0.20816425134185396, 0.6961981994443163], \"values\": [0.501381688035822, 0.2283564886587216, 0.6627983191463305, 0.2701753902063226, 0.2591372129344666, 0.43680020967332867, 0.5088177485379385, 0.5065317289420661, 0.30519128053692046, 0.5171370289786674, 0.32664580126989107, 0.358600871034648, 0.6189724537494019, 0.42557960726046407, 0.25936385947712204, 0.6325512806526925, 0.35928447622566184, 0.3989103763793145, 0.33500398659608244, 0.6480191937545385, 0.5497396376587521, 0.35660916597297543, 0.5219950996148186, 0.3439955021816402, 0.4849824553506324, 0.3106313425918914, 0.5519442917701831, 0.6523238721047566, 0.6036594793625053, 0.41003768489530534, 0.3799890322391819, 0.28974513045892786, 0.5522072009617663, 0.6961981994443163, 0.3559724977398009, 0.42605451751671286, 0.3558979409970513, 0.5719172726548938, 0.308448492199237, 0.6522124878446157, 0.3367710174078179, 0.5943697137660182, 0.2128313590272658, 0.29322910974466926, 0.5584298405962969, 0.262416528745043, 0.24171121772100929, 0.5386316526692134, 0.34086505287697455, 0.5032377300342878, 0.5996012936761959, 0.5866630048052849, 0.44869568274933136, 0.4005661707793138, 0.6804173290315001, 0.5876098887333054, 0.5852903742513881, 0.4160740249624083, 0.2657413996455638, 0.4210076588974351, 0.22842403821662016, 0.23492950866967305, 0.22230615062705705, 0.40728374257472655, 0.46808874735172595, 0.27993503357146265, 0.42930198088429294, 0.4900985528816297, 0.5981957372586658, 0.24873434436274494, 0.279707231724478, 0.5638481715658243, 0.20816425134185396, 0.24923900168198543, 0.21653729573775282, 0.49007585813548854, 0.6871281064090251, 0.5200120776497191, 0.531252285766338, 0.4139171894157362, 0.662483455976596, 0.39087990361814084, 0.2529530774411161, 0.2569083201949306, 0.31890362126951943, 0.5691951688468062, 0.5753824309431759, 0.5058742072164789, 0.39140402957892706, 0.3293511610357506, 0.4008567676897993, 0.21326127629948788, 0.32682126212841134, 0.46504446797961146, 0.6396173815156635, 0.4301098531956936, 0.2121565998550789, 0.2497081971807042, 0.5235983269470179, 0.42033304651706904, 0.4210178188649626, 0.469559117493386, 0.6358928673777464, 0.34355963084208374, 0.6760713486477103, 0.4904436370738985, 0.32369937776957686, 0.4173803221362171, 0.3810945294696947, 0.3465722012532825, 0.319206640462029, 0.49639013533830423, 0.39862837358402103, 0.3333484388002219, 0.2738427891033537, 0.28970503493674443, 0.6240751901734924, 0.5824972237830401, 0.4905409648360315, 0.4365950238549485, 0.25865778209159695, 0.6283776235348242, 0.23502109507232233, 0.616657903809233, 0.25489222903125036, 0.5410594793676106, 0.38254993853000485, 0.5167074107485405, 0.332519849182241, 0.6555985807383639, 0.46411704458926784, 0.37510363048200046, 0.579641225858334, 0.26595162487018964, 0.27992264342709566, 0.28504981950435637, 0.3502018415792436, 0.21645066727667578, 0.42925158353322246, 0.402153263154407, 0.3082286304721049, 0.3027831613204315, 0.6090166528779192, 0.40346096570647394, 0.6879419342092666, 0.2123765395581454, 0.554517730091645, 0.5341169864746385, 0.2915166460399606, 0.28402126068399, 0.6291688193171312, 0.6272300140465135, 0.34644428251350734, 0.4729587982339522, 0.45781917332562583, 0.2170353826524904, 0.6685585209702588, 0.49279669056758774, 0.29275894876158814, 0.33320395111049295, 0.48885471215842013, 0.6393001874592397, 0.4839230007387537, 0.3557430342461606, 0.638013423960287, 0.2822442058468861, 0.4832530534945813, 0.47988711564736836, 0.5627867670507447, 0.3698781897614599, 0.2754674486555208, 0.3213186633054541, 0.5638856366072089, 0.5504640317700626, 0.6447239544079333, 0.267409322844821, 0.5674068873152804, 0.4335597035844184, 0.6026319277895875, 0.5146883541121394, 0.3147837223459749, 0.43985357667746594, 0.5543851954705243, 0.2621444469454724, 0.21047503463386524, 0.4450551324927591, 0.624172634895003, 0.3263499672267328, 0.3271912005588121, 0.42636524821335997, 0.6266229880792564, 0.4068792144064374, 0.55757162601268, 0.4750272546381569, 0.27601361360478477, 0.2633638356212666, 0.3989593074174689, 0.6418897183347723, 0.2601386724897348, 0.5521356469655592]}, {\"label\": \"h1_units\", \"range\": [60.14086428577641, 89.93752573306628], \"values\": [76.46440511781975, 71.531451218781, 75.86684759258713, 71.04724619521645, 73.84438086758796, 82.75846872967071, 77.05301846605946, 87.07795426588214, 80.00300146337003, 69.75141687025058, 64.83928553654988, 70.14022844516676, 84.62979689543805, 75.28873130159701, 63.60589683639507, 66.50466412882629, 77.27839486668537, 85.24158357592063, 60.14086428577641, 82.68320081595122, 73.41376135852882, 80.26317243600708, 75.03973145780107, 74.10396567767296, 64.06422192667351, 89.06885295780822, 86.75770065047016, 74.07747521970727, 63.71459948548325, 89.47724879475581, 85.67410027177833, 74.6864681067328, 70.36055042090709, 61.511101702726314, 77.69729929063713, 66.56248121210315, 61.74087480971627, 76.27496325031193, 86.90013879121027, 66.87657969259739, 78.86945530773446, 73.68389316368587, 66.39935932102446, 79.38793311944055, 75.52137321462342, 66.14597286541337, 82.45990859551642, 66.27471088442523, 80.0974963977273, 77.4134141156439, 88.47956467247045, 85.33650238415828, 89.4548816945476, 72.84671496349225, 85.8657455226505, 71.9849673094827, 81.76783092631736, 80.32235488415833, 81.81132788133985, 73.75543656709952, 65.43452885210709, 80.44077387290207, 65.91162840556919, 86.48127868178713, 72.91207318524184, 69.77054299250446, 73.70734264937298, 72.78917640969716, 67.20060820139129, 88.61164141991495, 87.26531155238214, 88.10239421368365, 70.66106545415789, 80.40810453138089, 66.9823238783717, 76.33772632150523, 63.46452891416244, 84.94558199616412, 68.65195491994481, 85.61820352615915, 70.81636681457677, 88.1185309175327, 89.76033730243422, 71.55712255649783, 71.22888549962748, 86.57886807006355, 86.01868216387395, 81.23752388026304, 63.93867985419768, 89.38719755593469, 68.14958302818438, 68.33321020894532, 85.86955640507708, 75.31886720808541, 70.25094344594197, 79.05170396946448, 62.684836350987005, 89.0659229926206, 88.46583062161523, 87.44371980805806, 83.72520489682215, 73.83020488048184, 64.00384412804803, 63.62758083417402, 65.2431601248282, 77.93810191297406, 62.294603070908565, 74.24003964090339, 69.13339093042134, 89.10665411680752, 74.32939508629248, 77.76241988036276, 77.73080702611475, 88.12905676012844, 80.94745433454872, 67.81886000677859, 77.69084169040653, 83.42793398655992, 62.91773984362922, 86.89743766006863, 72.71119060366418, 61.766108499031546, 72.95280382962957, 69.7224807449258, 60.898509747142484, 60.88904454390904, 72.12730853817776, 83.12023487153132, 66.64189338878316, 71.0846908007831, 65.98788426360343, 71.64958810669448, 80.7235432846959, 67.62075693121072, 75.7313943323166, 78.26965842662304, 88.9916991431368, 88.09851324570336, 69.54700527531188, 83.24050425254407, 80.27067442932801, 74.4867486774387, 72.80713080633221, 67.41135636166314, 77.89299196048869, 80.21512029701431, 71.32219717766662, 79.62245794459444, 63.37281951636934, 80.34178230636037, 87.97181816881483, 81.81749718986345, 87.44589263500148, 84.7439311684394, 72.2917861689223, 64.69960474092316, 64.20948053770258, 63.18764729802598, 74.75676695125034, 66.12216184590987, 81.82640973994589, 80.07710891311007, 74.59231346665996, 87.97996594631704, 66.3436438734724, 79.77803599283965, 62.893525820921525, 77.22095518884956, 76.63935175860779, 67.14033832471438, 84.60067307609255, 85.90428655461128, 81.55879171023456, 89.23765968435063, 75.66527607006357, 74.74774281508547, 62.07547976377168, 71.0113873332311, 77.7319614250197, 81.00133504547806, 60.36513470829776, 63.543801050243275, 60.3019108696828, 63.47584360033148, 68.62633506841685, 83.52343050881602, 88.45620903386524, 63.86089841932559, 81.5816718601192, 61.3204908687958, 72.9034795313022, 60.41595138911352, 69.31887654873918, 80.56244798123316, 88.9654991741242, 65.56343909782862, 79.1838832342203, 89.93752573306628, 75.73731202435877, 69.53693608022881]}, {\"label\": \"h2_units\", \"range\": [20.08109641680508, 49.938867539860205], \"values\": [41.455680991172585, 28.92603819633417, 37.04133683281797, 48.71465476859139, 43.41587528859367, 23.177228215633765, 20.563694013090654, 33.498499697336825, 40.11913608854478, 21.152762794182042, 39.59324976396195, 40.242569667770624, 22.913038273791837, 21.67144081104819, 28.884205925664347, 36.95566599814626, 47.87888592728642, 27.94190492850349, 40.334496103886906, 31.882948262700868, 45.39226017413384, 27.493888269649343, 48.68250904169672, 41.4822359368593, 28.948469778680924, 29.629917241204925, 44.185819671382575, 45.23420389356798, 45.44024687966703, 31.198722523497644, 20.35142252555006, 30.16955350339335, 47.842438803967724, 40.97294224155533, 41.903660885503086, 37.08720603724214, 33.03249876674362, 45.63840740932143, 49.71016842190113, 46.447561976317424, 46.17951966342186, 34.50225849796258, 35.546021417919896, 26.446422102517346, 23.9620431903546, 24.94876604260272, 47.111592192378005, 28.607451299018138, 43.55458736069413, 43.62626467865078, 48.24133114119496, 25.8302666882895, 34.35110921119964, 28.93525455665169, 49.18758467069391, 29.054926277825498, 20.34282375875093, 44.31272273779672, 28.10983715716144, 35.737778622645436, 43.65636536919556, 25.351020479309515, 33.795676512680224, 34.652301798211695, 35.30050556954751, 24.410416846664038, 46.461242306896686, 34.196620218371315, 24.81616467455769, 36.734339026486154, 44.46571456305706, 33.421348838213994, 30.701206712076285, 38.27532744675164, 38.43394119430623, 20.973958869537913, 38.55440778538244, 44.21068507961303, 27.24255860229722, 34.930339356069524, 44.85970743667213, 27.717004564141803, 27.482601231693536, 47.50181057990545, 42.463647726203995, 30.556116827817668, 48.20629068064302, 41.27216340695391, 38.12353412062646, 24.454342631749157, 33.66332448350081, 46.84589576534266, 21.460708879265855, 31.604814607019975, 40.287274468323886, 28.989304827425798, 32.17826965904851, 40.726811762683816, 20.08109641680508, 40.018545321333946, 22.91728776897274, 44.804726409234455, 49.41740398361847, 40.42091716004104, 31.674040313035572, 27.141305709155407, 40.89389433957501, 25.530877874765675, 49.938867539860205, 39.91598203658789, 28.519999302863035, 32.953547828754864, 39.775294155500845, 40.16123171442461, 30.06494509027699, 46.13247717315336, 42.36194221841879, 26.346016931789073, 34.93330723476025, 28.13340175240209, 45.71374752513702, 23.715332525533015, 38.435830994309626, 29.486599589245863, 42.117627277894314, 46.67861948236036, 35.72551581181275, 41.615825527880176, 23.000421827646655, 21.653218319941104, 32.98952618843542, 24.81180608919692, 49.620462712219044, 36.532374455236905, 23.521408825116715, 37.37033619274201, 35.229066417222946, 41.66552071513209, 45.76332404695707, 47.003063930248544, 27.346684382602984, 25.820684468885773, 45.28564663506371, 21.096829568891895, 23.525769287109128, 26.734008152051317, 44.28094914467595, 31.191193317791367, 26.37303083882123, 24.34073418391033, 26.461946130297147, 39.89953772601966, 21.48046840365319, 40.0581754335774, 31.20533042467051, 40.52377184916453, 30.76985835018896, 34.30837675106465, 46.96883276681095, 43.89190296077969, 28.697403487758663, 48.91222985146058, 33.45107536693992, 42.894950226268456, 21.781495640173677, 41.749822821296405, 45.904119475807576, 48.34847576707279, 44.805848091460845, 39.332608441171985, 28.945620789891922, 30.430939659964732, 30.07932627020766, 46.74741460923275, 45.60818126888816, 45.62344655148689, 46.37520013062213, 43.69308841167229, 47.651572006124994, 30.828034179024137, 29.684886126442628, 21.221307874861065, 34.27478587571668, 27.33128217408365, 33.701108775814525, 26.941453386822367, 43.348285018893314, 30.50975556778699, 30.499785308905068, 36.0740575902307, 39.56373784526417, 47.349702674989295, 43.73682293057337, 35.79237617806087, 45.77007918974176, 46.87733576256963, 35.62033374447661, 40.133467231167174, 30.626744654817884, 35.778528157709644]}, {\"label\": \"optim_lr\", \"range\": [0.0003088223663359565, 0.0019966433265377016], \"values\": [0.0013600582845361532, 0.00164593256474053, 0.0014018921824870355, 0.0016585695591684302, 0.001213534490063318, 0.0010754555647681328, 0.0009570312679139653, 0.0004023833017697588, 0.0013333121368162954, 0.000655090485361219, 0.001359967171924176, 0.0009268327901236391, 0.001792928901290201, 0.0007807718363798963, 0.001861000292815646, 0.0004596988682893509, 0.0014001960383188444, 0.0017091980496695175, 0.001036589705369475, 0.0019196733195788744, 0.0010000942362402361, 0.001532932275693389, 0.0011072747761952015, 0.0010289067916078025, 0.0003571626589480145, 0.0010409703729515657, 0.0008989298240409062, 0.0013464512592825354, 0.0003564780549525014, 0.001958386558504906, 0.0008769864930641817, 0.0006806719697026463, 0.0011500447061398124, 0.0012105757651424292, 0.0006781534814575919, 0.0007324060190096681, 0.0013500184573629966, 0.0012121846588848278, 0.0005332747141652309, 0.0017127823739015238, 0.001455795075891508, 0.000731700792411544, 0.0015417517001635505, 0.0004998041551354563, 0.0017287285053102352, 0.001601052931471841, 0.00037754488315650697, 0.0018801998385467242, 0.0011710688876030366, 0.0006938927650010477, 0.001146838383362699, 0.0005518394636118806, 0.0009978366347605768, 0.0004663356236398579, 0.0009107614090021458, 0.00039082620903760297, 0.0007260586243296053, 0.0017629369955089497, 0.0011294887672782007, 0.000945875825030205, 0.0017403680482625428, 0.0009304497586704109, 0.0010981471149773877, 0.0003601161407843346, 0.0012166801156033797, 0.0012244701151314548, 0.0004588810759549995, 0.0013813037942601403, 0.0011558266274979195, 0.0016953041051922355, 0.0019138057046131193, 0.0019302706271679053, 0.0012116667254253879, 0.0008553914990060422, 0.0014047143549898709, 0.0003204615789260123, 0.0008271149879472146, 0.0016314985451334825, 0.0018756944520728625, 0.0010052566778670589, 0.0010634418270921925, 0.0008041456506088509, 0.000908782707695708, 0.0009443967233316286, 0.0008036120602309426, 0.0013777960861659235, 0.0005241484648770194, 0.0010097268371532203, 0.00033281103096682076, 0.0012385330703763506, 0.001504635025021787, 0.0018710699032552982, 0.0011711678198904484, 0.000648370267831493, 0.0017557150606170293, 0.0018675894850042284, 0.00031446970309626676, 0.0014423271390128982, 0.0017174909981840071, 0.0008677402783145756, 0.0016713378530331387, 0.00135200448601034, 0.0012216200710858953, 0.00036125748962856813, 0.0012861817524337615, 0.001048448379810136, 0.0011799405701744072, 0.0011991978793525013, 0.0003088223663359565, 0.00133232393581962, 0.0018779718084341573, 0.0008837659389445574, 0.0010618428142844985, 0.0015997553564081049, 0.0005333272958910355, 0.0004819070383294457, 0.0018160616411243592, 0.0017655064129470524, 0.0019743866239584048, 0.001965935954781926, 0.0006999468347406435, 0.0009785739469331143, 0.0014420503112285003, 0.0008457730830734688, 0.0014316521426971014, 0.0012093586533760427, 0.0017421782551769517, 0.0004450285693017958, 0.0006785184856926612, 0.0005607270923608878, 0.001017135680293566, 0.0017932332421459899, 0.0013919979739178833, 0.0007714784612189141, 0.0015696218319726182, 0.00152335426833189, 0.001006534043589938, 0.0007210645382369372, 0.001272134184816128, 0.0016461952683725326, 0.0015264311872417503, 0.0005364235919526418, 0.0016295519412840736, 0.0007191467976789655, 0.001883558557269749, 0.0009941149441775664, 0.0013203284556107427, 0.0017864798590272323, 0.0015345862112622162, 0.0006540305286065226, 0.000881633771432268, 0.00111495373396162, 0.0010763689085395434, 0.0015465915283384346, 0.0017829142668005825, 0.0011219808166266798, 0.0014793677112264394, 0.0017850466063943117, 0.0016763087491551217, 0.001543965115235918, 0.0014637396565504507, 0.0010502464993066983, 0.0010696390604491572, 0.0008919263026690843, 0.0018927773957595627, 0.0019668256278973116, 0.0019808733052575516, 0.001831975690103575, 0.0015601047260215837, 0.0011085014990442343, 0.0011719390492040866, 0.0008284279611436373, 0.000842159454937963, 0.0011161035092952846, 0.0016340419679101055, 0.001540706980399755, 0.0010550063957328409, 0.0008170950475617192, 0.0013044578348689337, 0.0016110832870420474, 0.0006916998927745956, 0.0013078964603279678, 0.0006036805852065862, 0.00048270336520696777, 0.0019966433265377016, 0.0013873578130383607, 0.0006950513623124808, 0.0019403723994423474, 0.0017957563682934287, 0.0003412635978575041, 0.00041255219319146364, 0.0006957135427078906, 0.0006897693597650727, 0.00038682831628773654, 0.00034756938497091083, 0.001957660956360479, 0.0007141599919235277, 0.0018525833795053175, 0.0004700045508923229, 0.0012391464002857763]}, {\"label\": \"optimizer\", \"range\": [0, 1], \"ticktext\": [[\"Yogi\", 0], [\"AdaMod\", 1]], \"tickvals\": [0, 1], \"values\": [0, 0, 0, 0, 0, 1, 1, 0, 1, 0, 0, 0, 0, 1, 0, 1, 0, 1, 0, 0, 0, 1, 0, 0, 0, 1, 1, 0, 0, 0, 1, 1, 1, 1, 0, 0, 0, 0, 1, 0, 0, 1, 1, 0, 0, 1, 1, 1, 0, 1, 1, 0, 1, 0, 0, 0, 1, 0, 0, 1, 0, 1, 1, 1, 0, 0, 1, 0, 1, 1, 0, 1, 0, 0, 1, 0, 0, 1, 0, 1, 0, 0, 1, 1, 0, 0, 0, 1, 1, 1, 0, 0, 1, 1, 1, 1, 0, 0, 1, 1, 1, 0, 1, 0, 0, 1, 1, 0, 1, 1, 0, 0, 1, 0, 0, 0, 1, 1, 0, 0, 0, 1, 0, 1, 0, 0, 1, 1, 1, 0, 0, 1, 0, 1, 0, 1, 0, 1, 0, 1, 1, 1, 1, 0, 0, 0, 0, 1, 1, 0, 1, 0, 1, 1, 0, 1, 0, 0, 0, 0, 1, 0, 1, 0, 0, 0, 0, 0, 1, 1, 0, 0, 0, 1, 1, 0, 1, 1, 1, 0, 1, 0, 1, 1, 1, 0, 0, 1, 1, 0, 0, 1, 0, 0, 1, 0, 1, 0, 0, 1]}, {\"label\": \"smooth\", \"range\": [0.10016605464755113, 0.3498194984805427], \"values\": [0.2362207957492242, 0.16816407364502828, 0.11775901454947174, 0.31752181458960904, 0.25998025533188096, 0.14658308583169, 0.25302393068060536, 0.325587145793496, 0.13223157441371333, 0.3397373171561301, 0.21657769321407655, 0.29458637050647724, 0.12402460197349077, 0.10499691635218969, 0.17949579484849398, 0.2272422401667536, 0.2668525949909204, 0.23820536997189284, 0.28379850553064867, 0.2597302690578282, 0.17435923771378342, 0.34135405512998174, 0.20596376213954493, 0.19586555625873697, 0.24771819031204328, 0.13531597623147418, 0.12505672182807528, 0.10938984595703508, 0.2422751846536483, 0.11264702876355931, 0.28249764060601446, 0.14274664967078288, 0.10795973238282697, 0.16681563447036957, 0.19955526555402298, 0.3425591707740251, 0.2740858722038648, 0.21964908140468753, 0.2657695507750252, 0.26144614962547474, 0.2995117084781409, 0.15736045861776135, 0.15186751886027736, 0.30189506721469683, 0.19901492570182344, 0.28052016560068715, 0.23804811748060162, 0.11575957241734419, 0.24660254154658165, 0.1546007137029807, 0.25761198421669773, 0.3435646659643082, 0.2598681290996809, 0.13016424779652994, 0.32663887480529474, 0.3315532325440787, 0.13673666135009377, 0.2880336302469834, 0.11384358010529949, 0.313158730945585, 0.2742493104312468, 0.10242204269919897, 0.2999489711426545, 0.14352798805678307, 0.27034812765095945, 0.13235308435556284, 0.2810419091528858, 0.2790610435545047, 0.3397916507588056, 0.255419622689022, 0.25722460976542505, 0.28555949448292073, 0.146308081309046, 0.12300689640298931, 0.10390151611170706, 0.2927722620424912, 0.34758625039022345, 0.19202560049538353, 0.16151579624774112, 0.30563986284020295, 0.11150182772182424, 0.2742854042070887, 0.3377381527638485, 0.25778138539276435, 0.14296327476191076, 0.2388403157565437, 0.2748937650561878, 0.267976754069989, 0.32384647107205244, 0.15388220289113622, 0.16210336627074276, 0.2564091543359821, 0.21153387816480046, 0.3361768702241189, 0.23591951345702378, 0.1061318493085675, 0.18565274608539756, 0.1724439689801447, 0.25009805927440987, 0.2712729977626487, 0.22998809364270953, 0.3218162098656609, 0.225680190286331, 0.11074410214979724, 0.17500722986898237, 0.13646753851532473, 0.10990388064487944, 0.1468879838894723, 0.2176622373034774, 0.1500910804852985, 0.22862818582468916, 0.18862651343793413, 0.3498194984805427, 0.24101609008348293, 0.11565900076495245, 0.20831968321897176, 0.3339580200541971, 0.14726566496633356, 0.1603892600099796, 0.21993846754926955, 0.16781301919046604, 0.1999168430253619, 0.30560168458892256, 0.29395080470549606, 0.25157703326127123, 0.32282858757151334, 0.14764172873501702, 0.17684402927855403, 0.11653736552923868, 0.32123797322885983, 0.1873600730121337, 0.12390497064696399, 0.19113615649919663, 0.15012900322999795, 0.11170158867804719, 0.27159051239843757, 0.23737514319881783, 0.20648648627360044, 0.2111468219528252, 0.3238362784798209, 0.14151195613031142, 0.23386706420077932, 0.1256034396131041, 0.31943769709806435, 0.3331403009643351, 0.10186707943622972, 0.338583453848173, 0.214221161768902, 0.20075650060107214, 0.116108861311439, 0.30072334289033353, 0.23865084724861857, 0.27876314936629176, 0.24720292739995503, 0.3222649882974321, 0.3213018185962099, 0.33082632688967706, 0.16340642693809537, 0.23316714686784015, 0.174566105222275, 0.2947948583254585, 0.349359031889486, 0.25529231184176365, 0.3221538737618152, 0.3296366127975875, 0.2870559920684942, 0.19197937195446835, 0.2411666338983283, 0.1096393115147496, 0.28187018502453887, 0.1825667589242248, 0.2827663022936009, 0.30379984882857836, 0.2101942981509597, 0.1550259651952266, 0.341272346084163, 0.14412484722226504, 0.11889164054812498, 0.28098534962533145, 0.20870665910436836, 0.22671573962182834, 0.24699178128902077, 0.11099385800602266, 0.15582291741356202, 0.2029038784034397, 0.286025307738222, 0.2226049771090688, 0.11818852116139764, 0.16632583113426186, 0.18152942308698522, 0.2188311955530206, 0.2692611348325715, 0.2395128091643156, 0.30805971526222486, 0.10016605464755113, 0.19949703936399815, 0.2936252387210505, 0.19824169371436468, 0.288725276034392, 0.3388876371366121]}], \"line\": {\"color\": [0.87, 0.845, 0.835, 0.84, 0.85, 0.835, 0.81, 0.83, 0.8, 0.83, 0.825, 0.875, 0.845, 0.84, 0.83, 0.845, 0.83, 0.85, 0.85, 0.845, 0.835, 0.805, 0.84, 0.83, 0.85, 0.815, 0.82, 0.835, 0.825, 0.835, 0.815, 0.85, 0.845, 0.81, 0.85, 0.845, 0.83, 0.825, 0.835, 0.805, 0.855, 0.82, 0.845, 0.865, 0.825, 0.815, 0.84, 0.825, 0.84, 0.81, 0.825, 0.835, 0.835, 0.82, 0.87, 0.83, 0.845, 0.825, 0.845, 0.805, 0.84, 0.83, 0.805, 0.84, 0.84, 0.855, 0.805, 0.82, 0.815, 0.83, 0.82, 0.855, 0.82, 0.84, 0.82, 0.815, 0.845, 0.83, 0.815, 0.825, 0.81, 0.855, 0.84, 0.835, 0.83, 0.845, 0.84, 0.83, 0.865, 0.82, 0.825, 0.82, 0.825, 0.825, 0.84, 0.795, 0.845, 0.82, 0.835, 0.84, 0.84, 0.835, 0.81, 0.845, 0.855, 0.845, 0.83, 0.825, 0.82, 0.835, 0.835, 0.815, 0.85, 0.835, 0.85, 0.845, 0.86, 0.82, 0.84, 0.8, 0.815, 0.835, 0.83, 0.805, 0.83, 0.855, 0.84, 0.83, 0.805, 0.785, 0.84, 0.83, 0.82, 0.84, 0.835, 0.83, 0.85, 0.815, 0.845, 0.835, 0.855, 0.81, 0.84, 0.81, 0.84, 0.835, 0.835, 0.84, 0.845, 0.815, 0.83, 0.85, 0.835, 0.8, 0.84, 0.83, 0.805, 0.855, 0.81, 0.84, 0.81, 0.84, 0.83, 0.84, 0.835, 0.82, 0.855, 0.825, 0.815, 0.83, 0.86, 0.83, 0.84, 0.825, 0.845, 0.855, 0.815, 0.83, 0.835, 0.805, 0.85, 0.84, 0.845, 0.81, 0.8, 0.85, 0.87, 0.785, 0.79, 0.8, 0.84, 0.835, 0.835, 0.845, 0.81, 0.835, 0.84, 0.825, 0.855, 0.86], \"colorbar\": {\"title\": {\"text\": \"Objective Value\"}}, \"colorscale\": [[0.0, \"rgb(247,251,255)\"], [0.125, \"rgb(222,235,247)\"], [0.25, \"rgb(198,219,239)\"], [0.375, \"rgb(158,202,225)\"], [0.5, \"rgb(107,174,214)\"], [0.625, \"rgb(66,146,198)\"], [0.75, \"rgb(33,113,181)\"], [0.875, \"rgb(8,81,156)\"], [1.0, \"rgb(8,48,107)\"]], \"reversescale\": false, \"showscale\": true}, \"type\": \"parcoords\"}],\n",
              "                        {\"template\": {\"data\": {\"bar\": [{\"error_x\": {\"color\": \"#2a3f5f\"}, \"error_y\": {\"color\": \"#2a3f5f\"}, \"marker\": {\"line\": {\"color\": \"#E5ECF6\", \"width\": 0.5}}, \"type\": \"bar\"}], \"barpolar\": [{\"marker\": {\"line\": {\"color\": \"#E5ECF6\", \"width\": 0.5}}, \"type\": \"barpolar\"}], \"carpet\": [{\"aaxis\": {\"endlinecolor\": \"#2a3f5f\", \"gridcolor\": \"white\", \"linecolor\": \"white\", \"minorgridcolor\": \"white\", \"startlinecolor\": \"#2a3f5f\"}, \"baxis\": {\"endlinecolor\": \"#2a3f5f\", \"gridcolor\": \"white\", \"linecolor\": \"white\", \"minorgridcolor\": \"white\", \"startlinecolor\": \"#2a3f5f\"}, \"type\": \"carpet\"}], \"choropleth\": [{\"colorbar\": {\"outlinewidth\": 0, \"ticks\": \"\"}, \"type\": \"choropleth\"}], \"contour\": [{\"colorbar\": {\"outlinewidth\": 0, \"ticks\": \"\"}, \"colorscale\": [[0.0, \"#0d0887\"], [0.1111111111111111, \"#46039f\"], [0.2222222222222222, \"#7201a8\"], [0.3333333333333333, \"#9c179e\"], [0.4444444444444444, \"#bd3786\"], [0.5555555555555556, \"#d8576b\"], [0.6666666666666666, \"#ed7953\"], [0.7777777777777778, \"#fb9f3a\"], [0.8888888888888888, \"#fdca26\"], [1.0, \"#f0f921\"]], \"type\": \"contour\"}], \"contourcarpet\": [{\"colorbar\": {\"outlinewidth\": 0, \"ticks\": \"\"}, \"type\": \"contourcarpet\"}], \"heatmap\": [{\"colorbar\": {\"outlinewidth\": 0, \"ticks\": \"\"}, \"colorscale\": [[0.0, \"#0d0887\"], [0.1111111111111111, \"#46039f\"], [0.2222222222222222, \"#7201a8\"], [0.3333333333333333, \"#9c179e\"], [0.4444444444444444, \"#bd3786\"], [0.5555555555555556, \"#d8576b\"], [0.6666666666666666, \"#ed7953\"], [0.7777777777777778, \"#fb9f3a\"], [0.8888888888888888, \"#fdca26\"], [1.0, \"#f0f921\"]], \"type\": \"heatmap\"}], \"heatmapgl\": [{\"colorbar\": {\"outlinewidth\": 0, \"ticks\": \"\"}, \"colorscale\": [[0.0, \"#0d0887\"], [0.1111111111111111, \"#46039f\"], [0.2222222222222222, \"#7201a8\"], [0.3333333333333333, \"#9c179e\"], [0.4444444444444444, \"#bd3786\"], [0.5555555555555556, \"#d8576b\"], [0.6666666666666666, \"#ed7953\"], [0.7777777777777778, \"#fb9f3a\"], [0.8888888888888888, \"#fdca26\"], [1.0, \"#f0f921\"]], \"type\": \"heatmapgl\"}], \"histogram\": [{\"marker\": {\"colorbar\": {\"outlinewidth\": 0, \"ticks\": \"\"}}, \"type\": \"histogram\"}], \"histogram2d\": [{\"colorbar\": {\"outlinewidth\": 0, \"ticks\": \"\"}, \"colorscale\": [[0.0, \"#0d0887\"], [0.1111111111111111, \"#46039f\"], [0.2222222222222222, \"#7201a8\"], [0.3333333333333333, \"#9c179e\"], [0.4444444444444444, \"#bd3786\"], [0.5555555555555556, \"#d8576b\"], [0.6666666666666666, \"#ed7953\"], [0.7777777777777778, \"#fb9f3a\"], [0.8888888888888888, \"#fdca26\"], [1.0, \"#f0f921\"]], \"type\": \"histogram2d\"}], \"histogram2dcontour\": [{\"colorbar\": {\"outlinewidth\": 0, \"ticks\": \"\"}, \"colorscale\": [[0.0, \"#0d0887\"], [0.1111111111111111, \"#46039f\"], [0.2222222222222222, \"#7201a8\"], [0.3333333333333333, \"#9c179e\"], [0.4444444444444444, \"#bd3786\"], [0.5555555555555556, \"#d8576b\"], [0.6666666666666666, \"#ed7953\"], [0.7777777777777778, \"#fb9f3a\"], [0.8888888888888888, \"#fdca26\"], [1.0, \"#f0f921\"]], \"type\": \"histogram2dcontour\"}], \"mesh3d\": [{\"colorbar\": {\"outlinewidth\": 0, \"ticks\": \"\"}, \"type\": \"mesh3d\"}], \"parcoords\": [{\"line\": {\"colorbar\": {\"outlinewidth\": 0, \"ticks\": \"\"}}, \"type\": \"parcoords\"}], \"pie\": [{\"automargin\": true, \"type\": \"pie\"}], \"scatter\": [{\"marker\": {\"colorbar\": {\"outlinewidth\": 0, \"ticks\": \"\"}}, \"type\": \"scatter\"}], \"scatter3d\": [{\"line\": {\"colorbar\": {\"outlinewidth\": 0, \"ticks\": \"\"}}, \"marker\": {\"colorbar\": {\"outlinewidth\": 0, \"ticks\": \"\"}}, \"type\": \"scatter3d\"}], \"scattercarpet\": [{\"marker\": {\"colorbar\": {\"outlinewidth\": 0, \"ticks\": \"\"}}, \"type\": \"scattercarpet\"}], \"scattergeo\": [{\"marker\": {\"colorbar\": {\"outlinewidth\": 0, \"ticks\": \"\"}}, \"type\": \"scattergeo\"}], \"scattergl\": [{\"marker\": {\"colorbar\": {\"outlinewidth\": 0, \"ticks\": \"\"}}, \"type\": \"scattergl\"}], \"scattermapbox\": [{\"marker\": {\"colorbar\": {\"outlinewidth\": 0, \"ticks\": \"\"}}, \"type\": \"scattermapbox\"}], \"scatterpolar\": [{\"marker\": {\"colorbar\": {\"outlinewidth\": 0, \"ticks\": \"\"}}, \"type\": \"scatterpolar\"}], \"scatterpolargl\": [{\"marker\": {\"colorbar\": {\"outlinewidth\": 0, \"ticks\": \"\"}}, \"type\": \"scatterpolargl\"}], \"scatterternary\": [{\"marker\": {\"colorbar\": {\"outlinewidth\": 0, \"ticks\": \"\"}}, \"type\": \"scatterternary\"}], \"surface\": [{\"colorbar\": {\"outlinewidth\": 0, \"ticks\": \"\"}, \"colorscale\": [[0.0, \"#0d0887\"], [0.1111111111111111, \"#46039f\"], [0.2222222222222222, \"#7201a8\"], [0.3333333333333333, \"#9c179e\"], [0.4444444444444444, \"#bd3786\"], [0.5555555555555556, \"#d8576b\"], [0.6666666666666666, \"#ed7953\"], [0.7777777777777778, \"#fb9f3a\"], [0.8888888888888888, \"#fdca26\"], [1.0, \"#f0f921\"]], \"type\": \"surface\"}], \"table\": [{\"cells\": {\"fill\": {\"color\": \"#EBF0F8\"}, \"line\": {\"color\": \"white\"}}, \"header\": {\"fill\": {\"color\": \"#C8D4E3\"}, \"line\": {\"color\": \"white\"}}, \"type\": \"table\"}]}, \"layout\": {\"annotationdefaults\": {\"arrowcolor\": \"#2a3f5f\", \"arrowhead\": 0, \"arrowwidth\": 1}, \"coloraxis\": {\"colorbar\": {\"outlinewidth\": 0, \"ticks\": \"\"}}, \"colorscale\": {\"diverging\": [[0, \"#8e0152\"], [0.1, \"#c51b7d\"], [0.2, \"#de77ae\"], [0.3, \"#f1b6da\"], [0.4, \"#fde0ef\"], [0.5, \"#f7f7f7\"], [0.6, \"#e6f5d0\"], [0.7, \"#b8e186\"], [0.8, \"#7fbc41\"], [0.9, \"#4d9221\"], [1, \"#276419\"]], \"sequential\": [[0.0, \"#0d0887\"], [0.1111111111111111, \"#46039f\"], [0.2222222222222222, \"#7201a8\"], [0.3333333333333333, \"#9c179e\"], [0.4444444444444444, \"#bd3786\"], [0.5555555555555556, \"#d8576b\"], [0.6666666666666666, \"#ed7953\"], [0.7777777777777778, \"#fb9f3a\"], [0.8888888888888888, \"#fdca26\"], [1.0, \"#f0f921\"]], \"sequentialminus\": [[0.0, \"#0d0887\"], [0.1111111111111111, \"#46039f\"], [0.2222222222222222, \"#7201a8\"], [0.3333333333333333, \"#9c179e\"], [0.4444444444444444, \"#bd3786\"], [0.5555555555555556, \"#d8576b\"], [0.6666666666666666, \"#ed7953\"], [0.7777777777777778, \"#fb9f3a\"], [0.8888888888888888, \"#fdca26\"], [1.0, \"#f0f921\"]]}, \"colorway\": [\"#636efa\", \"#EF553B\", \"#00cc96\", \"#ab63fa\", \"#FFA15A\", \"#19d3f3\", \"#FF6692\", \"#B6E880\", \"#FF97FF\", \"#FECB52\"], \"font\": {\"color\": \"#2a3f5f\"}, \"geo\": {\"bgcolor\": \"white\", \"lakecolor\": \"white\", \"landcolor\": \"#E5ECF6\", \"showlakes\": true, \"showland\": true, \"subunitcolor\": \"white\"}, \"hoverlabel\": {\"align\": \"left\"}, \"hovermode\": \"closest\", \"mapbox\": {\"style\": \"light\"}, \"paper_bgcolor\": \"white\", \"plot_bgcolor\": \"#E5ECF6\", \"polar\": {\"angularaxis\": {\"gridcolor\": \"white\", \"linecolor\": \"white\", \"ticks\": \"\"}, \"bgcolor\": \"#E5ECF6\", \"radialaxis\": {\"gridcolor\": \"white\", \"linecolor\": \"white\", \"ticks\": \"\"}}, \"scene\": {\"xaxis\": {\"backgroundcolor\": \"#E5ECF6\", \"gridcolor\": \"white\", \"gridwidth\": 2, \"linecolor\": \"white\", \"showbackground\": true, \"ticks\": \"\", \"zerolinecolor\": \"white\"}, \"yaxis\": {\"backgroundcolor\": \"#E5ECF6\", \"gridcolor\": \"white\", \"gridwidth\": 2, \"linecolor\": \"white\", \"showbackground\": true, \"ticks\": \"\", \"zerolinecolor\": \"white\"}, \"zaxis\": {\"backgroundcolor\": \"#E5ECF6\", \"gridcolor\": \"white\", \"gridwidth\": 2, \"linecolor\": \"white\", \"showbackground\": true, \"ticks\": \"\", \"zerolinecolor\": \"white\"}}, \"shapedefaults\": {\"line\": {\"color\": \"#2a3f5f\"}}, \"ternary\": {\"aaxis\": {\"gridcolor\": \"white\", \"linecolor\": \"white\", \"ticks\": \"\"}, \"baxis\": {\"gridcolor\": \"white\", \"linecolor\": \"white\", \"ticks\": \"\"}, \"bgcolor\": \"#E5ECF6\", \"caxis\": {\"gridcolor\": \"white\", \"linecolor\": \"white\", \"ticks\": \"\"}}, \"title\": {\"x\": 0.05}, \"xaxis\": {\"automargin\": true, \"gridcolor\": \"white\", \"linecolor\": \"white\", \"ticks\": \"\", \"title\": {\"standoff\": 15}, \"zerolinecolor\": \"white\", \"zerolinewidth\": 2}, \"yaxis\": {\"automargin\": true, \"gridcolor\": \"white\", \"linecolor\": \"white\", \"ticks\": \"\", \"title\": {\"standoff\": 15}, \"zerolinecolor\": \"white\", \"zerolinewidth\": 2}}}, \"title\": {\"text\": \"Parallel Coordinate Plot\"}},\n",
              "                        {\"responsive\": true}\n",
              "                    ).then(function(){\n",
              "                            \n",
              "var gd = document.getElementById('3abb5360-d6ab-46bc-9217-4e0035aac4bb');\n",
              "var x = new MutationObserver(function (mutations, observer) {{\n",
              "        var display = window.getComputedStyle(gd).display;\n",
              "        if (!display || display === 'none') {{\n",
              "            console.log([gd, 'removed!']);\n",
              "            Plotly.purge(gd);\n",
              "            observer.disconnect();\n",
              "        }}\n",
              "}});\n",
              "\n",
              "// Listen for the removal of the full notebook cells\n",
              "var notebookContainer = gd.closest('#notebook-container');\n",
              "if (notebookContainer) {{\n",
              "    x.observe(notebookContainer, {childList: true});\n",
              "}}\n",
              "\n",
              "// Listen for the clearing of the current output cell\n",
              "var outputEl = gd.closest('.output');\n",
              "if (outputEl) {{\n",
              "    x.observe(outputEl, {childList: true});\n",
              "}}\n",
              "\n",
              "                        })\n",
              "                };\n",
              "                \n",
              "            </script>\n",
              "        </div>\n",
              "</body>\n",
              "</html>"
            ]
          },
          "metadata": {
            "tags": []
          }
        }
      ]
    },
    {
      "cell_type": "markdown",
      "metadata": {
        "id": "8-ZfIleCESXH",
        "colab_type": "text"
      },
      "source": [
        "# Testando a melhor configuração encontrada"
      ]
    },
    {
      "cell_type": "code",
      "metadata": {
        "id": "CxciBKMAbASr",
        "colab_type": "code",
        "colab": {
          "base_uri": "https://localhost:8080/",
          "height": 119
        },
        "outputId": "5b948fab-1aa0-45dd-f1cf-d7584463afcc"
      },
      "source": [
        "# Melhor params dict\n",
        "study.best_params"
      ],
      "execution_count": null,
      "outputs": [
        {
          "output_type": "execute_result",
          "data": {
            "text/plain": [
              "{'drop': 0.358600871034648,\n",
              " 'h1_units': 70.14022844516676,\n",
              " 'h2_units': 40.242569667770624,\n",
              " 'optim_lr': 0.0009268327901236391,\n",
              " 'optimizer': 'Yogi',\n",
              " 'smooth': 0.29458637050647724}"
            ]
          },
          "metadata": {
            "tags": []
          },
          "execution_count": 179
        }
      ]
    },
    {
      "cell_type": "code",
      "metadata": {
        "colab_type": "code",
        "id": "eKA4znXZbVuW",
        "colab": {
          "base_uri": "https://localhost:8080/",
          "height": 255
        },
        "outputId": "05f10a76-dee9-43aa-ed30-fc721596899b"
      },
      "source": [
        "deterministic() \n",
        "\n",
        "# Configura o melhor setup encontrado pelo Optuna\n",
        "H1     = int(study.best_params['h1_units'])\n",
        "H2     = int(study.best_params['h2_units'])\n",
        "D      = study.best_params['drop']\n",
        "SMOOTH = study.best_params['smooth']\n",
        "LR     = study.best_params['optim_lr']\n",
        "\n",
        "model = MLP(VOCAB_SIZE, H1, 39, D, O).to(device)\n",
        "model.apply(weights_init)    \n",
        "criterion = LabelSmoothing(SMOOTH)\n",
        "\n",
        "if study.best_params['optimizer'] == 'Yogi':\n",
        "  print(f'Using {study.best_params[\"optimizer\"]}')\n",
        "  optimizer = optim.Yogi(model.parameters(),lr= LR)  \n",
        "else:\n",
        "  print(f'Using {study.best_params[\"optimizer\"]}')\n",
        "  optimizer = optim.AdaMod(model.parameters(),lr= LR)  \n",
        "\n",
        "print(model)\n",
        "\n",
        "# Count params\n",
        "def count_parameters(model):\n",
        "    return sum(p.numel() for p in model.parameters() if p.requires_grad)\n",
        "print(f'\\n################################################\\\n",
        "       \\n# The model has {count_parameters(model):,} trainable parameters #\\\n",
        "       \\n################################################')  "
      ],
      "execution_count": null,
      "outputs": [
        {
          "output_type": "stream",
          "text": [
            "Deterministic experiment, seed: 0\n",
            "Using Yogi\n",
            "MLP(\n",
            "  (norm0): LayerNorm((17299,), eps=1e-05, elementwise_affine=True)\n",
            "  (drop): Dropout(p=0.358600871034648, inplace=False)\n",
            "  (relu): ReLU()\n",
            "  (fc0): Linear(in_features=17299, out_features=70, bias=True)\n",
            "  (fc1): Linear(in_features=70, out_features=39, bias=True)\n",
            "  (fc2): Linear(in_features=39, out_features=2, bias=True)\n",
            ")\n",
            "\n",
            "################################################       \n",
            "# The model has 1,248,447 trainable parameters #       \n",
            "################################################\n"
          ],
          "name": "stdout"
        }
      ]
    },
    {
      "cell_type": "code",
      "metadata": {
        "colab_type": "code",
        "id": "qWN-RKyIYAy5",
        "colab": {
          "base_uri": "https://localhost:8080/",
          "height": 578
        },
        "outputId": "f6ed8c49-6955-4cb3-a338-ded02bedbaa4"
      },
      "source": [
        "%%time\n",
        "import os\n",
        "deterministic() \n",
        "\n",
        "N_EPOCHS = 100\n",
        "epoch, best_acc = 0,0\n",
        "\n",
        "for step in range(1, N_EPOCHS+1):\n",
        "  loss_train, ppl_train = train(model, device, train_loader_bow, criterion, optimizer)\n",
        "  loss_valid, ppl_valid, acc = test(model, device, valid_loader_bow, criterion)\n",
        "  if acc >= best_acc:\n",
        "    best_acc = acc\n",
        "    epoch    = step\n",
        "    print(f'Epoch [{step}/{N_EPOCHS}] | Train Loss: {loss_train:.3f} -- Valid Loss: {loss_valid:.3f} --',end=' ')\n",
        "    print(f'Acc: {acc:.3f}')\n",
        "    print(f'Ppl train: {ppl_train:.3f} -- Ppl valid: {ppl_valid:.3f}\\n')\n",
        "   \n",
        "print(f'\\nEnd of training. Best Acc: -->[{best_acc:.4f}]<--, at epoch: {epoch}\\n')"
      ],
      "execution_count": null,
      "outputs": [
        {
          "output_type": "stream",
          "text": [
            "Deterministic experiment, seed: 0\n",
            "Epoch [1/100] | Train Loss: 0.664 -- Valid Loss: 0.585 -- Acc: 0.780\n",
            "Ppl train: 1.943 -- Ppl valid: 1.795\n",
            "\n",
            "Epoch [2/100] | Train Loss: 0.502 -- Valid Loss: 0.558 -- Acc: 0.815\n",
            "Ppl train: 1.653 -- Ppl valid: 1.747\n",
            "\n",
            "Epoch [3/100] | Train Loss: 0.478 -- Valid Loss: 0.564 -- Acc: 0.835\n",
            "Ppl train: 1.613 -- Ppl valid: 1.758\n",
            "\n",
            "Epoch [4/100] | Train Loss: 0.473 -- Valid Loss: 0.575 -- Acc: 0.850\n",
            "Ppl train: 1.604 -- Ppl valid: 1.777\n",
            "\n",
            "Epoch [10/100] | Train Loss: 0.447 -- Valid Loss: 0.566 -- Acc: 0.850\n",
            "Ppl train: 1.563 -- Ppl valid: 1.762\n",
            "\n",
            "Epoch [11/100] | Train Loss: 0.448 -- Valid Loss: 0.569 -- Acc: 0.855\n",
            "Ppl train: 1.565 -- Ppl valid: 1.767\n",
            "\n",
            "Epoch [12/100] | Train Loss: 0.445 -- Valid Loss: 0.570 -- Acc: 0.860\n",
            "Ppl train: 1.560 -- Ppl valid: 1.769\n",
            "\n",
            "Epoch [13/100] | Train Loss: 0.443 -- Valid Loss: 0.571 -- Acc: 0.860\n",
            "Ppl train: 1.557 -- Ppl valid: 1.770\n",
            "\n",
            "Epoch [20/100] | Train Loss: 0.438 -- Valid Loss: 0.570 -- Acc: 0.880\n",
            "Ppl train: 1.549 -- Ppl valid: 1.769\n",
            "\n",
            "\n",
            "End of training. Best Acc: -->[0.8800]<--, at epoch: 20\n",
            "\n",
            "CPU times: user 13.5 s, sys: 888 ms, total: 14.4 s\n",
            "Wall time: 14.5 s\n"
          ],
          "name": "stdout"
        }
      ]
    },
    {
      "cell_type": "markdown",
      "metadata": {
        "id": "bYEkdNJQbcOc",
        "colab_type": "text"
      },
      "source": [
        "# Implementação com Embeddings glove"
      ]
    },
    {
      "cell_type": "code",
      "metadata": {
        "id": "S8jxHv06bcKx",
        "colab_type": "code",
        "colab": {
          "base_uri": "https://localhost:8080/",
          "height": 34
        },
        "outputId": "20f1281f-cbf6-47ab-cb34-1ad68f089540"
      },
      "source": [
        "set_vocabulary = set() # palavras únicas \n",
        "for review in tokenized_processed:\n",
        "  for word in review:\n",
        "    set_vocabulary.add(word)\n",
        "\n",
        "vocab_set_size = len(set_vocabulary) # conj. de words do vocab\n",
        "\n",
        "print(f'Set vocab size: {vocab_set_size} words') # tamanho do vocab do IMDB"
      ],
      "execution_count": null,
      "outputs": [
        {
          "output_type": "stream",
          "text": [
            "Set vocab size: 19734 words\n"
          ],
          "name": "stdout"
        }
      ]
    },
    {
      "cell_type": "code",
      "metadata": {
        "id": "fAPu3HwpbcHt",
        "colab_type": "code",
        "colab": {}
      },
      "source": [
        "# dict word2idx\n",
        "idx = 0\n",
        "word_to_idx = {} # dict {word:number}\n",
        "for word in set_vocabulary:\n",
        "  word_to_idx[word] = idx\n",
        "  idx += 1\n",
        "\n",
        "# dict idx to word\n",
        "idx_to_word = {value: key for key, value in iter(word_to_idx.items())} #dict {number:word}"
      ],
      "execution_count": null,
      "outputs": []
    },
    {
      "cell_type": "code",
      "metadata": {
        "id": "WChWEUi1bnFj",
        "colab_type": "code",
        "colab": {}
      },
      "source": [
        "# cria a lista de índices das sequências de cada review\n",
        "sequence_reviews = []\n",
        "for review in tokenized_processed:\n",
        "  word_seq = []\n",
        "  for word in review:\n",
        "    word_seq.append(word_to_idx[word])\n",
        "  sequence_reviews.append(word_seq)"
      ],
      "execution_count": null,
      "outputs": []
    },
    {
      "cell_type": "markdown",
      "metadata": {
        "id": "w1cfZKdtmxNq",
        "colab_type": "text"
      },
      "source": [
        "## Download glove"
      ]
    },
    {
      "cell_type": "code",
      "metadata": {
        "id": "wgS2W7SCbpjv",
        "colab_type": "code",
        "colab": {
          "base_uri": "https://localhost:8080/",
          "height": 51
        },
        "outputId": "9adde378-43f8-486c-f20a-a7d1120462cc"
      },
      "source": [
        "import torchtext.vocab\n",
        "\n",
        "# glove\n",
        "glove = torchtext.vocab.GloVe(name = '6B', dim = 300)\n",
        "print(f'There are {len(glove.itos)} words in the vocabulary')"
      ],
      "execution_count": null,
      "outputs": [
        {
          "output_type": "stream",
          "text": [
            ".vector_cache/glove.6B.zip: 862MB [06:26, 2.23MB/s]                          \n",
            "100%|█████████▉| 399670/400000 [00:38<00:00, 10172.39it/s]"
          ],
          "name": "stderr"
        },
        {
          "output_type": "stream",
          "text": [
            "There are 400000 words in the vocabulary\n"
          ],
          "name": "stdout"
        }
      ]
    },
    {
      "cell_type": "code",
      "metadata": {
        "id": "E2xX2HREbm_i",
        "colab_type": "code",
        "colab": {}
      },
      "source": [
        "emb_dim = glove.vectors.shape[1] # dim do emb = 300 = dim do emb. do glove\n",
        "emb     = np.zeros((vocab_set_size, emb_dim)) # cria um array de zeros"
      ],
      "execution_count": null,
      "outputs": []
    },
    {
      "cell_type": "code",
      "metadata": {
        "id": "c6h2H4vYbm9W",
        "colab_type": "code",
        "colab": {}
      },
      "source": [
        "# mapeia os embeddings do glove nas palavras do dataset IMDB\n",
        "for num in range(1, len(emb)):\n",
        "  word = idx_to_word[num]\n",
        "  if word and re.match(r\"^[a-zA-Z0-9\\-]*$\", word) and word in glove.stoi.keys(): \n",
        "    temp_idx = glove.stoi[word] # pega o idx da palavra no glove.stoi dict\n",
        "    emb[num] = glove.vectors[temp_idx] \n",
        "  else: # o else é para o caso se não existir a palavra no glove e evitar uma quebra\n",
        "    emb[num] = np.random.normal(size=(emb_dim,))"
      ],
      "execution_count": null,
      "outputs": []
    },
    {
      "cell_type": "markdown",
      "metadata": {
        "id": "VUP8Ti-FtZGY",
        "colab_type": "text"
      },
      "source": [
        "## Com a soma dos Embeddings"
      ]
    },
    {
      "cell_type": "code",
      "metadata": {
        "id": "XAOCjpT3MdER",
        "colab_type": "code",
        "colab": {}
      },
      "source": [
        "# Somando os embeddings de cada review \n",
        "dataset_sum = []\n",
        "for review in sequence_reviews:\n",
        "  word_sum = np.zeros(emb_dim)\n",
        "  for idx in review:\n",
        "    word_sum += emb[idx]\n",
        "  dataset_sum.append(word_sum)  "
      ],
      "execution_count": null,
      "outputs": []
    },
    {
      "cell_type": "markdown",
      "metadata": {
        "id": "XlsRxsELtcZO",
        "colab_type": "text"
      },
      "source": [
        "## Com a média dos Embeddings"
      ]
    },
    {
      "cell_type": "code",
      "metadata": {
        "id": "MLw8n8NttI_x",
        "colab_type": "code",
        "colab": {}
      },
      "source": [
        "# Fazendo a média dos embedding de cada review\n",
        "dataset_mean = []\n",
        "for review in sequence_reviews:\n",
        "  word_mean = np.zeros(emb_dim)\n",
        "  for idx in review:\n",
        "    word_mean += emb[idx]\n",
        "  dataset_mean.append(word_mean)"
      ],
      "execution_count": null,
      "outputs": []
    },
    {
      "cell_type": "code",
      "metadata": {
        "id": "ojbQevjcMdBh",
        "colab_type": "code",
        "colab": {}
      },
      "source": [
        "# split do dado em train=80% e test=20%\n",
        "X_train_emb, X_test_emb, y_train_emb, y_test_emb = train_test_split(dataset_mean, \n",
        "                                                                    labels, \n",
        "                                                                    test_size=0.2, \n",
        "                                                                    random_state=123)"
      ],
      "execution_count": null,
      "outputs": []
    },
    {
      "cell_type": "code",
      "metadata": {
        "colab_type": "code",
        "id": "BCOES_t7e64M",
        "colab": {}
      },
      "source": [
        "# Cria o dataset (Pandas DF) de treino\n",
        "df_train_emb = pd.DataFrame(X_train_emb)\n",
        "df_train_emb['label'] = y_train_emb\n",
        "cols = df_train_emb.columns.tolist()\n",
        "cols = cols[-1:] + cols[:-1]\n",
        "df_train_emb = df_train_emb[cols]\n",
        "\n",
        "# Cria o dataset (Pandas DF) de teste\n",
        "df_test_emb = pd.DataFrame(X_test_emb)\n",
        "df_test_emb['label'] = y_test_emb\n",
        "cols = df_test_emb.columns.tolist()\n",
        "cols = cols[-1:] + cols[:-1]\n",
        "df_test_emb = df_test_emb[cols]"
      ],
      "execution_count": null,
      "outputs": []
    },
    {
      "cell_type": "code",
      "metadata": {
        "colab_type": "code",
        "id": "q5NTUmxpe64S",
        "colab": {
          "base_uri": "https://localhost:8080/",
          "height": 287
        },
        "outputId": "43d9d4cb-4aba-4556-8f42-12127fcef7c9"
      },
      "source": [
        "# Salva em CSV (não é a melhor forma de fazer, mas qdo o colab quebra é mais rápido de reiniciar)\n",
        "df_train_emb.to_csv('train_emb.csv')\n",
        "df_test_emb.to_csv('test_emb.csv')\n",
        "\n",
        "df_train_emb = pd.read_csv('train_emb.csv',index_col=0)\n",
        "df_test_emb  = pd.read_csv('test_emb.csv', index_col=0)\n",
        "\n",
        "print(f'df_train_emb.shape: {df_train_emb.shape}') \n",
        "print(f'df_test_emb.shape: {df_test_emb.shape}') \n",
        "\n",
        "# teste de sanidade:\n",
        "trn = pd.read_csv('train_emb.csv', index_col=0)\n",
        "trn.head() # é 301 com a coluna label"
      ],
      "execution_count": null,
      "outputs": [
        {
          "output_type": "stream",
          "text": [
            "df_train_emb.shape: (800, 301)\n",
            "df_test_emb.shape: (200, 301)\n"
          ],
          "name": "stdout"
        },
        {
          "output_type": "execute_result",
          "data": {
            "text/html": [
              "<div>\n",
              "<style scoped>\n",
              "    .dataframe tbody tr th:only-of-type {\n",
              "        vertical-align: middle;\n",
              "    }\n",
              "\n",
              "    .dataframe tbody tr th {\n",
              "        vertical-align: top;\n",
              "    }\n",
              "\n",
              "    .dataframe thead th {\n",
              "        text-align: right;\n",
              "    }\n",
              "</style>\n",
              "<table border=\"1\" class=\"dataframe\">\n",
              "  <thead>\n",
              "    <tr style=\"text-align: right;\">\n",
              "      <th></th>\n",
              "      <th>label</th>\n",
              "      <th>0</th>\n",
              "      <th>1</th>\n",
              "      <th>2</th>\n",
              "      <th>3</th>\n",
              "      <th>4</th>\n",
              "      <th>5</th>\n",
              "      <th>6</th>\n",
              "      <th>7</th>\n",
              "      <th>8</th>\n",
              "      <th>9</th>\n",
              "      <th>10</th>\n",
              "      <th>11</th>\n",
              "      <th>12</th>\n",
              "      <th>13</th>\n",
              "      <th>14</th>\n",
              "      <th>15</th>\n",
              "      <th>16</th>\n",
              "      <th>17</th>\n",
              "      <th>18</th>\n",
              "      <th>19</th>\n",
              "      <th>20</th>\n",
              "      <th>21</th>\n",
              "      <th>22</th>\n",
              "      <th>23</th>\n",
              "      <th>24</th>\n",
              "      <th>25</th>\n",
              "      <th>26</th>\n",
              "      <th>27</th>\n",
              "      <th>28</th>\n",
              "      <th>29</th>\n",
              "      <th>30</th>\n",
              "      <th>31</th>\n",
              "      <th>32</th>\n",
              "      <th>33</th>\n",
              "      <th>34</th>\n",
              "      <th>35</th>\n",
              "      <th>36</th>\n",
              "      <th>37</th>\n",
              "      <th>38</th>\n",
              "      <th>...</th>\n",
              "      <th>260</th>\n",
              "      <th>261</th>\n",
              "      <th>262</th>\n",
              "      <th>263</th>\n",
              "      <th>264</th>\n",
              "      <th>265</th>\n",
              "      <th>266</th>\n",
              "      <th>267</th>\n",
              "      <th>268</th>\n",
              "      <th>269</th>\n",
              "      <th>270</th>\n",
              "      <th>271</th>\n",
              "      <th>272</th>\n",
              "      <th>273</th>\n",
              "      <th>274</th>\n",
              "      <th>275</th>\n",
              "      <th>276</th>\n",
              "      <th>277</th>\n",
              "      <th>278</th>\n",
              "      <th>279</th>\n",
              "      <th>280</th>\n",
              "      <th>281</th>\n",
              "      <th>282</th>\n",
              "      <th>283</th>\n",
              "      <th>284</th>\n",
              "      <th>285</th>\n",
              "      <th>286</th>\n",
              "      <th>287</th>\n",
              "      <th>288</th>\n",
              "      <th>289</th>\n",
              "      <th>290</th>\n",
              "      <th>291</th>\n",
              "      <th>292</th>\n",
              "      <th>293</th>\n",
              "      <th>294</th>\n",
              "      <th>295</th>\n",
              "      <th>296</th>\n",
              "      <th>297</th>\n",
              "      <th>298</th>\n",
              "      <th>299</th>\n",
              "    </tr>\n",
              "  </thead>\n",
              "  <tbody>\n",
              "    <tr>\n",
              "      <th>0</th>\n",
              "      <td>0</td>\n",
              "      <td>-1.175189</td>\n",
              "      <td>7.890260</td>\n",
              "      <td>-3.335603</td>\n",
              "      <td>-0.623612</td>\n",
              "      <td>-0.493672</td>\n",
              "      <td>4.780501</td>\n",
              "      <td>-1.118976</td>\n",
              "      <td>8.345500</td>\n",
              "      <td>-0.268218</td>\n",
              "      <td>-98.652219</td>\n",
              "      <td>8.308585</td>\n",
              "      <td>-0.845498</td>\n",
              "      <td>-6.968584</td>\n",
              "      <td>10.715902</td>\n",
              "      <td>-5.349379</td>\n",
              "      <td>-17.695685</td>\n",
              "      <td>-11.697952</td>\n",
              "      <td>-4.637259</td>\n",
              "      <td>9.044115</td>\n",
              "      <td>9.437877</td>\n",
              "      <td>13.441528</td>\n",
              "      <td>25.621982</td>\n",
              "      <td>13.948138</td>\n",
              "      <td>0.598330</td>\n",
              "      <td>-7.811959</td>\n",
              "      <td>8.302181</td>\n",
              "      <td>10.292526</td>\n",
              "      <td>-14.561384</td>\n",
              "      <td>7.036685</td>\n",
              "      <td>6.564113</td>\n",
              "      <td>-8.189259</td>\n",
              "      <td>14.378858</td>\n",
              "      <td>-25.205401</td>\n",
              "      <td>-13.822574</td>\n",
              "      <td>-65.980924</td>\n",
              "      <td>8.450704</td>\n",
              "      <td>-10.228753</td>\n",
              "      <td>3.127133</td>\n",
              "      <td>1.861251</td>\n",
              "      <td>...</td>\n",
              "      <td>2.753446</td>\n",
              "      <td>-8.488267</td>\n",
              "      <td>-6.017050</td>\n",
              "      <td>-5.913927</td>\n",
              "      <td>-0.800698</td>\n",
              "      <td>5.500927</td>\n",
              "      <td>-7.506946</td>\n",
              "      <td>-10.436810</td>\n",
              "      <td>7.356865</td>\n",
              "      <td>19.226468</td>\n",
              "      <td>8.580069</td>\n",
              "      <td>-5.825167</td>\n",
              "      <td>8.854994</td>\n",
              "      <td>0.014664</td>\n",
              "      <td>12.343413</td>\n",
              "      <td>13.278913</td>\n",
              "      <td>-118.768193</td>\n",
              "      <td>-0.553934</td>\n",
              "      <td>15.648481</td>\n",
              "      <td>-10.788418</td>\n",
              "      <td>-6.889231</td>\n",
              "      <td>1.847679</td>\n",
              "      <td>3.200727</td>\n",
              "      <td>4.155577</td>\n",
              "      <td>2.368402</td>\n",
              "      <td>5.161657</td>\n",
              "      <td>7.243918</td>\n",
              "      <td>2.182981</td>\n",
              "      <td>-7.676454</td>\n",
              "      <td>-0.832201</td>\n",
              "      <td>3.753030</td>\n",
              "      <td>-6.959814</td>\n",
              "      <td>-6.064977</td>\n",
              "      <td>1.756640</td>\n",
              "      <td>1.869142</td>\n",
              "      <td>-26.796490</td>\n",
              "      <td>4.293049</td>\n",
              "      <td>1.092765</td>\n",
              "      <td>-1.346390</td>\n",
              "      <td>5.564341</td>\n",
              "    </tr>\n",
              "    <tr>\n",
              "      <th>1</th>\n",
              "      <td>0</td>\n",
              "      <td>-3.325124</td>\n",
              "      <td>4.122604</td>\n",
              "      <td>-2.091796</td>\n",
              "      <td>1.704440</td>\n",
              "      <td>-1.080098</td>\n",
              "      <td>0.007943</td>\n",
              "      <td>0.703317</td>\n",
              "      <td>2.217407</td>\n",
              "      <td>2.019190</td>\n",
              "      <td>-44.418174</td>\n",
              "      <td>6.173046</td>\n",
              "      <td>-0.687947</td>\n",
              "      <td>-1.658936</td>\n",
              "      <td>7.832602</td>\n",
              "      <td>1.310181</td>\n",
              "      <td>-3.749725</td>\n",
              "      <td>0.999754</td>\n",
              "      <td>-1.707927</td>\n",
              "      <td>6.429207</td>\n",
              "      <td>9.140724</td>\n",
              "      <td>10.182271</td>\n",
              "      <td>11.903065</td>\n",
              "      <td>3.162164</td>\n",
              "      <td>-0.072153</td>\n",
              "      <td>-6.980918</td>\n",
              "      <td>0.312659</td>\n",
              "      <td>3.052520</td>\n",
              "      <td>-7.473797</td>\n",
              "      <td>4.266604</td>\n",
              "      <td>4.918511</td>\n",
              "      <td>-8.362916</td>\n",
              "      <td>4.045189</td>\n",
              "      <td>-8.796783</td>\n",
              "      <td>0.054594</td>\n",
              "      <td>-41.645077</td>\n",
              "      <td>5.693744</td>\n",
              "      <td>-6.617915</td>\n",
              "      <td>0.344042</td>\n",
              "      <td>1.879002</td>\n",
              "      <td>...</td>\n",
              "      <td>-1.010542</td>\n",
              "      <td>-5.018574</td>\n",
              "      <td>0.353384</td>\n",
              "      <td>-3.930324</td>\n",
              "      <td>-1.776730</td>\n",
              "      <td>-1.839825</td>\n",
              "      <td>0.149257</td>\n",
              "      <td>-6.029155</td>\n",
              "      <td>1.750806</td>\n",
              "      <td>10.972487</td>\n",
              "      <td>4.623418</td>\n",
              "      <td>-6.995084</td>\n",
              "      <td>3.743650</td>\n",
              "      <td>-5.144257</td>\n",
              "      <td>5.060139</td>\n",
              "      <td>-0.337170</td>\n",
              "      <td>-66.040384</td>\n",
              "      <td>5.978527</td>\n",
              "      <td>2.000124</td>\n",
              "      <td>-3.143935</td>\n",
              "      <td>-11.692010</td>\n",
              "      <td>3.664508</td>\n",
              "      <td>-0.363919</td>\n",
              "      <td>-3.321573</td>\n",
              "      <td>-3.314130</td>\n",
              "      <td>8.388756</td>\n",
              "      <td>4.152227</td>\n",
              "      <td>-1.471174</td>\n",
              "      <td>-2.609580</td>\n",
              "      <td>-6.410495</td>\n",
              "      <td>3.361549</td>\n",
              "      <td>-1.065244</td>\n",
              "      <td>-5.592382</td>\n",
              "      <td>2.081049</td>\n",
              "      <td>-5.998598</td>\n",
              "      <td>-19.252952</td>\n",
              "      <td>-1.710061</td>\n",
              "      <td>1.636862</td>\n",
              "      <td>1.525938</td>\n",
              "      <td>6.032985</td>\n",
              "    </tr>\n",
              "    <tr>\n",
              "      <th>2</th>\n",
              "      <td>0</td>\n",
              "      <td>-5.968698</td>\n",
              "      <td>6.109819</td>\n",
              "      <td>1.351162</td>\n",
              "      <td>-2.166283</td>\n",
              "      <td>4.843036</td>\n",
              "      <td>6.535433</td>\n",
              "      <td>-5.611836</td>\n",
              "      <td>3.233865</td>\n",
              "      <td>0.358069</td>\n",
              "      <td>-62.947103</td>\n",
              "      <td>3.532420</td>\n",
              "      <td>-1.483208</td>\n",
              "      <td>-2.571186</td>\n",
              "      <td>8.016742</td>\n",
              "      <td>-0.031484</td>\n",
              "      <td>-8.584871</td>\n",
              "      <td>-7.260515</td>\n",
              "      <td>1.360762</td>\n",
              "      <td>5.496764</td>\n",
              "      <td>5.736401</td>\n",
              "      <td>1.729584</td>\n",
              "      <td>14.500372</td>\n",
              "      <td>6.956912</td>\n",
              "      <td>5.355796</td>\n",
              "      <td>-5.028713</td>\n",
              "      <td>-1.131714</td>\n",
              "      <td>1.849990</td>\n",
              "      <td>-11.602456</td>\n",
              "      <td>8.685791</td>\n",
              "      <td>1.473613</td>\n",
              "      <td>-11.861843</td>\n",
              "      <td>11.891792</td>\n",
              "      <td>-8.586375</td>\n",
              "      <td>-4.980456</td>\n",
              "      <td>-39.153563</td>\n",
              "      <td>8.998899</td>\n",
              "      <td>-11.264067</td>\n",
              "      <td>-2.856228</td>\n",
              "      <td>-10.338615</td>\n",
              "      <td>...</td>\n",
              "      <td>5.190274</td>\n",
              "      <td>-2.366938</td>\n",
              "      <td>3.234602</td>\n",
              "      <td>1.656442</td>\n",
              "      <td>-3.229141</td>\n",
              "      <td>1.955247</td>\n",
              "      <td>-4.027668</td>\n",
              "      <td>-0.000716</td>\n",
              "      <td>0.010369</td>\n",
              "      <td>12.054717</td>\n",
              "      <td>0.500569</td>\n",
              "      <td>-4.295453</td>\n",
              "      <td>3.741223</td>\n",
              "      <td>6.252916</td>\n",
              "      <td>1.102212</td>\n",
              "      <td>-1.715822</td>\n",
              "      <td>-81.925333</td>\n",
              "      <td>-6.589124</td>\n",
              "      <td>-0.501309</td>\n",
              "      <td>-9.921314</td>\n",
              "      <td>-6.507059</td>\n",
              "      <td>-0.031098</td>\n",
              "      <td>0.422608</td>\n",
              "      <td>4.592097</td>\n",
              "      <td>-3.507558</td>\n",
              "      <td>13.131541</td>\n",
              "      <td>6.127293</td>\n",
              "      <td>-2.404148</td>\n",
              "      <td>-2.429493</td>\n",
              "      <td>2.500425</td>\n",
              "      <td>-1.493398</td>\n",
              "      <td>-4.286826</td>\n",
              "      <td>-5.707399</td>\n",
              "      <td>-1.993366</td>\n",
              "      <td>3.552865</td>\n",
              "      <td>-19.591845</td>\n",
              "      <td>2.992214</td>\n",
              "      <td>4.690124</td>\n",
              "      <td>1.108768</td>\n",
              "      <td>-0.307468</td>\n",
              "    </tr>\n",
              "    <tr>\n",
              "      <th>3</th>\n",
              "      <td>0</td>\n",
              "      <td>-17.704013</td>\n",
              "      <td>3.248839</td>\n",
              "      <td>-0.463489</td>\n",
              "      <td>0.066741</td>\n",
              "      <td>-0.445604</td>\n",
              "      <td>15.513841</td>\n",
              "      <td>-10.339036</td>\n",
              "      <td>6.232302</td>\n",
              "      <td>9.599130</td>\n",
              "      <td>-125.177975</td>\n",
              "      <td>5.502706</td>\n",
              "      <td>-4.742642</td>\n",
              "      <td>-4.669554</td>\n",
              "      <td>12.887255</td>\n",
              "      <td>-3.463090</td>\n",
              "      <td>-13.335997</td>\n",
              "      <td>-1.455440</td>\n",
              "      <td>-13.085422</td>\n",
              "      <td>16.931981</td>\n",
              "      <td>3.123546</td>\n",
              "      <td>14.102994</td>\n",
              "      <td>28.188383</td>\n",
              "      <td>7.255666</td>\n",
              "      <td>25.189019</td>\n",
              "      <td>-12.698952</td>\n",
              "      <td>1.831850</td>\n",
              "      <td>5.090850</td>\n",
              "      <td>-22.527845</td>\n",
              "      <td>8.152490</td>\n",
              "      <td>-5.361577</td>\n",
              "      <td>-13.652625</td>\n",
              "      <td>22.837091</td>\n",
              "      <td>-23.505551</td>\n",
              "      <td>-4.957126</td>\n",
              "      <td>-107.178161</td>\n",
              "      <td>24.194266</td>\n",
              "      <td>-11.464290</td>\n",
              "      <td>11.265455</td>\n",
              "      <td>-8.820877</td>\n",
              "      <td>...</td>\n",
              "      <td>-2.304915</td>\n",
              "      <td>-7.171077</td>\n",
              "      <td>2.200216</td>\n",
              "      <td>-7.830466</td>\n",
              "      <td>-5.492378</td>\n",
              "      <td>2.728261</td>\n",
              "      <td>10.374815</td>\n",
              "      <td>-16.043465</td>\n",
              "      <td>16.735035</td>\n",
              "      <td>17.944590</td>\n",
              "      <td>6.383995</td>\n",
              "      <td>-8.103817</td>\n",
              "      <td>13.288826</td>\n",
              "      <td>-7.609929</td>\n",
              "      <td>9.301858</td>\n",
              "      <td>3.795162</td>\n",
              "      <td>-164.076881</td>\n",
              "      <td>-5.323981</td>\n",
              "      <td>9.549318</td>\n",
              "      <td>-5.404796</td>\n",
              "      <td>-14.969718</td>\n",
              "      <td>9.098634</td>\n",
              "      <td>-4.858930</td>\n",
              "      <td>0.003711</td>\n",
              "      <td>1.193812</td>\n",
              "      <td>16.437293</td>\n",
              "      <td>4.389677</td>\n",
              "      <td>3.538050</td>\n",
              "      <td>-5.429608</td>\n",
              "      <td>-5.157111</td>\n",
              "      <td>0.036722</td>\n",
              "      <td>-5.656491</td>\n",
              "      <td>-16.752154</td>\n",
              "      <td>6.048390</td>\n",
              "      <td>-2.379699</td>\n",
              "      <td>-28.599964</td>\n",
              "      <td>-4.505762</td>\n",
              "      <td>3.603978</td>\n",
              "      <td>-0.296623</td>\n",
              "      <td>-3.579694</td>\n",
              "    </tr>\n",
              "    <tr>\n",
              "      <th>4</th>\n",
              "      <td>1</td>\n",
              "      <td>-40.989377</td>\n",
              "      <td>16.946282</td>\n",
              "      <td>-8.290026</td>\n",
              "      <td>-35.707902</td>\n",
              "      <td>-19.382237</td>\n",
              "      <td>22.271054</td>\n",
              "      <td>-22.587023</td>\n",
              "      <td>-7.844867</td>\n",
              "      <td>-13.060309</td>\n",
              "      <td>-234.151581</td>\n",
              "      <td>24.195289</td>\n",
              "      <td>4.870549</td>\n",
              "      <td>-27.473166</td>\n",
              "      <td>38.165710</td>\n",
              "      <td>11.335514</td>\n",
              "      <td>-21.844541</td>\n",
              "      <td>-6.554400</td>\n",
              "      <td>-20.044815</td>\n",
              "      <td>16.002340</td>\n",
              "      <td>13.515200</td>\n",
              "      <td>-9.192250</td>\n",
              "      <td>73.277540</td>\n",
              "      <td>26.322499</td>\n",
              "      <td>42.987998</td>\n",
              "      <td>-7.809791</td>\n",
              "      <td>36.099974</td>\n",
              "      <td>28.650725</td>\n",
              "      <td>-66.885000</td>\n",
              "      <td>-13.823741</td>\n",
              "      <td>66.031858</td>\n",
              "      <td>-27.130183</td>\n",
              "      <td>5.486564</td>\n",
              "      <td>-32.281351</td>\n",
              "      <td>-14.962282</td>\n",
              "      <td>-155.546311</td>\n",
              "      <td>25.804761</td>\n",
              "      <td>-14.836090</td>\n",
              "      <td>5.357022</td>\n",
              "      <td>39.215412</td>\n",
              "      <td>...</td>\n",
              "      <td>-9.817915</td>\n",
              "      <td>-19.974135</td>\n",
              "      <td>21.979366</td>\n",
              "      <td>5.247863</td>\n",
              "      <td>-19.254807</td>\n",
              "      <td>3.890525</td>\n",
              "      <td>-11.310593</td>\n",
              "      <td>-9.602268</td>\n",
              "      <td>10.451536</td>\n",
              "      <td>44.334368</td>\n",
              "      <td>37.786378</td>\n",
              "      <td>9.463019</td>\n",
              "      <td>-5.907602</td>\n",
              "      <td>-0.546631</td>\n",
              "      <td>26.048824</td>\n",
              "      <td>23.763076</td>\n",
              "      <td>-336.446495</td>\n",
              "      <td>-43.303972</td>\n",
              "      <td>2.507436</td>\n",
              "      <td>-27.934324</td>\n",
              "      <td>-18.077321</td>\n",
              "      <td>18.578199</td>\n",
              "      <td>-1.633587</td>\n",
              "      <td>18.766740</td>\n",
              "      <td>-10.112308</td>\n",
              "      <td>47.196924</td>\n",
              "      <td>-21.712629</td>\n",
              "      <td>47.335789</td>\n",
              "      <td>-31.958048</td>\n",
              "      <td>-15.132986</td>\n",
              "      <td>-9.315146</td>\n",
              "      <td>-12.108823</td>\n",
              "      <td>11.845148</td>\n",
              "      <td>22.100669</td>\n",
              "      <td>15.953262</td>\n",
              "      <td>-15.289622</td>\n",
              "      <td>-5.795462</td>\n",
              "      <td>-2.927339</td>\n",
              "      <td>-0.642241</td>\n",
              "      <td>2.319307</td>\n",
              "    </tr>\n",
              "  </tbody>\n",
              "</table>\n",
              "<p>5 rows × 301 columns</p>\n",
              "</div>"
            ],
            "text/plain": [
              "   label          0          1  ...       297       298       299\n",
              "0      0  -1.175189   7.890260  ...  1.092765 -1.346390  5.564341\n",
              "1      0  -3.325124   4.122604  ...  1.636862  1.525938  6.032985\n",
              "2      0  -5.968698   6.109819  ...  4.690124  1.108768 -0.307468\n",
              "3      0 -17.704013   3.248839  ...  3.603978 -0.296623 -3.579694\n",
              "4      1 -40.989377  16.946282  ... -2.927339 -0.642241  2.319307\n",
              "\n",
              "[5 rows x 301 columns]"
            ]
          },
          "metadata": {
            "tags": []
          },
          "execution_count": 144
        }
      ]
    },
    {
      "cell_type": "markdown",
      "metadata": {
        "colab_type": "text",
        "id": "jBFOazOGgGp4"
      },
      "source": [
        "## Dataloaders, Minibatches and Criterion\n"
      ]
    },
    {
      "cell_type": "code",
      "metadata": {
        "colab_type": "code",
        "id": "bu3YK4pygGp8",
        "colab": {
          "base_uri": "https://localhost:8080/",
          "height": 34
        },
        "outputId": "40545d49-bbe4-43f9-a14c-47e5e0c5a5e4"
      },
      "source": [
        "BATCH_SIZE = 20\n",
        "\n",
        "# Cria datasets de TREINO e VALID\n",
        "dataset_train  = ImdbDataset('train_emb.csv')\n",
        "dataset_valid  = ImdbDataset('test_emb.csv')\n",
        "\n",
        "# Cria dataloader das médias (ou sum) dos embeddings -  TREINO\n",
        "train_loader_emb = DataLoader(dataset=dataset_train, \n",
        "                              batch_size=BATCH_SIZE, \n",
        "                              shuffle=True)\n",
        "\n",
        "# Cria dataloader das médias (ou sum) dos embeddings -  VALID\n",
        "valid_loader_emb = DataLoader(dataset=dataset_valid, \n",
        "                              batch_size=BATCH_SIZE, \n",
        "                              shuffle=False)                       \n",
        "\n",
        "print(len(train_loader_emb), len(valid_loader_emb))"
      ],
      "execution_count": null,
      "outputs": [
        {
          "output_type": "stream",
          "text": [
            "40 10\n"
          ],
          "name": "stdout"
        }
      ]
    },
    {
      "cell_type": "code",
      "metadata": {
        "id": "id-aWj65zqMr",
        "colab_type": "code",
        "colab": {
          "base_uri": "https://localhost:8080/",
          "height": 51
        },
        "outputId": "68af2cc3-da38-4624-f749-f9e63b80192c"
      },
      "source": [
        "a = nn.Parameter(torch.randn(BATCH_SIZE, 300).type(torch.FloatTensor))\n",
        "b = nn.Parameter(torch.randn(BATCH_SIZE, 70).type(torch.FloatTensor))\n",
        "print(a.T.shape, b.shape)\n",
        "c = torch.einsum('ij, jk -> ik', a.T, b)\n",
        "c.shape, c[:,0].shape, c[0, :].shape"
      ],
      "execution_count": null,
      "outputs": [
        {
          "output_type": "stream",
          "text": [
            "torch.Size([300, 20]) torch.Size([20, 70])\n"
          ],
          "name": "stdout"
        },
        {
          "output_type": "execute_result",
          "data": {
            "text/plain": [
              "(torch.Size([300, 70]), torch.Size([300]), torch.Size([70]))"
            ]
          },
          "metadata": {
            "tags": []
          },
          "execution_count": 146
        }
      ]
    },
    {
      "cell_type": "markdown",
      "metadata": {
        "id": "AT1eILIstpL2",
        "colab_type": "text"
      },
      "source": [
        "## Modelo - MLPEmb"
      ]
    },
    {
      "cell_type": "code",
      "metadata": {
        "id": "rlFz-R3BiAvN",
        "colab_type": "code",
        "colab": {}
      },
      "source": [
        "class MLPEmb(nn.Module):\n",
        "  def __init__(self, emb_dim, neur1, neur2, drop, out):\n",
        "    super(MLPEmb, self).__init__()\n",
        "    \n",
        "    self.drop = nn.Dropout(drop)\n",
        "    self.relu = nn.ReLU() \n",
        "    \n",
        "    \"\"\" O x já é um glove embedding, então eu vou congelar essa camada \n",
        "        e colocar bias=False para nao desconfigurar o processamento\"\"\"\n",
        "    self.emb = nn.Linear(emb_dim, neur1, bias=False) \n",
        "    \n",
        "    self.fc1 = nn.Linear(neur1, neur2)\n",
        "    self.fc2 = nn.Linear(neur2, out) \n",
        "\n",
        "  def forward(self, x):\n",
        "    o = self.relu(self.emb(x))\n",
        "    o = self.drop(self.relu(self.fc1(o)))\n",
        "    return self.fc2(o)"
      ],
      "execution_count": null,
      "outputs": []
    },
    {
      "cell_type": "code",
      "metadata": {
        "colab_type": "code",
        "id": "ai_fkoKBewAC",
        "colab": {
          "base_uri": "https://localhost:8080/",
          "height": 34
        },
        "outputId": "d8ca171f-8261-4a4b-d4f0-148bb9b5fe96"
      },
      "source": [
        "# Hyperparams do modelo MLPEmb\n",
        "EMB_DIM = df_train_emb.shape[1] - 1 # -1  -> col. label\n",
        "H1,H2,D,O, = 75, 22, 0.43, df.label.nunique()\n",
        "\n",
        "model = MLPEmb(EMB_DIM, H1, H2, D, O)\n",
        "x,y = next(iter(train_loader_emb))\n",
        "model(x).shape"
      ],
      "execution_count": null,
      "outputs": [
        {
          "output_type": "execute_result",
          "data": {
            "text/plain": [
              "torch.Size([20, 2])"
            ]
          },
          "metadata": {
            "tags": []
          },
          "execution_count": 148
        }
      ]
    },
    {
      "cell_type": "markdown",
      "metadata": {
        "id": "SNSHgwIyodSB",
        "colab_type": "text"
      },
      "source": [
        "## Optuna "
      ]
    },
    {
      "cell_type": "code",
      "metadata": {
        "colab_type": "code",
        "id": "rXh0VIY1g4z-",
        "colab": {}
      },
      "source": [
        "EPOCH = 30\n",
        "\n",
        "# Fç trial que busca o melhor optmin e a melhor lr\n",
        "def get_optimizer(trial, model):\n",
        "    optimizer_name = trial.suggest_categorical('optimizer', ['AdaMod', 'Yogi'])\n",
        "    lr_optmzd = trial.suggest_uniform('optim_lr', 3*1e-4, 2*1e-3)\n",
        "    return getattr(optim, optimizer_name)(model.parameters(), lr=lr_optmzd)\n",
        "\n",
        "# Fç obj que max a acc\n",
        "def objective(trial):\n",
        "  h1     = int(trial.suggest_uniform(\"h1_units\", 60, 200))\n",
        "  h2     = int(trial.suggest_uniform(\"h2_units\", 20, 250))\n",
        "  drop   = trial.suggest_uniform(\"drop\", 0.2, 0.7)\n",
        "  smooth = trial.suggest_uniform(\"smooth\", 0.1, 0.35)\n",
        "  \n",
        "  criterion = LabelSmoothing(smooth)     \n",
        "  model     = model = MLPEmb(EMB_DIM, h1, h2, drop, O).to(device)\n",
        "  optimizer = get_optimizer(trial, model)\n",
        "\n",
        "  for step in range(EPOCH):\n",
        "    model.emb.weight.requires_grad = unfrozen = False\n",
        "    loss_train, _ = train(model, device, train_loader_emb, criterion, optimizer)\n",
        "    loss_valid, _, acc = test(model, device, valid_loader_emb, criterion)\n",
        "\n",
        "  return acc"
      ],
      "execution_count": null,
      "outputs": []
    },
    {
      "cell_type": "code",
      "metadata": {
        "colab_type": "code",
        "id": "9GXuvDd-g40R",
        "colab": {}
      },
      "source": [
        "deterministic() # <- ter certeza que tudo foi zerado para o teste ser reproduzível\n",
        "\n",
        "# Running optuna\n",
        "study = optuna.create_study(direction='maximize', sampler=RandomSampler(manualSeed))\n",
        "study.optimize(objective, n_trials=50)\n",
        "print('Number of finished trials: ', len(study.trials))\n",
        "print('Best trial:')\n",
        "trial = study.best_trial\n",
        "print('  Value: ', trial.value)\n",
        "print('  Params: ')\n",
        "\n",
        "for key, value in trial.params.items():\n",
        "    print(f'    {key}: {value}')"
      ],
      "execution_count": null,
      "outputs": []
    },
    {
      "cell_type": "code",
      "metadata": {
        "colab_type": "code",
        "id": "U0gdn9fGg40b",
        "colab": {
          "base_uri": "https://localhost:8080/",
          "height": 119
        },
        "outputId": "b098802c-c5bc-4b61-f671-c5587848153e"
      },
      "source": [
        "# Melhor conj. de params encontrado\n",
        "study.best_params"
      ],
      "execution_count": null,
      "outputs": [
        {
          "output_type": "execute_result",
          "data": {
            "text/plain": [
              "{'drop': 0.6325512806526925,\n",
              " 'h1_units': 90.355099267856,\n",
              " 'h2_units': 149.99343931912134,\n",
              " 'optim_lr': 0.0004596988682893509,\n",
              " 'optimizer': 'AdaMod',\n",
              " 'smooth': 0.2272422401667536}"
            ]
          },
          "metadata": {
            "tags": []
          },
          "execution_count": 151
        }
      ]
    },
    {
      "cell_type": "markdown",
      "metadata": {
        "id": "KsQZIo1Xk9Zd",
        "colab_type": "text"
      },
      "source": [
        "# Testando a melhor config do modelo com Embeddings pré-Treinados"
      ]
    },
    {
      "cell_type": "code",
      "metadata": {
        "id": "lzsa45WOhRau",
        "colab_type": "code",
        "colab": {
          "base_uri": "https://localhost:8080/",
          "height": 238
        },
        "outputId": "500a696b-5ba2-44be-e275-205a5b6df9e0"
      },
      "source": [
        "deterministic() \n",
        "\n",
        "# Configura o melhor setup encontrado pelo Optuna\n",
        "H1     = int(study.best_params['h1_units'])\n",
        "H2     = int(study.best_params['h2_units'])\n",
        "D      = study.best_params['drop']\n",
        "SMOOTH = study.best_params['smooth']\n",
        "LR     = study.best_params['optim_lr']\n",
        "\n",
        "model = MLPEmb(EMB_DIM, 91, H2, D, O).to(device)    \n",
        "criterion = LabelSmoothing(SMOOTH)\n",
        "\n",
        "if study.best_params['optimizer'] == 'Lamb':\n",
        "  print(f'Using {study.best_params[\"optimizer\"]}')\n",
        "  optimizer = optim.Lamb(model.parameters(),lr= LR)  \n",
        "else:\n",
        "  print(f'Using {study.best_params[\"optimizer\"]}')\n",
        "  optimizer = optim.AdaMod(model.parameters(),lr= LR)  \n",
        "\n",
        "print(model)\n",
        "# congelando os embeddings para contar os parâmetros treinaveis\n",
        "model.emb.weight.requires_grad = unfrozen = False\n",
        "\n",
        "# Count params\n",
        "def count_parameters(model):\n",
        "    return sum(p.numel() for p in model.parameters() if p.requires_grad)\n",
        "print(f'\\n############################################\\\n",
        "       \\n# The model has {count_parameters(model):,} trainable parameters #\\\n",
        "       \\n############################################')  "
      ],
      "execution_count": null,
      "outputs": [
        {
          "output_type": "stream",
          "text": [
            "Deterministic experiment, seed: 0\n",
            "Using Yogi\n",
            "MLPEmb(\n",
            "  (drop): Dropout(p=0.358600871034648, inplace=False)\n",
            "  (relu): ReLU()\n",
            "  (emb): Linear(in_features=300, out_features=91, bias=False)\n",
            "  (fc1): Linear(in_features=91, out_features=40, bias=True)\n",
            "  (fc2): Linear(in_features=40, out_features=2, bias=True)\n",
            ")\n",
            "\n",
            "############################################       \n",
            "# The model has 3,762 trainable parameters #       \n",
            "############################################\n"
          ],
          "name": "stdout"
        }
      ]
    },
    {
      "cell_type": "markdown",
      "metadata": {
        "id": "avSg7_KLlScu",
        "colab_type": "text"
      },
      "source": [
        "# Looping de treino com Embeddings congelados\n",
        "\n",
        "---\n",
        "\n",
        "- Para congelar os pesos do embedding basta usar `model.embedding.weight.requires_grad = False`, isso fará com que nenhum gradiente seja calculado."
      ]
    },
    {
      "cell_type": "code",
      "metadata": {
        "id": "DKcpivJTEvlc",
        "colab_type": "code",
        "colab": {}
      },
      "source": [
        "import torch"
      ],
      "execution_count": null,
      "outputs": []
    },
    {
      "cell_type": "code",
      "metadata": {
        "id": "HvWIZFinExr8",
        "colab_type": "code",
        "colab": {
          "base_uri": "https://localhost:8080/",
          "height": 34
        },
        "outputId": "700dc0b5-8932-44de-fff6-55f046646f8c"
      },
      "source": [
        "torch.tensor([1]).long()"
      ],
      "execution_count": null,
      "outputs": [
        {
          "output_type": "execute_result",
          "data": {
            "text/plain": [
              "tensor([1])"
            ]
          },
          "metadata": {
            "tags": []
          },
          "execution_count": 9
        }
      ]
    },
    {
      "cell_type": "code",
      "metadata": {
        "id": "Yxzx5O6qgljc",
        "colab_type": "code",
        "colab": {
          "base_uri": "https://localhost:8080/",
          "height": 578
        },
        "outputId": "bba9a90c-4883-4816-bd00-b9c2e8421984"
      },
      "source": [
        "%%time\n",
        "import os\n",
        "deterministic() \n",
        "N_EPOCHS   = 100\n",
        "epoch, best_acc = 0,0\n",
        "\n",
        "for step in range(1, N_EPOCHS+1):\n",
        "\n",
        "  # Embeddings Congelados\n",
        "  model.emb.weight.requires_grad = unfrozen = False\n",
        "\n",
        "  loss_train, ppl_train = train(model, device, train_loader_emb, criterion, optimizer)\n",
        "  loss_valid, ppl_valid, acc = test(model, device, valid_loader_emb, criterion)\n",
        "  if acc >= best_acc:\n",
        "    best_acc = acc\n",
        "    epoch    = step\n",
        "    print(f'[Frozen? {not unfrozen}] -- Epoch [{step}/{N_EPOCHS}] |', end=' ')\n",
        "    print(f'Train Loss: {loss_train:.3f} -- Valid Loss: {loss_valid:.3f} --',end=' ')\n",
        "    print(f'Acc: {acc:.3f}')\n",
        "    print(f'Ppl train: {ppl_train:.3f} -- Ppl valid: {ppl_valid:.3f}\\n') \n",
        "\n",
        "print(f'\\nEnd of training. Best Acc: -->[{best_acc:.4f}]<--, at epoch: {epoch}\\n')"
      ],
      "execution_count": null,
      "outputs": [
        {
          "output_type": "stream",
          "text": [
            "Deterministic experiment, seed: 0\n",
            "[Frozen? True] -- Epoch [1/100] | Train Loss: 1.691 -- Valid Loss: 0.795 -- Acc: 0.490\n",
            "Ppl train: 5.427 -- Ppl valid: 2.214\n",
            "\n",
            "[Frozen? True] -- Epoch [2/100] | Train Loss: 1.259 -- Valid Loss: 0.722 -- Acc: 0.570\n",
            "Ppl train: 3.522 -- Ppl valid: 2.059\n",
            "\n",
            "[Frozen? True] -- Epoch [3/100] | Train Loss: 1.003 -- Valid Loss: 0.651 -- Acc: 0.680\n",
            "Ppl train: 2.727 -- Ppl valid: 1.917\n",
            "\n",
            "[Frozen? True] -- Epoch [4/100] | Train Loss: 0.870 -- Valid Loss: 0.627 -- Acc: 0.750\n",
            "Ppl train: 2.387 -- Ppl valid: 1.873\n",
            "\n",
            "[Frozen? True] -- Epoch [6/100] | Train Loss: 0.677 -- Valid Loss: 0.589 -- Acc: 0.815\n",
            "Ppl train: 1.968 -- Ppl valid: 1.802\n",
            "\n",
            "[Frozen? True] -- Epoch [8/100] | Train Loss: 0.625 -- Valid Loss: 0.580 -- Acc: 0.815\n",
            "Ppl train: 1.869 -- Ppl valid: 1.787\n",
            "\n",
            "[Frozen? True] -- Epoch [9/100] | Train Loss: 0.612 -- Valid Loss: 0.570 -- Acc: 0.845\n",
            "Ppl train: 1.844 -- Ppl valid: 1.768\n",
            "\n",
            "[Frozen? True] -- Epoch [16/100] | Train Loss: 0.544 -- Valid Loss: 0.556 -- Acc: 0.845\n",
            "Ppl train: 1.723 -- Ppl valid: 1.744\n",
            "\n",
            "[Frozen? True] -- Epoch [23/100] | Train Loss: 0.509 -- Valid Loss: 0.547 -- Acc: 0.850\n",
            "Ppl train: 1.664 -- Ppl valid: 1.727\n",
            "\n",
            "\n",
            "End of training. Best Acc: -->[0.8500]<--, at epoch: 23\n",
            "\n",
            "CPU times: user 8.71 s, sys: 209 ms, total: 8.92 s\n",
            "Wall time: 9.05 s\n"
          ],
          "name": "stdout"
        }
      ]
    },
    {
      "cell_type": "markdown",
      "metadata": {
        "id": "OS4P6Pg6g-DX",
        "colab_type": "text"
      },
      "source": [
        "## end of notebook\n",
        "- EmbeddingBag não ficou bom: culpa do meu processamento que fiz o emb. glove por fora e é um float e o EmbeddingBag precisa de long. \n"
      ]
    }
  ]
}