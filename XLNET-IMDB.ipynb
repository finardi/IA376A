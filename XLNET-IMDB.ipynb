{
  "nbformat": 4,
  "nbformat_minor": 0,
  "metadata": {
    "colab": {
      "name": "Paulo Finardi [Sem 8].ipynb",
      "provenance": [],
      "collapsed_sections": [],
      "include_colab_link": true
    },
    "hide_input": false,
    "kernelspec": {
      "display_name": "Python 3",
      "language": "python",
      "name": "python3"
    },
    "language_info": {
      "codemirror_mode": {
        "name": "ipython",
        "version": 3
      },
      "file_extension": ".py",
      "mimetype": "text/x-python",
      "name": "python",
      "nbconvert_exporter": "python",
      "pygments_lexer": "ipython3",
      "version": "3.7.3"
    },
    "toc": {
      "base_numbering": 1,
      "nav_menu": {},
      "number_sections": true,
      "sideBar": true,
      "skip_h1_title": false,
      "title_cell": "Table of Contents",
      "title_sidebar": "Contents",
      "toc_cell": false,
      "toc_position": {},
      "toc_section_display": true,
      "toc_window_display": false
    },
    "varInspector": {
      "cols": {
        "lenName": 16,
        "lenType": 16,
        "lenVar": 40
      },
      "kernels_config": {
        "python": {
          "delete_cmd_postfix": "",
          "delete_cmd_prefix": "del ",
          "library": "var_list.py",
          "varRefreshCmd": "print(var_dic_list())"
        },
        "r": {
          "delete_cmd_postfix": ") ",
          "delete_cmd_prefix": "rm(",
          "library": "var_list.r",
          "varRefreshCmd": "cat(var_dic_list()) "
        }
      },
      "types_to_exclude": [
        "module",
        "function",
        "builtin_function_or_method",
        "instance",
        "_Feature"
      ],
      "window_display": false
    },
    "accelerator": "GPU",
    "widgets": {
      "application/vnd.jupyter.widget-state+json": {
        "398576319b4941e5bd637994c43fc0da": {
          "model_module": "@jupyter-widgets/controls",
          "model_name": "HBoxModel",
          "state": {
            "_view_name": "HBoxView",
            "_dom_classes": [],
            "_model_name": "HBoxModel",
            "_view_module": "@jupyter-widgets/controls",
            "_model_module_version": "1.5.0",
            "_view_count": null,
            "_view_module_version": "1.5.0",
            "box_style": "",
            "layout": "IPY_MODEL_82437fa5bad9466593590ba06599d558",
            "_model_module": "@jupyter-widgets/controls",
            "children": [
              "IPY_MODEL_1fcd3c9e6d2d4bf083f932ab4ebe642c",
              "IPY_MODEL_aaeb35cd5cc946a6a1cc0ae1e1cd4bfb"
            ]
          }
        },
        "82437fa5bad9466593590ba06599d558": {
          "model_module": "@jupyter-widgets/base",
          "model_name": "LayoutModel",
          "state": {
            "_view_name": "LayoutView",
            "grid_template_rows": null,
            "right": null,
            "justify_content": null,
            "_view_module": "@jupyter-widgets/base",
            "overflow": null,
            "_model_module_version": "1.2.0",
            "_view_count": null,
            "flex_flow": null,
            "width": null,
            "min_width": null,
            "border": null,
            "align_items": null,
            "bottom": null,
            "_model_module": "@jupyter-widgets/base",
            "top": null,
            "grid_column": null,
            "overflow_y": null,
            "overflow_x": null,
            "grid_auto_flow": null,
            "grid_area": null,
            "grid_template_columns": null,
            "flex": null,
            "_model_name": "LayoutModel",
            "justify_items": null,
            "grid_row": null,
            "max_height": null,
            "align_content": null,
            "visibility": null,
            "align_self": null,
            "height": null,
            "min_height": null,
            "padding": null,
            "grid_auto_rows": null,
            "grid_gap": null,
            "max_width": null,
            "order": null,
            "_view_module_version": "1.2.0",
            "grid_template_areas": null,
            "object_position": null,
            "object_fit": null,
            "grid_auto_columns": null,
            "margin": null,
            "display": null,
            "left": null
          }
        },
        "1fcd3c9e6d2d4bf083f932ab4ebe642c": {
          "model_module": "@jupyter-widgets/controls",
          "model_name": "FloatProgressModel",
          "state": {
            "_view_name": "ProgressView",
            "style": "IPY_MODEL_f9c3aaf45b2d487f88d71bcdad3a0886",
            "_dom_classes": [],
            "description": "Downloading: 100%",
            "_model_name": "FloatProgressModel",
            "bar_style": "success",
            "max": 798011,
            "_view_module": "@jupyter-widgets/controls",
            "_model_module_version": "1.5.0",
            "value": 798011,
            "_view_count": null,
            "_view_module_version": "1.5.0",
            "orientation": "horizontal",
            "min": 0,
            "description_tooltip": null,
            "_model_module": "@jupyter-widgets/controls",
            "layout": "IPY_MODEL_4f3ab0a6f4834847a746efe6fa53d27d"
          }
        },
        "aaeb35cd5cc946a6a1cc0ae1e1cd4bfb": {
          "model_module": "@jupyter-widgets/controls",
          "model_name": "HTMLModel",
          "state": {
            "_view_name": "HTMLView",
            "style": "IPY_MODEL_aea8a341629d4deeb6aadd1ef7239061",
            "_dom_classes": [],
            "description": "",
            "_model_name": "HTMLModel",
            "placeholder": "​",
            "_view_module": "@jupyter-widgets/controls",
            "_model_module_version": "1.5.0",
            "value": " 798k/798k [00:01&lt;00:00, 443kB/s]",
            "_view_count": null,
            "_view_module_version": "1.5.0",
            "description_tooltip": null,
            "_model_module": "@jupyter-widgets/controls",
            "layout": "IPY_MODEL_75f89771b01c4e21af431d17786363ea"
          }
        },
        "f9c3aaf45b2d487f88d71bcdad3a0886": {
          "model_module": "@jupyter-widgets/controls",
          "model_name": "ProgressStyleModel",
          "state": {
            "_view_name": "StyleView",
            "_model_name": "ProgressStyleModel",
            "description_width": "initial",
            "_view_module": "@jupyter-widgets/base",
            "_model_module_version": "1.5.0",
            "_view_count": null,
            "_view_module_version": "1.2.0",
            "bar_color": null,
            "_model_module": "@jupyter-widgets/controls"
          }
        },
        "4f3ab0a6f4834847a746efe6fa53d27d": {
          "model_module": "@jupyter-widgets/base",
          "model_name": "LayoutModel",
          "state": {
            "_view_name": "LayoutView",
            "grid_template_rows": null,
            "right": null,
            "justify_content": null,
            "_view_module": "@jupyter-widgets/base",
            "overflow": null,
            "_model_module_version": "1.2.0",
            "_view_count": null,
            "flex_flow": null,
            "width": null,
            "min_width": null,
            "border": null,
            "align_items": null,
            "bottom": null,
            "_model_module": "@jupyter-widgets/base",
            "top": null,
            "grid_column": null,
            "overflow_y": null,
            "overflow_x": null,
            "grid_auto_flow": null,
            "grid_area": null,
            "grid_template_columns": null,
            "flex": null,
            "_model_name": "LayoutModel",
            "justify_items": null,
            "grid_row": null,
            "max_height": null,
            "align_content": null,
            "visibility": null,
            "align_self": null,
            "height": null,
            "min_height": null,
            "padding": null,
            "grid_auto_rows": null,
            "grid_gap": null,
            "max_width": null,
            "order": null,
            "_view_module_version": "1.2.0",
            "grid_template_areas": null,
            "object_position": null,
            "object_fit": null,
            "grid_auto_columns": null,
            "margin": null,
            "display": null,
            "left": null
          }
        },
        "aea8a341629d4deeb6aadd1ef7239061": {
          "model_module": "@jupyter-widgets/controls",
          "model_name": "DescriptionStyleModel",
          "state": {
            "_view_name": "StyleView",
            "_model_name": "DescriptionStyleModel",
            "description_width": "",
            "_view_module": "@jupyter-widgets/base",
            "_model_module_version": "1.5.0",
            "_view_count": null,
            "_view_module_version": "1.2.0",
            "_model_module": "@jupyter-widgets/controls"
          }
        },
        "75f89771b01c4e21af431d17786363ea": {
          "model_module": "@jupyter-widgets/base",
          "model_name": "LayoutModel",
          "state": {
            "_view_name": "LayoutView",
            "grid_template_rows": null,
            "right": null,
            "justify_content": null,
            "_view_module": "@jupyter-widgets/base",
            "overflow": null,
            "_model_module_version": "1.2.0",
            "_view_count": null,
            "flex_flow": null,
            "width": null,
            "min_width": null,
            "border": null,
            "align_items": null,
            "bottom": null,
            "_model_module": "@jupyter-widgets/base",
            "top": null,
            "grid_column": null,
            "overflow_y": null,
            "overflow_x": null,
            "grid_auto_flow": null,
            "grid_area": null,
            "grid_template_columns": null,
            "flex": null,
            "_model_name": "LayoutModel",
            "justify_items": null,
            "grid_row": null,
            "max_height": null,
            "align_content": null,
            "visibility": null,
            "align_self": null,
            "height": null,
            "min_height": null,
            "padding": null,
            "grid_auto_rows": null,
            "grid_gap": null,
            "max_width": null,
            "order": null,
            "_view_module_version": "1.2.0",
            "grid_template_areas": null,
            "object_position": null,
            "object_fit": null,
            "grid_auto_columns": null,
            "margin": null,
            "display": null,
            "left": null
          }
        },
        "8fc16b6011b947489274b6d864c56427": {
          "model_module": "@jupyter-widgets/controls",
          "model_name": "HBoxModel",
          "state": {
            "_view_name": "HBoxView",
            "_dom_classes": [],
            "_model_name": "HBoxModel",
            "_view_module": "@jupyter-widgets/controls",
            "_model_module_version": "1.5.0",
            "_view_count": null,
            "_view_module_version": "1.5.0",
            "box_style": "",
            "layout": "IPY_MODEL_64838a441e814c3b953742a8cd45bce5",
            "_model_module": "@jupyter-widgets/controls",
            "children": [
              "IPY_MODEL_e1bfbb3713d14ae8ada0c01cc9354067",
              "IPY_MODEL_fa327a850e8742ee8d663d1a6fadda66"
            ]
          }
        },
        "64838a441e814c3b953742a8cd45bce5": {
          "model_module": "@jupyter-widgets/base",
          "model_name": "LayoutModel",
          "state": {
            "_view_name": "LayoutView",
            "grid_template_rows": null,
            "right": null,
            "justify_content": null,
            "_view_module": "@jupyter-widgets/base",
            "overflow": null,
            "_model_module_version": "1.2.0",
            "_view_count": null,
            "flex_flow": null,
            "width": null,
            "min_width": null,
            "border": null,
            "align_items": null,
            "bottom": null,
            "_model_module": "@jupyter-widgets/base",
            "top": null,
            "grid_column": null,
            "overflow_y": null,
            "overflow_x": null,
            "grid_auto_flow": null,
            "grid_area": null,
            "grid_template_columns": null,
            "flex": null,
            "_model_name": "LayoutModel",
            "justify_items": null,
            "grid_row": null,
            "max_height": null,
            "align_content": null,
            "visibility": null,
            "align_self": null,
            "height": null,
            "min_height": null,
            "padding": null,
            "grid_auto_rows": null,
            "grid_gap": null,
            "max_width": null,
            "order": null,
            "_view_module_version": "1.2.0",
            "grid_template_areas": null,
            "object_position": null,
            "object_fit": null,
            "grid_auto_columns": null,
            "margin": null,
            "display": null,
            "left": null
          }
        },
        "e1bfbb3713d14ae8ada0c01cc9354067": {
          "model_module": "@jupyter-widgets/controls",
          "model_name": "FloatProgressModel",
          "state": {
            "_view_name": "ProgressView",
            "style": "IPY_MODEL_3a20b213fc3e431cbb4a10f93cd8b43f",
            "_dom_classes": [],
            "description": "Downloading: 100%",
            "_model_name": "FloatProgressModel",
            "bar_style": "success",
            "max": 736,
            "_view_module": "@jupyter-widgets/controls",
            "_model_module_version": "1.5.0",
            "value": 736,
            "_view_count": null,
            "_view_module_version": "1.5.0",
            "orientation": "horizontal",
            "min": 0,
            "description_tooltip": null,
            "_model_module": "@jupyter-widgets/controls",
            "layout": "IPY_MODEL_c99947c7175444cca0e7be722e712076"
          }
        },
        "fa327a850e8742ee8d663d1a6fadda66": {
          "model_module": "@jupyter-widgets/controls",
          "model_name": "HTMLModel",
          "state": {
            "_view_name": "HTMLView",
            "style": "IPY_MODEL_bc50fd11b17f47d6bf0cb0fcc0c8729b",
            "_dom_classes": [],
            "description": "",
            "_model_name": "HTMLModel",
            "placeholder": "​",
            "_view_module": "@jupyter-widgets/controls",
            "_model_module_version": "1.5.0",
            "value": " 736/736 [00:00&lt;00:00, 1.16kB/s]",
            "_view_count": null,
            "_view_module_version": "1.5.0",
            "description_tooltip": null,
            "_model_module": "@jupyter-widgets/controls",
            "layout": "IPY_MODEL_85267e23f889418fb2b299b7f8a37408"
          }
        },
        "3a20b213fc3e431cbb4a10f93cd8b43f": {
          "model_module": "@jupyter-widgets/controls",
          "model_name": "ProgressStyleModel",
          "state": {
            "_view_name": "StyleView",
            "_model_name": "ProgressStyleModel",
            "description_width": "initial",
            "_view_module": "@jupyter-widgets/base",
            "_model_module_version": "1.5.0",
            "_view_count": null,
            "_view_module_version": "1.2.0",
            "bar_color": null,
            "_model_module": "@jupyter-widgets/controls"
          }
        },
        "c99947c7175444cca0e7be722e712076": {
          "model_module": "@jupyter-widgets/base",
          "model_name": "LayoutModel",
          "state": {
            "_view_name": "LayoutView",
            "grid_template_rows": null,
            "right": null,
            "justify_content": null,
            "_view_module": "@jupyter-widgets/base",
            "overflow": null,
            "_model_module_version": "1.2.0",
            "_view_count": null,
            "flex_flow": null,
            "width": null,
            "min_width": null,
            "border": null,
            "align_items": null,
            "bottom": null,
            "_model_module": "@jupyter-widgets/base",
            "top": null,
            "grid_column": null,
            "overflow_y": null,
            "overflow_x": null,
            "grid_auto_flow": null,
            "grid_area": null,
            "grid_template_columns": null,
            "flex": null,
            "_model_name": "LayoutModel",
            "justify_items": null,
            "grid_row": null,
            "max_height": null,
            "align_content": null,
            "visibility": null,
            "align_self": null,
            "height": null,
            "min_height": null,
            "padding": null,
            "grid_auto_rows": null,
            "grid_gap": null,
            "max_width": null,
            "order": null,
            "_view_module_version": "1.2.0",
            "grid_template_areas": null,
            "object_position": null,
            "object_fit": null,
            "grid_auto_columns": null,
            "margin": null,
            "display": null,
            "left": null
          }
        },
        "bc50fd11b17f47d6bf0cb0fcc0c8729b": {
          "model_module": "@jupyter-widgets/controls",
          "model_name": "DescriptionStyleModel",
          "state": {
            "_view_name": "StyleView",
            "_model_name": "DescriptionStyleModel",
            "description_width": "",
            "_view_module": "@jupyter-widgets/base",
            "_model_module_version": "1.5.0",
            "_view_count": null,
            "_view_module_version": "1.2.0",
            "_model_module": "@jupyter-widgets/controls"
          }
        },
        "85267e23f889418fb2b299b7f8a37408": {
          "model_module": "@jupyter-widgets/base",
          "model_name": "LayoutModel",
          "state": {
            "_view_name": "LayoutView",
            "grid_template_rows": null,
            "right": null,
            "justify_content": null,
            "_view_module": "@jupyter-widgets/base",
            "overflow": null,
            "_model_module_version": "1.2.0",
            "_view_count": null,
            "flex_flow": null,
            "width": null,
            "min_width": null,
            "border": null,
            "align_items": null,
            "bottom": null,
            "_model_module": "@jupyter-widgets/base",
            "top": null,
            "grid_column": null,
            "overflow_y": null,
            "overflow_x": null,
            "grid_auto_flow": null,
            "grid_area": null,
            "grid_template_columns": null,
            "flex": null,
            "_model_name": "LayoutModel",
            "justify_items": null,
            "grid_row": null,
            "max_height": null,
            "align_content": null,
            "visibility": null,
            "align_self": null,
            "height": null,
            "min_height": null,
            "padding": null,
            "grid_auto_rows": null,
            "grid_gap": null,
            "max_width": null,
            "order": null,
            "_view_module_version": "1.2.0",
            "grid_template_areas": null,
            "object_position": null,
            "object_fit": null,
            "grid_auto_columns": null,
            "margin": null,
            "display": null,
            "left": null
          }
        },
        "538a2cff6c4f4187933a40393784ad93": {
          "model_module": "@jupyter-widgets/controls",
          "model_name": "HBoxModel",
          "state": {
            "_view_name": "HBoxView",
            "_dom_classes": [],
            "_model_name": "HBoxModel",
            "_view_module": "@jupyter-widgets/controls",
            "_model_module_version": "1.5.0",
            "_view_count": null,
            "_view_module_version": "1.5.0",
            "box_style": "",
            "layout": "IPY_MODEL_0fd06d46606b4ff4bfab292890200d32",
            "_model_module": "@jupyter-widgets/controls",
            "children": [
              "IPY_MODEL_7c72c55fef6e4519b5140b86cb28f42e",
              "IPY_MODEL_1b7cf1f96254499cb17e805d11f1aa88"
            ]
          }
        },
        "0fd06d46606b4ff4bfab292890200d32": {
          "model_module": "@jupyter-widgets/base",
          "model_name": "LayoutModel",
          "state": {
            "_view_name": "LayoutView",
            "grid_template_rows": null,
            "right": null,
            "justify_content": null,
            "_view_module": "@jupyter-widgets/base",
            "overflow": null,
            "_model_module_version": "1.2.0",
            "_view_count": null,
            "flex_flow": null,
            "width": null,
            "min_width": null,
            "border": null,
            "align_items": null,
            "bottom": null,
            "_model_module": "@jupyter-widgets/base",
            "top": null,
            "grid_column": null,
            "overflow_y": null,
            "overflow_x": null,
            "grid_auto_flow": null,
            "grid_area": null,
            "grid_template_columns": null,
            "flex": null,
            "_model_name": "LayoutModel",
            "justify_items": null,
            "grid_row": null,
            "max_height": null,
            "align_content": null,
            "visibility": null,
            "align_self": null,
            "height": null,
            "min_height": null,
            "padding": null,
            "grid_auto_rows": null,
            "grid_gap": null,
            "max_width": null,
            "order": null,
            "_view_module_version": "1.2.0",
            "grid_template_areas": null,
            "object_position": null,
            "object_fit": null,
            "grid_auto_columns": null,
            "margin": null,
            "display": null,
            "left": null
          }
        },
        "7c72c55fef6e4519b5140b86cb28f42e": {
          "model_module": "@jupyter-widgets/controls",
          "model_name": "FloatProgressModel",
          "state": {
            "_view_name": "ProgressView",
            "style": "IPY_MODEL_7afc89c9973846a09a557eca6fcac8b8",
            "_dom_classes": [],
            "description": "Downloading: 100%",
            "_model_name": "FloatProgressModel",
            "bar_style": "success",
            "max": 467042463,
            "_view_module": "@jupyter-widgets/controls",
            "_model_module_version": "1.5.0",
            "value": 467042463,
            "_view_count": null,
            "_view_module_version": "1.5.0",
            "orientation": "horizontal",
            "min": 0,
            "description_tooltip": null,
            "_model_module": "@jupyter-widgets/controls",
            "layout": "IPY_MODEL_7541a8972d88403b8785a06f17f7a049"
          }
        },
        "1b7cf1f96254499cb17e805d11f1aa88": {
          "model_module": "@jupyter-widgets/controls",
          "model_name": "HTMLModel",
          "state": {
            "_view_name": "HTMLView",
            "style": "IPY_MODEL_4eb18217f821446c81d024fab504f374",
            "_dom_classes": [],
            "description": "",
            "_model_name": "HTMLModel",
            "placeholder": "​",
            "_view_module": "@jupyter-widgets/controls",
            "_model_module_version": "1.5.0",
            "value": " 467M/467M [00:15&lt;00:00, 30.8MB/s]",
            "_view_count": null,
            "_view_module_version": "1.5.0",
            "description_tooltip": null,
            "_model_module": "@jupyter-widgets/controls",
            "layout": "IPY_MODEL_98d58c514e9b4cc99eded83b753e852e"
          }
        },
        "7afc89c9973846a09a557eca6fcac8b8": {
          "model_module": "@jupyter-widgets/controls",
          "model_name": "ProgressStyleModel",
          "state": {
            "_view_name": "StyleView",
            "_model_name": "ProgressStyleModel",
            "description_width": "initial",
            "_view_module": "@jupyter-widgets/base",
            "_model_module_version": "1.5.0",
            "_view_count": null,
            "_view_module_version": "1.2.0",
            "bar_color": null,
            "_model_module": "@jupyter-widgets/controls"
          }
        },
        "7541a8972d88403b8785a06f17f7a049": {
          "model_module": "@jupyter-widgets/base",
          "model_name": "LayoutModel",
          "state": {
            "_view_name": "LayoutView",
            "grid_template_rows": null,
            "right": null,
            "justify_content": null,
            "_view_module": "@jupyter-widgets/base",
            "overflow": null,
            "_model_module_version": "1.2.0",
            "_view_count": null,
            "flex_flow": null,
            "width": null,
            "min_width": null,
            "border": null,
            "align_items": null,
            "bottom": null,
            "_model_module": "@jupyter-widgets/base",
            "top": null,
            "grid_column": null,
            "overflow_y": null,
            "overflow_x": null,
            "grid_auto_flow": null,
            "grid_area": null,
            "grid_template_columns": null,
            "flex": null,
            "_model_name": "LayoutModel",
            "justify_items": null,
            "grid_row": null,
            "max_height": null,
            "align_content": null,
            "visibility": null,
            "align_self": null,
            "height": null,
            "min_height": null,
            "padding": null,
            "grid_auto_rows": null,
            "grid_gap": null,
            "max_width": null,
            "order": null,
            "_view_module_version": "1.2.0",
            "grid_template_areas": null,
            "object_position": null,
            "object_fit": null,
            "grid_auto_columns": null,
            "margin": null,
            "display": null,
            "left": null
          }
        },
        "4eb18217f821446c81d024fab504f374": {
          "model_module": "@jupyter-widgets/controls",
          "model_name": "DescriptionStyleModel",
          "state": {
            "_view_name": "StyleView",
            "_model_name": "DescriptionStyleModel",
            "description_width": "",
            "_view_module": "@jupyter-widgets/base",
            "_model_module_version": "1.5.0",
            "_view_count": null,
            "_view_module_version": "1.2.0",
            "_model_module": "@jupyter-widgets/controls"
          }
        },
        "98d58c514e9b4cc99eded83b753e852e": {
          "model_module": "@jupyter-widgets/base",
          "model_name": "LayoutModel",
          "state": {
            "_view_name": "LayoutView",
            "grid_template_rows": null,
            "right": null,
            "justify_content": null,
            "_view_module": "@jupyter-widgets/base",
            "overflow": null,
            "_model_module_version": "1.2.0",
            "_view_count": null,
            "flex_flow": null,
            "width": null,
            "min_width": null,
            "border": null,
            "align_items": null,
            "bottom": null,
            "_model_module": "@jupyter-widgets/base",
            "top": null,
            "grid_column": null,
            "overflow_y": null,
            "overflow_x": null,
            "grid_auto_flow": null,
            "grid_area": null,
            "grid_template_columns": null,
            "flex": null,
            "_model_name": "LayoutModel",
            "justify_items": null,
            "grid_row": null,
            "max_height": null,
            "align_content": null,
            "visibility": null,
            "align_self": null,
            "height": null,
            "min_height": null,
            "padding": null,
            "grid_auto_rows": null,
            "grid_gap": null,
            "max_width": null,
            "order": null,
            "_view_module_version": "1.2.0",
            "grid_template_areas": null,
            "object_position": null,
            "object_fit": null,
            "grid_auto_columns": null,
            "margin": null,
            "display": null,
            "left": null
          }
        },
        "303231437bb04c7591916fe46ae550c1": {
          "model_module": "@jupyter-widgets/controls",
          "model_name": "HBoxModel",
          "state": {
            "_view_name": "HBoxView",
            "_dom_classes": [],
            "_model_name": "HBoxModel",
            "_view_module": "@jupyter-widgets/controls",
            "_model_module_version": "1.5.0",
            "_view_count": null,
            "_view_module_version": "1.5.0",
            "box_style": "",
            "layout": "IPY_MODEL_f6ceb94ce6f748a3856683bc4233d39a",
            "_model_module": "@jupyter-widgets/controls",
            "children": [
              "IPY_MODEL_7642d983cef448d2805df7d5570c57c5",
              "IPY_MODEL_3408ef4de1d744e389f7b68f5f9695da"
            ]
          }
        },
        "f6ceb94ce6f748a3856683bc4233d39a": {
          "model_module": "@jupyter-widgets/base",
          "model_name": "LayoutModel",
          "state": {
            "_view_name": "LayoutView",
            "grid_template_rows": null,
            "right": null,
            "justify_content": null,
            "_view_module": "@jupyter-widgets/base",
            "overflow": null,
            "_model_module_version": "1.2.0",
            "_view_count": null,
            "flex_flow": "row wrap",
            "width": "100%",
            "min_width": null,
            "border": null,
            "align_items": null,
            "bottom": null,
            "_model_module": "@jupyter-widgets/base",
            "top": null,
            "grid_column": null,
            "overflow_y": null,
            "overflow_x": null,
            "grid_auto_flow": null,
            "grid_area": null,
            "grid_template_columns": null,
            "flex": null,
            "_model_name": "LayoutModel",
            "justify_items": null,
            "grid_row": null,
            "max_height": null,
            "align_content": null,
            "visibility": null,
            "align_self": null,
            "height": null,
            "min_height": null,
            "padding": null,
            "grid_auto_rows": null,
            "grid_gap": null,
            "max_width": null,
            "order": null,
            "_view_module_version": "1.2.0",
            "grid_template_areas": null,
            "object_position": null,
            "object_fit": null,
            "grid_auto_columns": null,
            "margin": null,
            "display": "inline-flex",
            "left": null
          }
        },
        "7642d983cef448d2805df7d5570c57c5": {
          "model_module": "@jupyter-widgets/controls",
          "model_name": "FloatProgressModel",
          "state": {
            "_view_name": "ProgressView",
            "style": "IPY_MODEL_2132b566a63b464aac7c9ba3d670886a",
            "_dom_classes": [],
            "description": "Testing: 100%",
            "_model_name": "FloatProgressModel",
            "bar_style": "success",
            "max": 1,
            "_view_module": "@jupyter-widgets/controls",
            "_model_module_version": "1.5.0",
            "value": 1,
            "_view_count": null,
            "_view_module_version": "1.5.0",
            "orientation": "horizontal",
            "min": 0,
            "description_tooltip": null,
            "_model_module": "@jupyter-widgets/controls",
            "layout": "IPY_MODEL_ba82d5ffe149482faf14577f77bee58b"
          }
        },
        "3408ef4de1d744e389f7b68f5f9695da": {
          "model_module": "@jupyter-widgets/controls",
          "model_name": "HTMLModel",
          "state": {
            "_view_name": "HTMLView",
            "style": "IPY_MODEL_32e89dd694b049eb8ce4cc5091128521",
            "_dom_classes": [],
            "description": "",
            "_model_name": "HTMLModel",
            "placeholder": "​",
            "_view_module": "@jupyter-widgets/controls",
            "_model_module_version": "1.5.0",
            "value": " 6250/6250 [17:52&lt;00:00,  5.83it/s]",
            "_view_count": null,
            "_view_module_version": "1.5.0",
            "description_tooltip": null,
            "_model_module": "@jupyter-widgets/controls",
            "layout": "IPY_MODEL_8079cc2fa1134643a0072ebe4174192a"
          }
        },
        "2132b566a63b464aac7c9ba3d670886a": {
          "model_module": "@jupyter-widgets/controls",
          "model_name": "ProgressStyleModel",
          "state": {
            "_view_name": "StyleView",
            "_model_name": "ProgressStyleModel",
            "description_width": "initial",
            "_view_module": "@jupyter-widgets/base",
            "_model_module_version": "1.5.0",
            "_view_count": null,
            "_view_module_version": "1.2.0",
            "bar_color": null,
            "_model_module": "@jupyter-widgets/controls"
          }
        },
        "ba82d5ffe149482faf14577f77bee58b": {
          "model_module": "@jupyter-widgets/base",
          "model_name": "LayoutModel",
          "state": {
            "_view_name": "LayoutView",
            "grid_template_rows": null,
            "right": null,
            "justify_content": null,
            "_view_module": "@jupyter-widgets/base",
            "overflow": null,
            "_model_module_version": "1.2.0",
            "_view_count": null,
            "flex_flow": null,
            "width": null,
            "min_width": null,
            "border": null,
            "align_items": null,
            "bottom": null,
            "_model_module": "@jupyter-widgets/base",
            "top": null,
            "grid_column": null,
            "overflow_y": null,
            "overflow_x": null,
            "grid_auto_flow": null,
            "grid_area": null,
            "grid_template_columns": null,
            "flex": "2",
            "_model_name": "LayoutModel",
            "justify_items": null,
            "grid_row": null,
            "max_height": null,
            "align_content": null,
            "visibility": null,
            "align_self": null,
            "height": null,
            "min_height": null,
            "padding": null,
            "grid_auto_rows": null,
            "grid_gap": null,
            "max_width": null,
            "order": null,
            "_view_module_version": "1.2.0",
            "grid_template_areas": null,
            "object_position": null,
            "object_fit": null,
            "grid_auto_columns": null,
            "margin": null,
            "display": null,
            "left": null
          }
        },
        "32e89dd694b049eb8ce4cc5091128521": {
          "model_module": "@jupyter-widgets/controls",
          "model_name": "DescriptionStyleModel",
          "state": {
            "_view_name": "StyleView",
            "_model_name": "DescriptionStyleModel",
            "description_width": "",
            "_view_module": "@jupyter-widgets/base",
            "_model_module_version": "1.5.0",
            "_view_count": null,
            "_view_module_version": "1.2.0",
            "_model_module": "@jupyter-widgets/controls"
          }
        },
        "8079cc2fa1134643a0072ebe4174192a": {
          "model_module": "@jupyter-widgets/base",
          "model_name": "LayoutModel",
          "state": {
            "_view_name": "LayoutView",
            "grid_template_rows": null,
            "right": null,
            "justify_content": null,
            "_view_module": "@jupyter-widgets/base",
            "overflow": null,
            "_model_module_version": "1.2.0",
            "_view_count": null,
            "flex_flow": null,
            "width": null,
            "min_width": null,
            "border": null,
            "align_items": null,
            "bottom": null,
            "_model_module": "@jupyter-widgets/base",
            "top": null,
            "grid_column": null,
            "overflow_y": null,
            "overflow_x": null,
            "grid_auto_flow": null,
            "grid_area": null,
            "grid_template_columns": null,
            "flex": null,
            "_model_name": "LayoutModel",
            "justify_items": null,
            "grid_row": null,
            "max_height": null,
            "align_content": null,
            "visibility": null,
            "align_self": null,
            "height": null,
            "min_height": null,
            "padding": null,
            "grid_auto_rows": null,
            "grid_gap": null,
            "max_width": null,
            "order": null,
            "_view_module_version": "1.2.0",
            "grid_template_areas": null,
            "object_position": null,
            "object_fit": null,
            "grid_auto_columns": null,
            "margin": null,
            "display": null,
            "left": null
          }
        }
      }
    }
  },
  "cells": [
    {
      "cell_type": "markdown",
      "metadata": {
        "id": "view-in-github",
        "colab_type": "text"
      },
      "source": [
        "<a href=\"https://colab.research.google.com/github/finardi/IA376A/blob/master/XLNET-IMDB.ipynb\" target=\"_parent\"><img src=\"https://colab.research.google.com/assets/colab-badge.svg\" alt=\"Open In Colab\"/></a>"
      ]
    },
    {
      "cell_type": "markdown",
      "metadata": {
        "colab_type": "text",
        "id": "eZXCeC_h4tvF"
      },
      "source": [
        "<style type=\"text/css\">\n",
        "@media print { body { -webkit-print-color-adjust: exact; } }\n",
        "</style>\n",
        "\n",
        "\n",
        "\n",
        "# <span style=\"color:orange\"> Paulo Finardi </span>\n",
        "<span style=\"color:purple\"> - Semana 8 </span>\n",
        "\n",
        "Utilizei a **XLNet**\n",
        "---\n",
        "- <span style=\"color:purple\"> **XLNet** </span>(*Google AI Brain e Carnegie Mellon*) ela obteve melhor desempenho do que o BERT em 20 tarefas. A XLNet maximiza a esperança logarítmica de uma sequência com respeito a todas as permutações possíveis de ordem de fatoração (não de posição). A ordem de fatoração é realizada através de máscaras (equação 2 do artigo). Com essa operação de permutação, o contexto para cada posição pode consistir em tokens da esquerda e da direita, permitindo que cada posição aprenda a utilizar informações contextuais de todas as posições e assim capturando o contexto bidirecional. Artigo [aqui](https://arxiv.org/pdf/1906.08237.pdf)\n",
        "\n"
      ]
    },
    {
      "cell_type": "markdown",
      "metadata": {
        "colab_type": "text",
        "id": "1ShTZwuz9Qsp"
      },
      "source": [
        "###  Instalando o PyTorch Lightning "
      ]
    },
    {
      "cell_type": "code",
      "metadata": {
        "colab_type": "code",
        "id": "HWEACwuk9PeM",
        "colab": {}
      },
      "source": [
        "! pip install -q pytorch-lightning\n",
        "\n",
        "# Pytorch Lightning \n",
        "from pytorch_lightning.callbacks import ModelCheckpoint\n",
        "from pytorch_lightning.callbacks import EarlyStopping\n",
        "import pytorch_lightning as pl"
      ],
      "execution_count": null,
      "outputs": []
    },
    {
      "cell_type": "code",
      "metadata": {
        "colab_type": "code",
        "id": "YVDqrwbGa6-4",
        "colab": {}
      },
      "source": [
        "# Pacote do Transformer Hface\n",
        "! pip install -q transformers"
      ],
      "execution_count": null,
      "outputs": []
    },
    {
      "cell_type": "code",
      "metadata": {
        "colab_type": "code",
        "id": "r_kXgQTHoXad",
        "colab": {
          "base_uri": "https://localhost:8080/",
          "height": 51
        },
        "outputId": "7cec7bb6-b493-4bed-8d31-885959f5aef9"
      },
      "source": [
        "# Basics\n",
        "import re\n",
        "import os\n",
        "import sys\n",
        "import random\n",
        "import functools, traceback\n",
        "import pandas as pd\n",
        "import numpy as np\n",
        "from collections import OrderedDict\n",
        "from multiprocessing import cpu_count\n",
        "\n",
        "# PyTorch\n",
        "import torch \n",
        "import torch.nn.functional as F\n",
        "from torch.utils.data import (TensorDataset, DataLoader,\n",
        "                              RandomSampler, SequentialSampler)\n",
        "\n",
        "# Transformers\n",
        "from transformers import get_linear_schedule_with_warmup, AdamW\n",
        "from transformers import XLNetTokenizer, XLNetForSequenceClassification\n",
        "\n",
        "# Sklearn\n",
        "from sklearn.metrics import accuracy_score\n",
        "from sklearn.model_selection import train_test_split"
      ],
      "execution_count": null,
      "outputs": [
        {
          "output_type": "stream",
          "text": [
            "INFO:transformers.file_utils:PyTorch version 1.5.0+cu101 available.\n",
            "INFO:transformers.file_utils:TensorFlow version 2.2.0-rc3 available.\n"
          ],
          "name": "stderr"
        }
      ]
    },
    {
      "cell_type": "code",
      "metadata": {
        "colab_type": "code",
        "id": "mPLmlHTPova6",
        "colab": {
          "base_uri": "https://localhost:8080/",
          "height": 68
        },
        "outputId": "ada5653f-ae92-4843-81b7-e9b0e6625183"
      },
      "source": [
        "manual_seed = 0\n",
        "def deterministic(rep=True):\n",
        "    if rep:\n",
        "        np.random.seed(manual_seed)\n",
        "        torch.manual_seed(manual_seed)\n",
        "        if torch.cuda.is_available():\n",
        "            torch.cuda.manual_seed(manual_seed)\n",
        "            torch.cuda.manual_seed_all(manual_seed)\n",
        "        torch.backends.cudnn.enabled = False \n",
        "        torch.backends.cudnn.benchmark = False\n",
        "        torch.backends.cudnn.deterministic = True\n",
        "        print(f'Deterministic experiment, seed: {manual_seed}')\n",
        "    else:\n",
        "        print('Random experiment')\n",
        "\n",
        "deterministic()\n",
        "\n",
        "device = torch.device('cuda' if torch.cuda.is_available() else 'cpu')\n",
        "print(f'Using device: {torch.cuda.get_device_name(0)}')\n",
        "print(f'# CPU cores: {cpu_count()}')"
      ],
      "execution_count": null,
      "outputs": [
        {
          "output_type": "stream",
          "text": [
            "Deterministic experiment, seed: 0\n",
            "Using device: Tesla P100-PCIE-16GB\n",
            "# CPU cores: 2\n"
          ],
          "name": "stdout"
        }
      ]
    },
    {
      "cell_type": "code",
      "metadata": {
        "colab_type": "code",
        "id": "pVNyjILERaPr",
        "colab": {}
      },
      "source": [
        "# https://docs.fast.ai/troubleshoot.html#memory-leakage-on-exception\n",
        "\n",
        "def gpu_mem_restore(func):\n",
        "    \"Reclaim GPU RAM if CUDA out of memory happened, or execution was interrupted\"\n",
        "    @functools.wraps(func)\n",
        "    def wrapper(*args, **kwargs):\n",
        "        try:\n",
        "            return func(*args, **kwargs)\n",
        "        except:\n",
        "            type, val, tb = sys.exc_info()\n",
        "            traceback.clear_frames(tb)\n",
        "            raise type(val).with_traceback(tb) from None\n",
        "    return wrapper"
      ],
      "execution_count": null,
      "outputs": []
    },
    {
      "cell_type": "markdown",
      "metadata": {
        "colab_type": "text",
        "id": "CXFdJz2KVeQw"
      },
      "source": [
        "## <span style=\"color:orange\"> Preparando Dados\n",
        "Dataset salvo no drive"
      ]
    },
    {
      "cell_type": "code",
      "metadata": {
        "colab_type": "code",
        "id": "jvFS5CgbFELi",
        "colab": {
          "base_uri": "https://localhost:8080/",
          "height": 122
        },
        "outputId": "8ea23650-5919-4236-a42e-0f0008b26100"
      },
      "source": [
        "from google.colab import drive\n",
        "drive.mount('/content/drive')"
      ],
      "execution_count": null,
      "outputs": [
        {
          "output_type": "stream",
          "text": [
            "Go to this URL in a browser: https://accounts.google.com/o/oauth2/auth?client_id=947318989803-6bn6qk8qdgf4n4g3pfee6491hc0brc4i.apps.googleusercontent.com&redirect_uri=urn%3aietf%3awg%3aoauth%3a2.0%3aoob&response_type=code&scope=email%20https%3a%2f%2fwww.googleapis.com%2fauth%2fdocs.test%20https%3a%2f%2fwww.googleapis.com%2fauth%2fdrive%20https%3a%2f%2fwww.googleapis.com%2fauth%2fdrive.photos.readonly%20https%3a%2f%2fwww.googleapis.com%2fauth%2fpeopleapi.readonly\n",
            "\n",
            "Enter your authorization code:\n",
            "··········\n",
            "Mounted at /content/drive\n"
          ],
          "name": "stdout"
        }
      ]
    },
    {
      "cell_type": "code",
      "metadata": {
        "colab_type": "code",
        "id": "2wbnfzst5O3k",
        "colab": {}
      },
      "source": [
        "!tar -xzf '/content/drive/My Drive/Colab Notebooks/Bert/aclImdb.tgz'"
      ],
      "execution_count": null,
      "outputs": []
    },
    {
      "cell_type": "code",
      "metadata": {
        "colab_type": "code",
        "id": "dX45oVidGFJL",
        "colab": {}
      },
      "source": [
        "# Carregando o dataset\n",
        "\n",
        "def load_texts(folder):\n",
        "    texts = []\n",
        "    for path in os.listdir(folder):\n",
        "        with open(os.path.join(folder, path)) as f:\n",
        "            texts.append(f.read())\n",
        "    return texts\n",
        "\n",
        "x_train_pos = load_texts('aclImdb/train/pos')\n",
        "x_train_neg = load_texts('aclImdb/train/neg')\n",
        "\n",
        "x_test_pos  = load_texts('aclImdb/test/pos')\n",
        "x_test_neg  = load_texts('aclImdb/test/neg')\n",
        "\n",
        "x_train = x_train_pos + x_train_neg\n",
        "y_train = [1] * len(x_train_pos) + [0] * len(x_train_neg)\n",
        "\n",
        "x_test = x_test_pos + x_test_neg\n",
        "y_test = [1] * len(x_test_pos) + [0] * len(x_test_neg)"
      ],
      "execution_count": null,
      "outputs": []
    },
    {
      "cell_type": "code",
      "metadata": {
        "colab_type": "code",
        "id": "4M0li1EhGFGb",
        "colab": {
          "base_uri": "https://localhost:8080/",
          "height": 204
        },
        "outputId": "1510696d-5bf0-4c5d-e004-e8104080a38b"
      },
      "source": [
        "# Criando um dataset com o Pandas \n",
        "\n",
        "df_train = pd.DataFrame({'Review': x_train, 'label': y_train})\n",
        "df_test  = pd.DataFrame({'Review' : x_test, 'label': y_test}) \n",
        "df_train.head()"
      ],
      "execution_count": null,
      "outputs": [
        {
          "output_type": "execute_result",
          "data": {
            "text/html": [
              "<div>\n",
              "<style scoped>\n",
              "    .dataframe tbody tr th:only-of-type {\n",
              "        vertical-align: middle;\n",
              "    }\n",
              "\n",
              "    .dataframe tbody tr th {\n",
              "        vertical-align: top;\n",
              "    }\n",
              "\n",
              "    .dataframe thead th {\n",
              "        text-align: right;\n",
              "    }\n",
              "</style>\n",
              "<table border=\"1\" class=\"dataframe\">\n",
              "  <thead>\n",
              "    <tr style=\"text-align: right;\">\n",
              "      <th></th>\n",
              "      <th>Review</th>\n",
              "      <th>label</th>\n",
              "    </tr>\n",
              "  </thead>\n",
              "  <tbody>\n",
              "    <tr>\n",
              "      <th>0</th>\n",
              "      <td>Story of Ireland in the 70/s. This film is a b...</td>\n",
              "      <td>1</td>\n",
              "    </tr>\n",
              "    <tr>\n",
              "      <th>1</th>\n",
              "      <td>Melvyn Douglas once more gives a polished perf...</td>\n",
              "      <td>1</td>\n",
              "    </tr>\n",
              "    <tr>\n",
              "      <th>2</th>\n",
              "      <td>I have seen the movie Holes and say that it ha...</td>\n",
              "      <td>1</td>\n",
              "    </tr>\n",
              "    <tr>\n",
              "      <th>3</th>\n",
              "      <td>\"Gunga Din\": one of the greatest adventure sto...</td>\n",
              "      <td>1</td>\n",
              "    </tr>\n",
              "    <tr>\n",
              "      <th>4</th>\n",
              "      <td>I was not expecting the powerful filmmaking ex...</td>\n",
              "      <td>1</td>\n",
              "    </tr>\n",
              "  </tbody>\n",
              "</table>\n",
              "</div>"
            ],
            "text/plain": [
              "                                              Review  label\n",
              "0  Story of Ireland in the 70/s. This film is a b...      1\n",
              "1  Melvyn Douglas once more gives a polished perf...      1\n",
              "2  I have seen the movie Holes and say that it ha...      1\n",
              "3  \"Gunga Din\": one of the greatest adventure sto...      1\n",
              "4  I was not expecting the powerful filmmaking ex...      1"
            ]
          },
          "metadata": {
            "tags": []
          },
          "execution_count": 9
        }
      ]
    },
    {
      "cell_type": "markdown",
      "metadata": {
        "colab_type": "text",
        "id": "rxzGJAb8LGCr"
      },
      "source": [
        "## <span style=\"color:orange\"> Função que tokeniza e cria as máscaras tok_with_masks\n"
      ]
    },
    {
      "cell_type": "markdown",
      "metadata": {
        "colab_type": "text",
        "id": "2KcnaujxmLUJ"
      },
      "source": [
        "### Arquitetura dos inputs \n",
        "\n",
        "---\n",
        "\n",
        "$~~~~~~~~~$ **BERT:**  $~~[CLS]~~$  + $~~$ *tokens* $~~$ + $~~[SEP]~~$ + $~~$ *padding*\n",
        "\n",
        "---\n",
        "\n",
        "$~~~~~~~~~$ **XLNet:** $~~$*padding*$~~$ +$~~$ *tokens*$~~$ + $~~[SEP]~~$ + $~~[CLS]$\n",
        "\n",
        "--- \n",
        "\n",
        "BERT não implementado, representado aqui para efeitos de comparação\n"
      ]
    },
    {
      "cell_type": "code",
      "metadata": {
        "colab_type": "code",
        "id": "4HY0Mbl-tAFy",
        "colab": {
          "base_uri": "https://localhost:8080/",
          "height": 205,
          "referenced_widgets": [
            "398576319b4941e5bd637994c43fc0da",
            "82437fa5bad9466593590ba06599d558",
            "1fcd3c9e6d2d4bf083f932ab4ebe642c",
            "aaeb35cd5cc946a6a1cc0ae1e1cd4bfb",
            "f9c3aaf45b2d487f88d71bcdad3a0886",
            "4f3ab0a6f4834847a746efe6fa53d27d",
            "aea8a341629d4deeb6aadd1ef7239061",
            "75f89771b01c4e21af431d17786363ea"
          ]
        },
        "outputId": "4242f6cc-f4a7-4107-cda3-220d75360ee7"
      },
      "source": [
        "MAX_LEN = 500\n",
        "\n",
        "REP_HTML_SPACE = re.compile(\"(<br\\s*/><br\\s*/>)|(\\-)|(\\/)\") # removendo HTML\n",
        "\n",
        "def preprocess_reviews(reviews):\n",
        "    return [REP_HTML_SPACE.sub(\" \", r) for r in reviews]\n",
        "\n",
        "def tok_with_masks(df):\n",
        "    tok = XLNetTokenizer.from_pretrained('xlnet-base-cased')\n",
        "    sentences = preprocess_reviews(df.Review.values)\n",
        "    tokenized = [tok.tokenize(s) for s in sentences]\n",
        "    tokens = [t[:(MAX_LEN-2)] + [tok.sep_token] + [tok.cls_token] for t in tokenized] \n",
        "    ids = [tok.convert_tokens_to_ids(t) for t in tokens] \n",
        "    ids = np.array([np.pad(i, (MAX_LEN-len(i), 0),\n",
        "                        mode='constant') for i in ids]) # padding\n",
        "    masks = []\n",
        "    for seq in ids:\n",
        "        seq_mask = [float(i>0) for i in seq]\n",
        "        masks.append(seq_mask)\n",
        "\n",
        "    return ids, masks, df.label.values\n",
        "\n",
        "#------------------------------#\n",
        "# Tokenizando, e criando masks #\n",
        "#------------------------------#\n",
        "ids_train_xlnet, masks_train_xlnet, labels_train_xlnet = tok_with_masks(df_train)\n",
        "ids_test_xlnet,  masks_test_xlnet,  labels_test_xlnet  = tok_with_masks(df_test)"
      ],
      "execution_count": null,
      "outputs": [
        {
          "output_type": "stream",
          "text": [
            "INFO:filelock:Lock 139646709136240 acquired on /root/.cache/torch/transformers/dad589d582573df0293448af5109cb6981ca77239ed314e15ca63b7b8a318ddd.8b10bd978b5d01c21303cc761fc9ecd464419b3bf921864a355ba807cfbfafa8.lock\n",
            "INFO:transformers.file_utils:https://s3.amazonaws.com/models.huggingface.co/bert/xlnet-base-cased-spiece.model not found in cache or force_download set to True, downloading to /root/.cache/torch/transformers/tmpl69pj2kx\n"
          ],
          "name": "stderr"
        },
        {
          "output_type": "display_data",
          "data": {
            "application/vnd.jupyter.widget-view+json": {
              "model_id": "398576319b4941e5bd637994c43fc0da",
              "version_minor": 0,
              "version_major": 2
            },
            "text/plain": [
              "HBox(children=(FloatProgress(value=0.0, description='Downloading', max=798011.0, style=ProgressStyle(descripti…"
            ]
          },
          "metadata": {
            "tags": []
          }
        },
        {
          "output_type": "stream",
          "text": [
            "INFO:transformers.file_utils:storing https://s3.amazonaws.com/models.huggingface.co/bert/xlnet-base-cased-spiece.model in cache at /root/.cache/torch/transformers/dad589d582573df0293448af5109cb6981ca77239ed314e15ca63b7b8a318ddd.8b10bd978b5d01c21303cc761fc9ecd464419b3bf921864a355ba807cfbfafa8\n",
            "INFO:transformers.file_utils:creating metadata file for /root/.cache/torch/transformers/dad589d582573df0293448af5109cb6981ca77239ed314e15ca63b7b8a318ddd.8b10bd978b5d01c21303cc761fc9ecd464419b3bf921864a355ba807cfbfafa8\n",
            "INFO:filelock:Lock 139646709136240 released on /root/.cache/torch/transformers/dad589d582573df0293448af5109cb6981ca77239ed314e15ca63b7b8a318ddd.8b10bd978b5d01c21303cc761fc9ecd464419b3bf921864a355ba807cfbfafa8.lock\n",
            "INFO:transformers.tokenization_utils:loading file https://s3.amazonaws.com/models.huggingface.co/bert/xlnet-base-cased-spiece.model from cache at /root/.cache/torch/transformers/dad589d582573df0293448af5109cb6981ca77239ed314e15ca63b7b8a318ddd.8b10bd978b5d01c21303cc761fc9ecd464419b3bf921864a355ba807cfbfafa8\n"
          ],
          "name": "stderr"
        },
        {
          "output_type": "stream",
          "text": [
            "\n"
          ],
          "name": "stdout"
        },
        {
          "output_type": "stream",
          "text": [
            "INFO:transformers.tokenization_utils:loading file https://s3.amazonaws.com/models.huggingface.co/bert/xlnet-base-cased-spiece.model from cache at /root/.cache/torch/transformers/dad589d582573df0293448af5109cb6981ca77239ed314e15ca63b7b8a318ddd.8b10bd978b5d01c21303cc761fc9ecd464419b3bf921864a355ba807cfbfafa8\n"
          ],
          "name": "stderr"
        }
      ]
    },
    {
      "cell_type": "markdown",
      "metadata": {
        "colab_type": "text",
        "id": "GoYPOdt3_L7H"
      },
      "source": [
        "## <span style=\"color:orange\"> Função que cria dataset (ds)\n",
        "- dataset de treino\n",
        "- dataset de validação\n",
        "- dataset de teste\n",
        "- dataset de debug (um pequeno dataset com os mesmos dados do conj. de treino) que é usado para depuração da rede"
      ]
    },
    {
      "cell_type": "code",
      "metadata": {
        "colab_type": "code",
        "id": "HRW4jPbo1QZf",
        "colab": {
          "base_uri": "https://localhost:8080/",
          "height": 88
        },
        "outputId": "1b8a00d8-919d-4281-8529-28b7915e80e6"
      },
      "source": [
        "def make_ds(ids, masks, labels, val=True):\n",
        "    if val == True:\n",
        "        t_inputs, v_inputs, t_labels, v_labels = train_test_split(\n",
        "            ids, \n",
        "            labels,\n",
        "            random_state=manual_seed,\n",
        "            test_size=0.2\n",
        "            )\n",
        "        t_masks, v_masks,_,_ = train_test_split(\n",
        "            masks, \n",
        "            ids,\n",
        "            random_state=manual_seed, \n",
        "            test_size=0.2\n",
        "            )\n",
        "        t_inputs = torch.tensor(t_inputs); v_inputs = torch.tensor(v_inputs)\n",
        "        t_masks  = torch.tensor(t_masks);  v_masks  = torch.tensor(v_masks)\n",
        "        t_labels = torch.tensor(t_labels); v_labels = torch.tensor(v_labels)\n",
        "\n",
        "        # Debug set is a small train-set for debug         \n",
        "        d_inputs = torch.tensor(t_inputs[:64])\n",
        "        d_labels = torch.tensor(t_labels[:64])\n",
        "        d_masks  = torch.tensor(t_masks[ :64])\n",
        "     \n",
        "        train_ds = TensorDataset(t_inputs, t_masks, t_labels)\n",
        "        val_ds   = TensorDataset(v_inputs, v_masks, v_labels)\n",
        "        debug_ds = TensorDataset(d_inputs, d_masks, d_labels)\n",
        "\n",
        "        return train_ds, val_ds, debug_ds\n",
        "\n",
        "    test_inputs = torch.tensor(ids)\n",
        "    test_labels = torch.tensor(labels)\n",
        "    test_masks  = torch.tensor(masks)\n",
        "    \n",
        "    test_ds  = TensorDataset(test_inputs, test_masks, test_labels)\n",
        "\n",
        "    return  test_ds\n",
        "\n",
        "#------------------#\n",
        "# Criando datasets #\n",
        "#------------------#\n",
        "train_ds_xlnet, val_ds_xlnet, debug_ds_xlnet = make_ds(ids_train_xlnet, masks_train_xlnet, labels_train_xlnet, val=True)\n",
        "test_ds_xlnet = make_ds(ids_test_xlnet,  masks_test_xlnet,  labels_test_xlnet, val=False)"
      ],
      "execution_count": null,
      "outputs": [
        {
          "output_type": "stream",
          "text": [
            "/usr/local/lib/python3.6/dist-packages/ipykernel_launcher.py:20: UserWarning: To copy construct from a tensor, it is recommended to use sourceTensor.clone().detach() or sourceTensor.clone().detach().requires_grad_(True), rather than torch.tensor(sourceTensor).\n",
            "/usr/local/lib/python3.6/dist-packages/ipykernel_launcher.py:21: UserWarning: To copy construct from a tensor, it is recommended to use sourceTensor.clone().detach() or sourceTensor.clone().detach().requires_grad_(True), rather than torch.tensor(sourceTensor).\n",
            "/usr/local/lib/python3.6/dist-packages/ipykernel_launcher.py:22: UserWarning: To copy construct from a tensor, it is recommended to use sourceTensor.clone().detach() or sourceTensor.clone().detach().requires_grad_(True), rather than torch.tensor(sourceTensor).\n"
          ],
          "name": "stderr"
        }
      ]
    },
    {
      "cell_type": "markdown",
      "metadata": {
        "colab_type": "text",
        "id": "972nVg4A_rVS"
      },
      "source": [
        "## <span style=\"color:orange\"> Dataloaders\n",
        "- treino\n",
        "- validação\n",
        "- teste\n",
        "- debug"
      ]
    },
    {
      "cell_type": "code",
      "metadata": {
        "colab_type": "code",
        "id": "h0wkejSU4hrs",
        "colab": {
          "base_uri": "https://localhost:8080/",
          "height": 34
        },
        "outputId": "717929ad-4cc3-475b-8d57-561217225ef6"
      },
      "source": [
        "BATCH_SZ = 4\n",
        "\n",
        "@gpu_mem_restore\n",
        "def make_dl(ds_train, ds_val, ds_debug, ds_test, batch_sz=BATCH_SZ):\n",
        "    train_sampler = RandomSampler(ds_train)\n",
        "    val_sampler   = SequentialSampler(ds_val)\n",
        "    test_sampler  = SequentialSampler(ds_test)\n",
        "\n",
        "    dataloaders = {\n",
        "    \n",
        "        'train': DataLoader(ds_train,\n",
        "                            sampler = train_sampler, \n",
        "                            batch_size=batch_sz,\n",
        "                            num_workers=4,\n",
        "                            pin_memory=True),\n",
        "        'val':   DataLoader(ds_val,\n",
        "                            sampler=val_sampler,\n",
        "                            batch_size=batch_sz,\n",
        "                            num_workers=4,\n",
        "                            pin_memory=True),\n",
        "       'debug':  DataLoader(ds_debug, \n",
        "                            shuffle= True, \n",
        "                            batch_size=batch_sz,\n",
        "                            num_workers=1,\n",
        "                            pin_memory=True),\n",
        "        'test':  DataLoader(ds_test, \n",
        "                            sampler=test_sampler,\n",
        "                            batch_size=batch_sz,\n",
        "                            num_workers=4,\n",
        "                            pin_memory=True)\n",
        "                 }\n",
        "    return dataloaders\n",
        "\n",
        "#---------------------#\n",
        "# Criando dataloaders #\n",
        "#---------------------#\n",
        "dataloaders_XLNET = make_dl(train_ds_xlnet, val_ds_xlnet, debug_ds_xlnet, test_ds_xlnet)\n",
        "\n",
        "# sanity check\n",
        "dl_sizes_xlnet = {x: len(dataloaders_XLNET[x]) for x in dataloaders_XLNET.keys()}\n",
        "dl_sizes_xlnet "
      ],
      "execution_count": null,
      "outputs": [
        {
          "output_type": "execute_result",
          "data": {
            "text/plain": [
              "{'debug': 16, 'test': 6250, 'train': 5000, 'val': 1250}"
            ]
          },
          "metadata": {
            "tags": []
          },
          "execution_count": 12
        }
      ]
    },
    {
      "cell_type": "markdown",
      "metadata": {
        "colab_type": "text",
        "id": "Q6IuUa4QLlts"
      },
      "source": [
        "# <span style=\"color:orange\"> Modelo com o Pytorch Lightning"
      ]
    },
    {
      "cell_type": "code",
      "metadata": {
        "colab_type": "code",
        "id": "lUlx9UnETtEE",
        "colab": {
          "base_uri": "https://localhost:8080/",
          "height": 1000,
          "referenced_widgets": [
            "8fc16b6011b947489274b6d864c56427",
            "64838a441e814c3b953742a8cd45bce5",
            "e1bfbb3713d14ae8ada0c01cc9354067",
            "fa327a850e8742ee8d663d1a6fadda66",
            "3a20b213fc3e431cbb4a10f93cd8b43f",
            "c99947c7175444cca0e7be722e712076",
            "bc50fd11b17f47d6bf0cb0fcc0c8729b",
            "85267e23f889418fb2b299b7f8a37408",
            "538a2cff6c4f4187933a40393784ad93",
            "0fd06d46606b4ff4bfab292890200d32",
            "7c72c55fef6e4519b5140b86cb28f42e",
            "1b7cf1f96254499cb17e805d11f1aa88",
            "7afc89c9973846a09a557eca6fcac8b8",
            "7541a8972d88403b8785a06f17f7a049",
            "4eb18217f821446c81d024fab504f374",
            "98d58c514e9b4cc99eded83b753e852e"
          ]
        },
        "outputId": "8988f7e3-7ecc-450c-f2bc-e327a3482c30"
      },
      "source": [
        "class Model(pl.LightningModule):\n",
        "    def __init__(self, debug=False):\n",
        "        super(Model, self).__init__()\n",
        "        self.model = XLNetForSequenceClassification.from_pretrained('xlnet-base-cased')\n",
        "        \n",
        "        if debug == True:\n",
        "            self.dataloader = dataloaders_XLNET['debug']\n",
        "        else:\n",
        "            self.dataloader  = dataloaders_XLNET\n",
        "    \n",
        "    def forward(self, input_ids, mask, labels):\n",
        "        _, logits = self.model(input_ids,\n",
        "                               attention_mask=mask, \n",
        "                               labels=labels)\n",
        "        return logits\n",
        "    \n",
        "    def configure_optimizers(self):\n",
        "        param_optimizer = list(self.model.named_parameters())\n",
        "        no_decay = [\"bias\", \"gamma\", \"beta\"]\n",
        "        optimizer_grouped_parameters = [\n",
        "        {\n",
        "            \"params\": [p for n, p in param_optimizer if not any(nd in n for nd in no_decay)],\n",
        "            \"weight_decay_rate\": 0.01\n",
        "            },\n",
        "        {\n",
        "            \"params\": [p for n, p in param_optimizer if any(nd in n for nd in no_decay)],\n",
        "            \"weight_decay_rate\": 0.0\n",
        "            },\n",
        "        ]\n",
        "        optimizer =  AdamW(optimizer_grouped_parameters, lr=2e-5)\n",
        "        return optimizer\n",
        "    \n",
        "    def training_step(self, batch, batch_idx):\n",
        "        input_ids, mask, labels = batch\n",
        "        loss, _ = self.model(input_ids,\n",
        "                             attention_mask=mask,\n",
        "                             labels=labels\n",
        "                             )\n",
        "        tqdm_dict = {\"train_loss\": loss}\n",
        "        output = OrderedDict({\n",
        "            \"loss\": loss,\n",
        "            \"progress_bar\": tqdm_dict,\n",
        "            \"log\": tqdm_dict\n",
        "            })\n",
        "        return output\n",
        "    \n",
        "    def validation_step(self, batch, batch_idx):\n",
        "        input_ids, mask, labels = batch\n",
        "        loss, logits = self.model(\n",
        "                input_ids,\n",
        "                attention_mask=mask,\n",
        "                labels=labels\n",
        "                )\n",
        "        labels_hat = torch.argmax(logits, dim=1)\n",
        "        correct_count = torch.sum(labels == labels_hat)\n",
        "        if self.on_gpu:\n",
        "            correct_count = correct_count.cuda(loss.device.index)\n",
        "\n",
        "        output = OrderedDict({\n",
        "            \"val_loss\": loss,\n",
        "            \"correct_count\": correct_count,\n",
        "            \"batch_size\": len(labels)\n",
        "            })\n",
        "        return output\n",
        "    \n",
        "    def validation_epoch_end(self, outputs):\n",
        "        val_acc  = sum([out[\"correct_count\"] for out in outputs]).float()/sum(out[\"batch_size\"] for out in outputs)\n",
        "        val_loss = sum([out[\"val_loss\"] for out in outputs]) / len(outputs)\n",
        "        tqdm_dict = {\n",
        "                \"val_loss\": val_loss,\n",
        "                \"val_acc\": val_acc,\n",
        "                }\n",
        "        result = {\"progress_bar\": tqdm_dict, \"log\": tqdm_dict, \"val_loss\": val_loss}\n",
        "        return result\n",
        "    \n",
        "    def test_step(self, batch, batch_idx):\n",
        "        input_ids, mask, labels = batch\n",
        "        loss, logits = self.model(\n",
        "                input_ids,\n",
        "                attention_mask=mask,\n",
        "                labels=labels\n",
        "                )\n",
        "        labels_hat = torch.argmax(logits, dim=1)\n",
        "        correct_count = torch.sum(labels == labels_hat)\n",
        "\n",
        "        if self.on_gpu:\n",
        "            correct_count = correct_count.cuda(loss.device.index)\n",
        "\n",
        "        output = OrderedDict({\n",
        "            \"test_loss\": loss,\n",
        "            \"correct_count\": correct_count,\n",
        "            \"batch_size\": len(labels)\n",
        "            })\n",
        "        return output\n",
        "    \n",
        "    def test_epoch_end(self, outputs):\n",
        "        test_acc = sum([out[\"correct_count\"] for out in outputs]).float() / sum(out[\"batch_size\"] for out in outputs)\n",
        "        test_loss = sum([out[\"test_loss\"] for out in outputs]) / len(outputs)\n",
        "        tqdm_dict = {\n",
        "                \"test_loss\": test_loss,\n",
        "                \"test_acc\": test_acc,\n",
        "                    }\n",
        "        result = {\"progress_bar\": tqdm_dict, \"log\": tqdm_dict}\n",
        "        return result\n",
        "    \n",
        "    @gpu_mem_restore\n",
        "    def train_dataloader(self):\n",
        "        return self.dataloader['train']\n",
        "    \n",
        "    @gpu_mem_restore\n",
        "    def val_dataloader(self):\n",
        "        return self.dataloader['val']\n",
        "    \n",
        "    @gpu_mem_restore\n",
        "    def test_dataloader(self):\n",
        "        return self.dataloader['test']\n",
        "\n",
        "model = Model()"
      ],
      "execution_count": null,
      "outputs": [
        {
          "output_type": "stream",
          "text": [
            "INFO:filelock:Lock 139645706376864 acquired on /root/.cache/torch/transformers/c9cc6e53904f7f3679a31ec4af244f4419e25ebc8e71ebf8c558a31cbcf07fc8.f23f7137b19a096a6eed89d1ffd00d4530935d72381eb7b9fcf8d5a1f25919ad.lock\n",
            "INFO:transformers.file_utils:https://s3.amazonaws.com/models.huggingface.co/bert/xlnet-base-cased-config.json not found in cache or force_download set to True, downloading to /root/.cache/torch/transformers/tmp2xy2uscm\n"
          ],
          "name": "stderr"
        },
        {
          "output_type": "display_data",
          "data": {
            "application/vnd.jupyter.widget-view+json": {
              "model_id": "8fc16b6011b947489274b6d864c56427",
              "version_minor": 0,
              "version_major": 2
            },
            "text/plain": [
              "HBox(children=(FloatProgress(value=0.0, description='Downloading', max=736.0, style=ProgressStyle(description_…"
            ]
          },
          "metadata": {
            "tags": []
          }
        },
        {
          "output_type": "stream",
          "text": [
            "INFO:transformers.file_utils:storing https://s3.amazonaws.com/models.huggingface.co/bert/xlnet-base-cased-config.json in cache at /root/.cache/torch/transformers/c9cc6e53904f7f3679a31ec4af244f4419e25ebc8e71ebf8c558a31cbcf07fc8.f23f7137b19a096a6eed89d1ffd00d4530935d72381eb7b9fcf8d5a1f25919ad\n",
            "INFO:transformers.file_utils:creating metadata file for /root/.cache/torch/transformers/c9cc6e53904f7f3679a31ec4af244f4419e25ebc8e71ebf8c558a31cbcf07fc8.f23f7137b19a096a6eed89d1ffd00d4530935d72381eb7b9fcf8d5a1f25919ad\n",
            "INFO:filelock:Lock 139645706376864 released on /root/.cache/torch/transformers/c9cc6e53904f7f3679a31ec4af244f4419e25ebc8e71ebf8c558a31cbcf07fc8.f23f7137b19a096a6eed89d1ffd00d4530935d72381eb7b9fcf8d5a1f25919ad.lock\n",
            "INFO:transformers.configuration_utils:loading configuration file https://s3.amazonaws.com/models.huggingface.co/bert/xlnet-base-cased-config.json from cache at /root/.cache/torch/transformers/c9cc6e53904f7f3679a31ec4af244f4419e25ebc8e71ebf8c558a31cbcf07fc8.f23f7137b19a096a6eed89d1ffd00d4530935d72381eb7b9fcf8d5a1f25919ad\n",
            "INFO:transformers.configuration_utils:Model config XLNetConfig {\n",
            "  \"_num_labels\": 2,\n",
            "  \"architectures\": [\n",
            "    \"XLNetLMHeadModel\"\n",
            "  ],\n",
            "  \"attn_type\": \"bi\",\n",
            "  \"bad_words_ids\": null,\n",
            "  \"bi_data\": false,\n",
            "  \"bos_token_id\": 1,\n",
            "  \"clamp_len\": -1,\n",
            "  \"d_head\": 64,\n",
            "  \"d_inner\": 3072,\n",
            "  \"d_model\": 768,\n",
            "  \"decoder_start_token_id\": null,\n",
            "  \"do_sample\": false,\n",
            "  \"dropout\": 0.1,\n",
            "  \"early_stopping\": false,\n",
            "  \"end_n_top\": 5,\n",
            "  \"eos_token_id\": 2,\n",
            "  \"ff_activation\": \"gelu\",\n",
            "  \"finetuning_task\": null,\n",
            "  \"id2label\": {\n",
            "    \"0\": \"LABEL_0\",\n",
            "    \"1\": \"LABEL_1\"\n",
            "  },\n",
            "  \"initializer_range\": 0.02,\n",
            "  \"is_decoder\": false,\n",
            "  \"is_encoder_decoder\": false,\n",
            "  \"label2id\": {\n",
            "    \"LABEL_0\": 0,\n",
            "    \"LABEL_1\": 1\n",
            "  },\n",
            "  \"layer_norm_eps\": 1e-12,\n",
            "  \"length_penalty\": 1.0,\n",
            "  \"max_length\": 20,\n",
            "  \"mem_len\": null,\n",
            "  \"min_length\": 0,\n",
            "  \"model_type\": \"xlnet\",\n",
            "  \"n_head\": 12,\n",
            "  \"n_layer\": 12,\n",
            "  \"no_repeat_ngram_size\": 0,\n",
            "  \"num_beams\": 1,\n",
            "  \"num_return_sequences\": 1,\n",
            "  \"output_attentions\": false,\n",
            "  \"output_hidden_states\": false,\n",
            "  \"output_past\": true,\n",
            "  \"pad_token_id\": 5,\n",
            "  \"prefix\": null,\n",
            "  \"pruned_heads\": {},\n",
            "  \"repetition_penalty\": 1.0,\n",
            "  \"reuse_len\": null,\n",
            "  \"same_length\": false,\n",
            "  \"start_n_top\": 5,\n",
            "  \"summary_activation\": \"tanh\",\n",
            "  \"summary_last_dropout\": 0.1,\n",
            "  \"summary_type\": \"last\",\n",
            "  \"summary_use_proj\": true,\n",
            "  \"task_specific_params\": {\n",
            "    \"text_generation\": {\n",
            "      \"max_length\": 210\n",
            "    }\n",
            "  },\n",
            "  \"temperature\": 1.0,\n",
            "  \"top_k\": 50,\n",
            "  \"top_p\": 1.0,\n",
            "  \"torchscript\": false,\n",
            "  \"untie_r\": true,\n",
            "  \"use_bfloat16\": false,\n",
            "  \"vocab_size\": 32000\n",
            "}\n",
            "\n"
          ],
          "name": "stderr"
        },
        {
          "output_type": "stream",
          "text": [
            "\n"
          ],
          "name": "stdout"
        },
        {
          "output_type": "stream",
          "text": [
            "INFO:filelock:Lock 139645706378208 acquired on /root/.cache/torch/transformers/24197ba0ce5dbfe23924431610704c88e2c0371afa49149360e4c823219ab474.7eac4fe898a021204e63c88c00ea68c60443c57f94b4bc3c02adbde6465745ac.lock\n",
            "INFO:transformers.file_utils:https://s3.amazonaws.com/models.huggingface.co/bert/xlnet-base-cased-pytorch_model.bin not found in cache or force_download set to True, downloading to /root/.cache/torch/transformers/tmptbpppa15\n"
          ],
          "name": "stderr"
        },
        {
          "output_type": "display_data",
          "data": {
            "application/vnd.jupyter.widget-view+json": {
              "model_id": "538a2cff6c4f4187933a40393784ad93",
              "version_minor": 0,
              "version_major": 2
            },
            "text/plain": [
              "HBox(children=(FloatProgress(value=0.0, description='Downloading', max=467042463.0, style=ProgressStyle(descri…"
            ]
          },
          "metadata": {
            "tags": []
          }
        },
        {
          "output_type": "stream",
          "text": [
            "INFO:transformers.file_utils:storing https://s3.amazonaws.com/models.huggingface.co/bert/xlnet-base-cased-pytorch_model.bin in cache at /root/.cache/torch/transformers/24197ba0ce5dbfe23924431610704c88e2c0371afa49149360e4c823219ab474.7eac4fe898a021204e63c88c00ea68c60443c57f94b4bc3c02adbde6465745ac\n",
            "INFO:transformers.file_utils:creating metadata file for /root/.cache/torch/transformers/24197ba0ce5dbfe23924431610704c88e2c0371afa49149360e4c823219ab474.7eac4fe898a021204e63c88c00ea68c60443c57f94b4bc3c02adbde6465745ac\n",
            "INFO:filelock:Lock 139645706378208 released on /root/.cache/torch/transformers/24197ba0ce5dbfe23924431610704c88e2c0371afa49149360e4c823219ab474.7eac4fe898a021204e63c88c00ea68c60443c57f94b4bc3c02adbde6465745ac.lock\n",
            "INFO:transformers.modeling_utils:loading weights file https://s3.amazonaws.com/models.huggingface.co/bert/xlnet-base-cased-pytorch_model.bin from cache at /root/.cache/torch/transformers/24197ba0ce5dbfe23924431610704c88e2c0371afa49149360e4c823219ab474.7eac4fe898a021204e63c88c00ea68c60443c57f94b4bc3c02adbde6465745ac\n"
          ],
          "name": "stderr"
        },
        {
          "output_type": "stream",
          "text": [
            "\n"
          ],
          "name": "stdout"
        },
        {
          "output_type": "stream",
          "text": [
            "INFO:transformers.modeling_utils:Weights of XLNetForSequenceClassification not initialized from pretrained model: ['sequence_summary.summary.weight', 'sequence_summary.summary.bias', 'logits_proj.weight', 'logits_proj.bias']\n",
            "INFO:transformers.modeling_utils:Weights from pretrained model not used in XLNetForSequenceClassification: ['lm_loss.weight', 'lm_loss.bias']\n"
          ],
          "name": "stderr"
        }
      ]
    },
    {
      "cell_type": "markdown",
      "metadata": {
        "colab_type": "text",
        "id": "kqgx9RWPrf1g"
      },
      "source": [
        "# <span style=\"color:orange\"> Modelo XLNet (Google/CMU)\n"
      ]
    },
    {
      "cell_type": "markdown",
      "metadata": {
        "colab_type": "text",
        "id": "Gdb0oFRU0nBJ"
      },
      "source": [
        "## <span style=\"color:orange\"> Treinando no dataloader Debug: check de convergência"
      ]
    },
    {
      "cell_type": "code",
      "metadata": {
        "colab_type": "code",
        "id": "zvP31Eai0nBN",
        "colab": {}
      },
      "source": [
        "torch.cuda.empty_cache()\n",
        "model = Model('xlnet', debug=True)\n",
        "\n",
        "trainer = pl.Trainer(gpus=1, \n",
        "                     checkpoint_callback=False, \n",
        "                     max_epochs=15); trainer.fit(model)"
      ],
      "execution_count": null,
      "outputs": []
    },
    {
      "cell_type": "code",
      "metadata": {
        "colab_type": "code",
        "id": "TSIfSiqi0hYs",
        "colab": {
          "base_uri": "https://localhost:8080/",
          "height": 222,
          "referenced_widgets": [
            "bb2919bda4174483844c92d3b2edf172",
            "7cb0495340cd4b9f93597e98faa3de1d",
            "7dabe895f9724007b7799c7083b8faff",
            "d5e1d8cab5a34f86914c5db2d82c8780",
            "d936d8e9d1b44c719ca9810272f69b41",
            "3f8faa2a0c844623b403a667ce6e0d82",
            "15e26139ede945ea88fd83300167ad59",
            "e4eac46d874544de828c64393ba531ae"
          ]
        },
        "outputId": "da41ff9a-ab24-4e5d-d0a9-9cf130343b80"
      },
      "source": [
        "trainer.test(model)\n",
        "\n",
        "# save gpu memmory \n",
        "del model \n",
        "torch.cuda.empty_cache()"
      ],
      "execution_count": null,
      "outputs": [
        {
          "output_type": "stream",
          "text": [
            "/usr/local/lib/python3.6/dist-packages/pytorch_lightning/utilities/warnings.py:18: UserWarning: The dataloader, test dataloader 0, does not have many workers which may be a bottleneck. Consider increasing the value of the `num_workers` argument` in the `DataLoader` init to improve performance.\n",
            "  warnings.warn(*args, **kwargs)\n"
          ],
          "name": "stderr"
        },
        {
          "output_type": "display_data",
          "data": {
            "application/vnd.jupyter.widget-view+json": {
              "model_id": "bb2919bda4174483844c92d3b2edf172",
              "version_major": 2,
              "version_minor": 0
            },
            "text/plain": [
              "HBox(children=(FloatProgress(value=0.0, description='Testing', layout=Layout(flex='2'), max=4.0, style=Progres…"
            ]
          },
          "metadata": {
            "tags": []
          }
        },
        {
          "output_type": "stream",
          "text": [
            "/usr/local/lib/python3.6/dist-packages/torch/nn/functional.py:1340: UserWarning: nn.functional.tanh is deprecated. Use torch.tanh instead.\n",
            "  warnings.warn(\"nn.functional.tanh is deprecated. Use torch.tanh instead.\")\n"
          ],
          "name": "stderr"
        },
        {
          "output_type": "stream",
          "text": [
            "--------------------------------------------------------------------------------\n",
            "TEST RESULTS\n",
            "{'test_acc': 1.0, 'test_loss': 0.0016988813877105713}\n",
            "--------------------------------------------------------------------------------\n",
            "\n"
          ],
          "name": "stdout"
        }
      ]
    },
    {
      "cell_type": "markdown",
      "metadata": {
        "colab_type": "text",
        "id": "_deWD8lirf2G"
      },
      "source": [
        "## <span style=\"color:orange\"> Treinamento completo XLNet\n"
      ]
    },
    {
      "cell_type": "code",
      "metadata": {
        "id": "bZPLNc7FmRmn",
        "colab_type": "code",
        "colab": {}
      },
      "source": [
        "# del model\n",
        "max_epochs = 2\n",
        "\n",
        "#------- utilizando check point salvo em treinamento salvo --------\n",
        "path = '/content/drive/My Drive/Colab Notebooks/Bert/epoch=2.ckpt' \n",
        "\n",
        "checkpoint_path = path \n",
        "checkpoint_dir = os.path.dirname(os.path.abspath(checkpoint_path))\n",
        "print(f'Files in {checkpoint_dir}: {os.listdir(checkpoint_dir)}')\n",
        "print(f'Saving checkpoints to {checkpoint_dir}')\n",
        "checkpoint_callback = ModelCheckpoint(filepath=checkpoint_dir,\n",
        "                                      save_top_k=-1)  # Keeps all checkpoints.\n",
        "\n",
        "resume_from_checkpoint = True\n",
        "if os.path.exists(checkpoint_path):\n",
        "    print(f'Restoring checkpoint: {checkpoint_path}')\n",
        "    resume_from_checkpoint = checkpoint_path\n",
        "\n",
        "trainer = pl.Trainer(gpus=1,\n",
        "                     max_epochs=max_epochs,\n",
        "                     check_val_every_n_epoch=1,\n",
        "                     accumulate_grad_batches=4,\n",
        "                     checkpoint_callback=checkpoint_callback,\n",
        "                     resume_from_checkpoint=resume_from_checkpoint)\n",
        "\n",
        "model = Model()\n",
        "\n",
        "trainer.fit(model)"
      ],
      "execution_count": null,
      "outputs": []
    },
    {
      "cell_type": "markdown",
      "metadata": {
        "id": "5jziTkL_FPiA",
        "colab_type": "text"
      },
      "source": [
        "# Desempenho: Conj. teste"
      ]
    },
    {
      "cell_type": "code",
      "metadata": {
        "id": "QP7zvf2oTA4Q",
        "colab_type": "code",
        "colab": {
          "base_uri": "https://localhost:8080/",
          "height": 185,
          "referenced_widgets": [
            "303231437bb04c7591916fe46ae550c1",
            "f6ceb94ce6f748a3856683bc4233d39a",
            "7642d983cef448d2805df7d5570c57c5",
            "3408ef4de1d744e389f7b68f5f9695da",
            "2132b566a63b464aac7c9ba3d670886a",
            "ba82d5ffe149482faf14577f77bee58b",
            "32e89dd694b049eb8ce4cc5091128521",
            "8079cc2fa1134643a0072ebe4174192a"
          ]
        },
        "outputId": "ebc7735b-a640-48b6-a8c2-16f0339f768d"
      },
      "source": [
        "# XLNet teste \n",
        "trainer.test(model)"
      ],
      "execution_count": null,
      "outputs": [
        {
          "output_type": "display_data",
          "data": {
            "application/vnd.jupyter.widget-view+json": {
              "model_id": "303231437bb04c7591916fe46ae550c1",
              "version_minor": 0,
              "version_major": 2
            },
            "text/plain": [
              "HBox(children=(FloatProgress(value=1.0, bar_style='info', description='Testing', layout=Layout(flex='2'), max=…"
            ]
          },
          "metadata": {
            "tags": []
          }
        },
        {
          "output_type": "stream",
          "text": [
            "/usr/local/lib/python3.6/dist-packages/torch/nn/functional.py:1558: UserWarning: nn.functional.tanh is deprecated. Use torch.tanh instead.\n",
            "  warnings.warn(\"nn.functional.tanh is deprecated. Use torch.tanh instead.\")\n"
          ],
          "name": "stderr"
        },
        {
          "output_type": "stream",
          "text": [
            "--------------------------------------------------------------------------------\n",
            "TEST RESULTS\n",
            "{'test_acc': tensor(0.9503, device='cuda:0'),\n",
            " 'test_loss': tensor(0.1414, device='cuda:0')}\n",
            "--------------------------------------------------------------------------------\n",
            "\n"
          ],
          "name": "stdout"
        }
      ]
    },
    {
      "cell_type": "markdown",
      "metadata": {
        "colab_type": "text",
        "id": "CzbdlhNFEiy6"
      },
      "source": [
        "# <span style=\"color:purple\">Fim do notebook"
      ]
    }
  ]
}