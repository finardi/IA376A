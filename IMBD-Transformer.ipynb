{
  "nbformat": 4,
  "nbformat_minor": 0,
  "metadata": {
    "accelerator": "GPU",
    "colab": {
      "name": "Paulo_Finardi_[Sem_7]_V2.ipynb",
      "provenance": [],
      "collapsed_sections": [
        "rShIdzkvtu89",
        "GTV0vFqtXBe4",
        "B9yV8LAP4Zcx",
        "vTflqPjG239F",
        "4tOaHkN7s4qh",
        "T1ShsQlBs8GW",
        "U2VUdKov5wLq",
        "0uCByNoCtJ0m",
        "DPYMmTO4fiIT",
        "-0OTjHjj5WMu",
        "ATptaOzQDq79"
      ],
      "include_colab_link": true
    },
    "hide_input": false,
    "kernelspec": {
      "display_name": "Python 3",
      "language": "python",
      "name": "python3"
    },
    "language_info": {
      "codemirror_mode": {
        "name": "ipython",
        "version": 3
      },
      "file_extension": ".py",
      "mimetype": "text/x-python",
      "name": "python",
      "nbconvert_exporter": "python",
      "pygments_lexer": "ipython3",
      "version": "3.7.3"
    },
    "toc": {
      "base_numbering": 1,
      "nav_menu": {},
      "number_sections": true,
      "sideBar": true,
      "skip_h1_title": false,
      "title_cell": "Table of Contents",
      "title_sidebar": "Contents",
      "toc_cell": false,
      "toc_position": {},
      "toc_section_display": true,
      "toc_window_display": false
    },
    "varInspector": {
      "cols": {
        "lenName": 16,
        "lenType": 16,
        "lenVar": 40
      },
      "kernels_config": {
        "python": {
          "delete_cmd_postfix": "",
          "delete_cmd_prefix": "del ",
          "library": "var_list.py",
          "varRefreshCmd": "print(var_dic_list())"
        },
        "r": {
          "delete_cmd_postfix": ") ",
          "delete_cmd_prefix": "rm(",
          "library": "var_list.r",
          "varRefreshCmd": "cat(var_dic_list()) "
        }
      },
      "types_to_exclude": [
        "module",
        "function",
        "builtin_function_or_method",
        "instance",
        "_Feature"
      ],
      "window_display": false
    }
  },
  "cells": [
    {
      "cell_type": "markdown",
      "metadata": {
        "id": "view-in-github",
        "colab_type": "text"
      },
      "source": [
        "<a href=\"https://colab.research.google.com/github/finardi/IA376A/blob/master/IMBD-Transformer.ipynb\" target=\"_parent\"><img src=\"https://colab.research.google.com/assets/colab-badge.svg\" alt=\"Open In Colab\"/></a>"
      ]
    },
    {
      "cell_type": "markdown",
      "metadata": {
        "colab_type": "text",
        "id": "hpHsn58xAL5J"
      },
      "source": [
        "# <span style=\"color:orange\"> Paulo Finardi </span>\n",
        "\n",
        "<span style=\"color:purple\"> Semana: 7 </span>\n",
        "    \n",
        "\n"
      ]
    },
    {
      "cell_type": "markdown",
      "metadata": {
        "colab_type": "text",
        "id": "c_fuTyCxP9Om"
      },
      "source": [
        "## <span style=\"color:orange\"> Bibliotecas e função que torna os testes pseudo determínisticos\n",
        "\n",
        "    \n",
        "\n"
      ]
    },
    {
      "cell_type": "code",
      "metadata": {
        "colab_type": "code",
        "id": "FW0Rutkj8QC6",
        "colab": {}
      },
      "source": [
        "# Parâmetros do exercício:\n",
        "manualSeed = 0\n",
        "batch_size = 50\n",
        "lr = 0.001\n",
        "n_epocas = 15\n",
        "seq_len = 200\n",
        "gloveDim = 300\n",
        "tokenizerType = \"spacy\"\n",
        "download = False"
      ],
      "execution_count": null,
      "outputs": []
    },
    {
      "cell_type": "code",
      "metadata": {
        "colab_type": "code",
        "id": "99ShLx6W8t5O",
        "colab": {
          "base_uri": "https://localhost:8080/",
          "height": 34
        },
        "outputId": "52824eca-ec40-4576-e402-a2d40bf36a24"
      },
      "source": [
        "import torch\n",
        "import numpy as np\n",
        "import pandas as pd\n",
        "from sklearn.model_selection import train_test_split\n",
        "from torchtext.data import get_tokenizer\n",
        "from torch.utils.data import Dataset, DataLoader\n",
        "import torch.nn as nn\n",
        "import torch.nn.functional as F\n",
        "import matplotlib.pyplot as plt\n",
        "import math\n",
        "import os\n",
        "from torchtext.vocab import GloVe\n",
        "\n",
        "device = torch.device('cuda' if torch.cuda.is_available() else 'cpu')\n",
        "print(f'Using device: {device}')"
      ],
      "execution_count": null,
      "outputs": [
        {
          "output_type": "stream",
          "text": [
            "Using device: cuda\n"
          ],
          "name": "stdout"
        }
      ]
    },
    {
      "cell_type": "code",
      "metadata": {
        "colab_type": "code",
        "id": "e-FOaTiDjO4F",
        "colab": {
          "base_uri": "https://localhost:8080/",
          "height": 85
        },
        "outputId": "51160eec-7ba1-4dcc-c461-f603242ee0ce"
      },
      "source": [
        "# cód. Diedre\n",
        "def get_device(force_cpu=False):\n",
        "    '''\n",
        "    Gets pytorch current available device\n",
        "    '''\n",
        "    if torch.cuda.is_available() is True and not force_cpu:\n",
        "        device = torch.device(\"cuda:0\")\n",
        "        print(\"CUDA device found: \" + str(device))\n",
        "        print(\"GPU: \" + str(get_device_name(0)))\n",
        "        GPU_MEMORY_GBS = torch.cuda.get_device_properties(device).total_memory / 1000000000\n",
        "        print(\"TOTAL GPU MEMORY: {}\".format(GPU_MEMORY_GBS))\n",
        "    else:\n",
        "        device = torch.device(\"cpu\")\n",
        "        print(\"CUDA device not available or forced disabled. Using CPU.\")\n",
        "    return device\n",
        "device = get_device(force_cpu=False)\n",
        "print(f'Number of CPU cores: {cpu_count()}')"
      ],
      "execution_count": null,
      "outputs": [
        {
          "output_type": "stream",
          "text": [
            "CUDA device found: cuda:0\n",
            "GPU: Tesla P4\n",
            "TOTAL GPU MEMORY: 7.981694976\n",
            "Number of CPU cores: 2\n"
          ],
          "name": "stdout"
        }
      ]
    },
    {
      "cell_type": "markdown",
      "metadata": {
        "colab_type": "text",
        "id": "18qA_zoZAMIV"
      },
      "source": [
        "# <span style=\"color:orange\"> Embeddings do glove\n",
        "\n",
        "Download ou uso do já baixado no drive."
      ]
    },
    {
      "cell_type": "code",
      "metadata": {
        "colab_type": "code",
        "id": "pM7rKIwu8vyA",
        "colab": {
          "base_uri": "https://localhost:8080/",
          "height": 374
        },
        "outputId": "baef211e-ef89-4334-bc7b-a142074e4290"
      },
      "source": [
        "!wget -nc http://nlp.stanford.edu/data/glove.6B.zip\n",
        "!unzip -f glove.6B.zip -d glove_dir\n",
        "gloveCache = './glove_dir'"
      ],
      "execution_count": null,
      "outputs": [
        {
          "output_type": "stream",
          "text": [
            "--2020-04-23 00:13:53--  http://nlp.stanford.edu/data/glove.6B.zip\n",
            "Resolving nlp.stanford.edu (nlp.stanford.edu)... 171.64.67.140\n",
            "Connecting to nlp.stanford.edu (nlp.stanford.edu)|171.64.67.140|:80... connected.\n",
            "HTTP request sent, awaiting response... 302 Found\n",
            "Location: https://nlp.stanford.edu/data/glove.6B.zip [following]\n",
            "--2020-04-23 00:13:53--  https://nlp.stanford.edu/data/glove.6B.zip\n",
            "Connecting to nlp.stanford.edu (nlp.stanford.edu)|171.64.67.140|:443... connected.\n",
            "HTTP request sent, awaiting response... 301 Moved Permanently\n",
            "Location: http://downloads.cs.stanford.edu/nlp/data/glove.6B.zip [following]\n",
            "--2020-04-23 00:13:53--  http://downloads.cs.stanford.edu/nlp/data/glove.6B.zip\n",
            "Resolving downloads.cs.stanford.edu (downloads.cs.stanford.edu)... 171.64.64.22\n",
            "Connecting to downloads.cs.stanford.edu (downloads.cs.stanford.edu)|171.64.64.22|:80... connected.\n",
            "HTTP request sent, awaiting response... 200 OK\n",
            "Length: 862182613 (822M) [application/zip]\n",
            "Saving to: ‘glove.6B.zip’\n",
            "\n",
            "glove.6B.zip        100%[===================>] 822.24M  2.04MB/s    in 6m 27s  \n",
            "\n",
            "2020-04-23 00:20:20 (2.13 MB/s) - ‘glove.6B.zip’ saved [862182613/862182613]\n",
            "\n",
            "Archive:  glove.6B.zip\n"
          ],
          "name": "stdout"
        }
      ]
    },
    {
      "cell_type": "code",
      "metadata": {
        "colab_type": "code",
        "id": "ReonXscU84nW",
        "colab": {
          "base_uri": "https://localhost:8080/",
          "height": 51
        },
        "outputId": "a2724618-a18e-4aa9-d382-dd1d35aaa3a4"
      },
      "source": [
        "glove_vectors = GloVe(name='6B', dim=gloveDim, cache=gloveCache)"
      ],
      "execution_count": null,
      "outputs": [
        {
          "output_type": "stream",
          "text": [
            "./glove_dir/glove.6B.zip: 862MB [06:27, 2.23MB/s]                           \n",
            "100%|█████████▉| 398932/400000 [00:37<00:00, 10733.89it/s]"
          ],
          "name": "stderr"
        }
      ]
    },
    {
      "cell_type": "code",
      "metadata": {
        "colab_type": "code",
        "id": "g0-0W7Bj86Py",
        "colab": {
          "base_uri": "https://localhost:8080/",
          "height": 51
        },
        "outputId": "0d4d1fb2-ef5e-4bcf-ecde-125a2a0537eb"
      },
      "source": [
        "print(glove_vectors.vectors.shape)\n",
        "print(\n",
        "        'Primeiras 10 palavras e seus índices:',\n",
        "        list(glove_vectors.stoi.items())[:10]\n",
        "     )"
      ],
      "execution_count": null,
      "outputs": [
        {
          "output_type": "stream",
          "text": [
            "torch.Size([400000, 300])\n",
            "Primeiras 10 palavras e seus índices: [('the', 0), (',', 1), ('.', 2), ('of', 3), ('to', 4), ('and', 5), ('in', 6), ('a', 7), ('\"', 8), (\"'s\", 9)]\n"
          ],
          "name": "stdout"
        }
      ]
    },
    {
      "cell_type": "code",
      "metadata": {
        "colab_type": "code",
        "id": "m7UTY_2Z87_E",
        "colab": {
          "base_uri": "https://localhost:8080/",
          "height": 51
        },
        "outputId": "16a690e3-7a5e-4482-cfd7-7f23f28c1aec"
      },
      "source": [
        "# cód. Gustavo Plensack\n",
        "\n",
        "# Cuidado, as strings devem estar todas em lowercase,\n",
        "# nesse caso duas palavras distintas têm o mesmo embedding,\n",
        "# que provavelmente é o do token desconhecido.\n",
        "print('Caixa mista:',(glove_vectors['Test'] - glove_vectors['Nothing']).sum())\n",
        "print('Caixa baixa:',(glove_vectors['test'] - glove_vectors['nothing']).sum())"
      ],
      "execution_count": null,
      "outputs": [
        {
          "output_type": "stream",
          "text": [
            "Caixa mista: tensor(0.)\n",
            "Caixa baixa: tensor(-0.2714)\n"
          ],
          "name": "stdout"
        }
      ]
    },
    {
      "cell_type": "code",
      "metadata": {
        "colab_type": "code",
        "id": "vYv2AVwZ89Zk",
        "colab": {
          "base_uri": "https://localhost:8080/",
          "height": 34
        },
        "outputId": "242f8840-6866-4f23-fee3-96c1c32f6bf2"
      },
      "source": [
        "glove_vectors = GloVe(name='6B', dim=gloveDim, cache=gloveCache)\n",
        "\n",
        "# aumentando uma entrada no GloVe para garantir que ele funcione no embedding\n",
        "# com o unk e pad - Obrigado pela dica Israel\n",
        "\n",
        "pad_token_idx = len(glove_vectors.vectors)\n",
        "unk_token_idx = len(glove_vectors.vectors) + 1\n",
        "\n",
        "glove_vectors.vectors = torch.cat((glove_vectors.vectors, torch.zeros(2, gloveDim)))\n",
        "\n",
        "vocab_size = len(glove_vectors.vectors)\n",
        "\n",
        "glove_vectors.vectors.shape"
      ],
      "execution_count": null,
      "outputs": [
        {
          "output_type": "execute_result",
          "data": {
            "text/plain": [
              "torch.Size([400002, 300])"
            ]
          },
          "metadata": {
            "tags": []
          },
          "execution_count": 20
        }
      ]
    },
    {
      "cell_type": "code",
      "metadata": {
        "colab_type": "code",
        "id": "GXyUleCNmZFb",
        "colab": {
          "base_uri": "https://localhost:8080/",
          "height": 34
        },
        "outputId": "036374c1-585a-4fa3-fc0b-e1afa9d934b2"
      },
      "source": [
        "print(f'token unk: {unk_token_idx} e token pad: {pad_token_idx}')"
      ],
      "execution_count": null,
      "outputs": [
        {
          "output_type": "stream",
          "text": [
            "token unk: 400001 e token pad: 400000\n"
          ],
          "name": "stdout"
        }
      ]
    },
    {
      "cell_type": "code",
      "metadata": {
        "colab_type": "code",
        "id": "vtYcyxdl2dIT",
        "colab": {
          "base_uri": "https://localhost:8080/",
          "height": 34
        },
        "outputId": "c9659ca2-8d45-4713-9c8a-8716e8f2fcdb"
      },
      "source": [
        "print(f'O tamanho do vocabulário é {vocab_size}')"
      ],
      "execution_count": null,
      "outputs": [
        {
          "output_type": "stream",
          "text": [
            "O tamanho do vocabulário é 400002\n"
          ],
          "name": "stdout"
        }
      ]
    },
    {
      "cell_type": "markdown",
      "metadata": {
        "colab_type": "text",
        "id": "J3sVdphzHqIj"
      },
      "source": [
        "## <span style=\"color:orange\"> Instanciando o tokenizador\n",
        "\n",
        "Implementação baseada na do colega Israel da última semana, eu não conhecia o pacote do torch text e que ele tinha o tokenizadores pré-definidos. O tokenizador a ser usado é definido na primeira célula do notebook."
      ]
    },
    {
      "cell_type": "code",
      "metadata": {
        "colab_type": "code",
        "id": "RXJBg6zjHw2e",
        "colab": {}
      },
      "source": [
        "tokenizer = get_tokenizer(tokenizerType)"
      ],
      "execution_count": null,
      "outputs": []
    },
    {
      "cell_type": "markdown",
      "metadata": {
        "colab_type": "text",
        "id": "emyeG0zTKhdD"
      },
      "source": [
        "## <span style=\"color:orange\"> Dados IMDB"
      ]
    },
    {
      "cell_type": "markdown",
      "metadata": {
        "colab_type": "text",
        "id": "Bxlhi9lFKhdB"
      },
      "source": [
        "Primeiro, fazemos download do dataset:"
      ]
    },
    {
      "cell_type": "code",
      "metadata": {
        "colab_type": "code",
        "id": "WCDcHm6DYaVB",
        "colab": {
          "base_uri": "https://localhost:8080/",
          "height": 34
        },
        "outputId": "6a3f0cf2-64f0-4456-d5d3-81da73d3e9fa"
      },
      "source": [
        "!wget -q -nc http://files.fast.ai/data/aclImdb.tgz \n",
        "!tar -xzf aclImdb.tgz"
      ],
      "execution_count": null,
      "outputs": [
        {
          "output_type": "stream",
          "text": [
            "\r100%|█████████▉| 398932/400000 [00:50<00:00, 10733.89it/s]"
          ],
          "name": "stderr"
        }
      ]
    },
    {
      "cell_type": "code",
      "metadata": {
        "colab_type": "code",
        "id": "laGf3TLxYaVD",
        "colab": {
          "base_uri": "https://localhost:8080/",
          "height": 459
        },
        "outputId": "647e54ae-f9a2-4581-9bff-f08f5937300e"
      },
      "source": [
        "# cód. Gustavo Plensack\n",
        "\n",
        "def load_texts(folder):\n",
        "    texts = []\n",
        "    for path in os.listdir(folder):\n",
        "        with open(os.path.join(folder, path)) as f:\n",
        "            texts.append(f.read())\n",
        "    return texts\n",
        "\n",
        "x_train_pos = load_texts('aclImdb/train/pos')\n",
        "x_train_neg = load_texts('aclImdb/train/neg')\n",
        "x_test_pos = load_texts('aclImdb/test/pos')\n",
        "x_test_neg = load_texts('aclImdb/test/neg')\n",
        "\n",
        "x_train = x_train_pos + x_train_neg\n",
        "x_test = x_test_pos + x_test_neg\n",
        "\n",
        "# Convertendo para caixa baixa\n",
        "x_train = [sample.lower() for sample in x_train]\n",
        "x_test = [sample.lower() for sample in x_test]\n",
        "\n",
        "y_train = [1] * len(x_train_pos) + [0] * len(x_train_neg)\n",
        "y_test = [1] * len(x_test_pos) + [0] * len(x_test_neg)\n",
        "\n",
        "\n",
        "# Separando treino de validação usando o sklearn\n",
        "x_train, x_valid, y_train, y_valid = train_test_split(x_train,\n",
        "                                                      y_train,\n",
        "                                                      test_size=0.2,\n",
        "                                                      random_state=manualSeed)"
      ],
      "execution_count": null,
      "outputs": [
        {
          "output_type": "stream",
          "text": [
            "20000 amostras de treino.\n",
            "25000 amostras de teste.\n",
            "--- 3 primeiras amostras treino: ---\n",
            "1 some people have stated that as of the 11th season, south park has started a trend of leaving behind\n",
            "0 i am uncertain what to make of this misshapen 2007 dramedy. attempting to be a new millennium cross-\n",
            "0 you, know, i can take the blood and the sex, but that thong bikini shot pretty much did me in. someo\n",
            "--- 3 últimas amostras treino: ---\n",
            "1 as essential a part of british pop culture as the monty python and james bond, doctor who was a mass\n",
            "1 with the death of her infirmed husband, may, an older woman faces a future in an urban world that vi\n",
            "1 anna (charlotte burke) develops a strange fever that causes her to pass out and drift off into a wor\n",
            "--- 3 primeiras amostras validação: ---\n",
            "0 vampires vs. zombies starts with the breaking news that the unidentified disease that is spreading a\n",
            "1 i was all ready to pan this episode, seeing that this 'master' really doesn't have any horror films \n",
            "0 sean, you know i think that you are absolutely the greatest actor in the world, but i can't commend \n",
            "--- 3 últimas amostras validação: ---\n",
            "1 i found this a very entertaining small kids movie that actually is geared more for adults with a lot\n",
            "1 how strange the human mind is; this center of activity wherein perceptions of reality are formed and\n",
            "1 this was the modesty that we didn't know! it was hinted at and summarized in the comic strip for the\n",
            "--- 3 primeiras amostras teste: ---\n",
            "1 this movie features some of the best ensemble work i've seen in film or on stage. the actors play of\n",
            "1 'identity . . . . i am part of my surroundings and i became separate from them and it's being able \n",
            "1 at the time that this movie was made most housewives knew exactly who barbara stanwick was parodying\n",
            "--- 3 últimas amostras teste: ---\n",
            "0 frankly i met real han su ying before and seeing her portrayed by an american actress which has no r\n",
            "0 ham-handed homage to honest hacking. felt good in a soft-core way about equivalent to its mild porno\n",
            "0 i think we are supposed to think what wonderful salt-of-the-earth characters. unfortunately, this is\n"
          ],
          "name": "stdout"
        }
      ]
    },
    {
      "cell_type": "code",
      "metadata": {
        "colab_type": "code",
        "id": "o-N7bJGYSg3b",
        "colab": {
          "base_uri": "https://localhost:8080/",
          "height": 34
        },
        "outputId": "c7a9eaa9-670a-4219-8325-e37e7f4a68e8"
      },
      "source": [
        "#Testando separação em treino e validação\n",
        "len(x_train),len(y_train),len(x_valid),len(y_valid)"
      ],
      "execution_count": null,
      "outputs": [
        {
          "output_type": "execute_result",
          "data": {
            "text/plain": [
              "(20000, 20000, 5000, 5000)"
            ]
          },
          "metadata": {
            "tags": []
          },
          "execution_count": 26
        }
      ]
    },
    {
      "cell_type": "markdown",
      "metadata": {
        "colab_type": "text",
        "id": "7KXVC1a6Mngu"
      },
      "source": [
        "## <span style=\"color:orange\"> Tokenizando o texto e obtendo a sequência de indexes do glove"
      ]
    },
    {
      "cell_type": "code",
      "metadata": {
        "colab_type": "code",
        "id": "5664HVOxMqMr",
        "colab": {}
      },
      "source": [
        "# cód. Gustavo Plensack\n",
        "\n",
        "def tokenize_and_pad(texts, seq_len=seq_len, pad_token_idx=pad_token_idx,\n",
        "                    unk_token_idx=unk_token_idx,tokenizer=tokenizer):\n",
        "  '''\n",
        "  Tokeniza e retorna as sequências de ids dos tokens e com tamanho limitado\n",
        "  por seq_len. Abordagem inspirada na do colega Israel\n",
        "  '''\n",
        "  processed_texts = []\n",
        "  masks = []\n",
        "  for text in texts:\n",
        "    tokens = tokenizer(str(text))\n",
        "    end = min(len(tokens), seq_len)\n",
        "    toks = tokens[:end]\n",
        "\n",
        "    token_ids, mask = [], []\n",
        "    for t in toks:\n",
        "      if t in glove_vectors.stoi.keys():\n",
        "        tid = glove_vectors.stoi[t]\n",
        "        m = 1\n",
        "      else:\n",
        "        tid = unk_token_idx\n",
        "        m = 0\n",
        "      token_ids.append(tid)\n",
        "      mask.append(m)  \n",
        "      \n",
        "    if len(token_ids) < seq_len:\n",
        "      missing = seq_len - len(token_ids)\n",
        "      mask = mask + [0] * missing\n",
        "      token_ids = token_ids + [pad_token_idx] * missing\n",
        "\n",
        "    processed_texts.append(token_ids)\n",
        "    masks.append(mask)\n",
        "\n",
        "  return processed_texts, masks"
      ],
      "execution_count": null,
      "outputs": []
    },
    {
      "cell_type": "code",
      "metadata": {
        "colab_type": "code",
        "id": "ob6FKkm5MqRZ",
        "colab": {}
      },
      "source": [
        "X_valid,masks_valid = tokenize_and_pad(x_valid)\n",
        "X_train,masks_train = tokenize_and_pad(x_train)\n",
        "X_test,masks_test = tokenize_and_pad(x_test)"
      ],
      "execution_count": null,
      "outputs": []
    },
    {
      "cell_type": "markdown",
      "metadata": {
        "colab_type": "text",
        "id": "DTmvTR-4lcwY"
      },
      "source": [
        "##  <span style=\"color:orange\"> Classe dataset"
      ]
    },
    {
      "cell_type": "code",
      "metadata": {
        "colab_type": "code",
        "id": "nJuCYOh76anW",
        "colab": {}
      },
      "source": [
        "# cód. Gustavo Plensack\n",
        "\n",
        "class SentimentDataset(Dataset):\n",
        "  '''\n",
        "  Implementa o dataset de forma bastante simples. Já espera os dados\n",
        "  pré-processados e não executa nenhuma alteração neles, apenas os converte\n",
        "  para torch.\n",
        "  '''\n",
        "  def __init__(self, X,mask,y,padding_token=len(glove_vectors.vectors)):\n",
        "    super(SentimentDataset, self).__init__()\n",
        "\n",
        "    self.y = torch.LongTensor(y)\n",
        "    self.X = torch.LongTensor(X)\n",
        "    self.mask = torch.LongTensor(mask)\n",
        "    \n",
        "  def __len__(self):\n",
        "    return self.y.shape[0]\n",
        "  \n",
        "  def __getitem__(self, index):\n",
        "    return self.X[index],self.mask[index], self.y[index]"
      ],
      "execution_count": null,
      "outputs": []
    },
    {
      "cell_type": "code",
      "metadata": {
        "colab_type": "code",
        "id": "ogEKT7id6kvJ",
        "colab": {
          "base_uri": "https://localhost:8080/",
          "height": 34
        },
        "outputId": "9a740e08-4cbe-4365-bc2b-83151498b107"
      },
      "source": [
        "# teste classe dataset\n",
        "x,mask,y = SentimentDataset(X_train,masks_train,y_train)[:]\n",
        "x.shape,mask.shape,y.shape"
      ],
      "execution_count": null,
      "outputs": [
        {
          "output_type": "execute_result",
          "data": {
            "text/plain": [
              "(torch.Size([20000, 200]), torch.Size([20000, 200]), torch.Size([20000]))"
            ]
          },
          "metadata": {
            "tags": []
          },
          "execution_count": 33
        }
      ]
    },
    {
      "cell_type": "markdown",
      "metadata": {
        "colab_type": "text",
        "id": "c5QbjJCs-lT-"
      },
      "source": [
        "## <span style=\"color:orange\"> Dataloader"
      ]
    },
    {
      "cell_type": "code",
      "metadata": {
        "colab_type": "code",
        "id": "_V8d17Slb9Ba",
        "colab": {
          "base_uri": "https://localhost:8080/",
          "height": 34
        },
        "outputId": "dc3d82e1-955c-4731-b210-916dfebf8093"
      },
      "source": [
        "trainDS = SentimentDataset(X_train,masks_train,y_train)\n",
        "valDS   = SentimentDataset(X_valid ,masks_valid,y_valid)\n",
        "testDS  = SentimentDataset(X_test ,masks_test,y_test)\n",
        "\n",
        "# Dataloader\n",
        "BATCH_SZ = 128\n",
        "\n",
        "dataloaders = {\n",
        "    'train': DataLoader(trainDS,batch_size=BATCH_SZ, shuffle=True, num_workers=0, pin_memory=True),\n",
        "    'val':   DataLoader(valDS,  batch_size=BATCH_SZ, shuffle=False,num_workers=0, pin_memory=True),\n",
        "    'test':  DataLoader(testDS, batch_size=BATCH_SZ, shuffle=False,num_workers=0, pin_memory=True)\n",
        "}\n",
        "dataloaders_sizes = {\n",
        "    x: len(dataloaders[x]) for x in dataloaders.keys()\n",
        "}\n",
        "dataloaders_sizes"
      ],
      "execution_count": null,
      "outputs": [
        {
          "output_type": "execute_result",
          "data": {
            "text/plain": [
              "{'test': 196, 'train': 157, 'val': 40}"
            ]
          },
          "metadata": {
            "tags": []
          },
          "execution_count": 38
        }
      ]
    },
    {
      "cell_type": "code",
      "metadata": {
        "colab_type": "code",
        "id": "HrOkilIRdIHM",
        "colab": {
          "base_uri": "https://localhost:8080/",
          "height": 34
        },
        "outputId": "ced441d2-5d3e-4d32-a98c-5b539bd4b787"
      },
      "source": [
        "# Testando a classe dataloader junto com o dataset\n",
        "x, mask,y = next(iter(dataloaders['train']))\n",
        "x.shape,mask.shape,y.shape"
      ],
      "execution_count": null,
      "outputs": [
        {
          "output_type": "execute_result",
          "data": {
            "text/plain": [
              "(torch.Size([128, 200]), torch.Size([128, 200]), torch.Size([128]))"
            ]
          },
          "metadata": {
            "tags": []
          },
          "execution_count": 54
        }
      ]
    },
    {
      "cell_type": "markdown",
      "metadata": {
        "colab_type": "text",
        "id": "UyuYKbbUaBsm"
      },
      "source": [
        "# <span style=\"color:orange\"> Modelo"
      ]
    },
    {
      "cell_type": "code",
      "metadata": {
        "colab_type": "code",
        "id": "84RO9CNQbwum",
        "colab": {
          "base_uri": "https://localhost:8080/",
          "height": 34
        },
        "outputId": "90369cdf-7516-4c4b-df56-31172c6cf240"
      },
      "source": [
        "vocab_size, emb_dim = glove_vectors.vectors.shape\n",
        "vocab_size, emb_dim"
      ],
      "execution_count": null,
      "outputs": [
        {
          "output_type": "execute_result",
          "data": {
            "text/plain": [
              "(400002, 300)"
            ]
          },
          "metadata": {
            "tags": []
          },
          "execution_count": 42
        }
      ]
    },
    {
      "cell_type": "code",
      "metadata": {
        "colab_type": "code",
        "id": "ud6_VhX4GAc3",
        "colab": {}
      },
      "source": [
        "class MultiHeadAttention(nn.Module):\n",
        "\n",
        "  def __init__(self, embed_dim, nheads):\n",
        "    assert embed_dim % nheads == 0\n",
        "    super().__init__()\n",
        "    self.embed_dim = embed_dim\n",
        "    self.nheads = nheads\n",
        "\n",
        "    self.query = nn.Linear(embed_dim, embed_dim, bias=False)\n",
        "    self.key = nn.Linear(embed_dim, embed_dim, bias=False)\n",
        "    self.value = nn.Linear(embed_dim, embed_dim, bias=False)\n",
        "    self.context = nn.Linear(embed_dim, embed_dim)\n",
        "    self.drop = nn.Dropout(0.1)\n",
        "\n",
        "  def split_heads(self, x):\n",
        "    N, L, D = x.shape\n",
        "    return x.view(N, L, self.nheads, D//self.nheads).transpose(1,2) # (N, H, L, D/H)\n",
        "\n",
        "  def merge_heads(self, x):\n",
        "    N, H, L, D = x.shape\n",
        "    return x.transpose(1,2).contiguous().view(N, L, -1)\n",
        "\n",
        "  def forward(self, key, query, value, mask=None):\n",
        "    key = self.split_heads(self.key(key))\n",
        "    query = self.split_heads(self.query(query))\n",
        "    value = self.split_heads(self.value(value))\n",
        "\n",
        "    d = key.shape[-1] # embedding dimensions\n",
        "    scores = query @ key.transpose(-1, -2) # (batch_size, nheads, seq_len, seq_len)\n",
        "    if mask is not None:\n",
        "        mask = mask[:, None, None, :] # (batch_size, nheads, seq_len, seq_len)\n",
        "        mask = (1. - mask) * (-1e10) \n",
        "        scores = scores + mask\n",
        "    probs = torch.softmax(scores / math.sqrt(d), dim=-1)\n",
        "    probs = self.drop(probs)\n",
        "    E = probs @ value # (batch_size, nheads, seq_len, embed_dim/nheads)\n",
        "    E = self.merge_heads(E) # (batch_size, seq_len, embed_dim)\n",
        "    E = self.context(E)\n",
        "    return E    \n",
        "\n",
        "class Transformer(nn.Module):\n",
        "\n",
        "  def __init__(self, embed_dim, nheads=1, max_seq_length=512):\n",
        "    super().__init__()\n",
        "\n",
        "    self.positional_embedding = nn.Embedding(max_seq_length, embed_dim)\n",
        "    self.multi_head = MultiHeadAttention(embed_dim, nheads)\n",
        "\n",
        "    self.feedforward = nn.Sequential(\n",
        "        nn.Linear(embed_dim, embed_dim),\n",
        "        nn.ReLU(),\n",
        "        nn.Dropout(0.1),\n",
        "        nn.Linear(embed_dim, embed_dim)\n",
        "    )\n",
        "\n",
        "    self.ln1 = nn.LayerNorm(embed_dim)\n",
        "    self.ln2 = nn.LayerNorm(embed_dim)\n",
        "\n",
        "  def positional_emb(self, x):\n",
        "    _, L, _ = x.shape\n",
        "    ids = torch.arange(end=L, device=x.device)\n",
        "    return self.positional_embedding(ids)\n",
        "\n",
        "  def forward(self, x, mask=None):\n",
        "    # sum the positional embedding\n",
        "    x = self.positional_emb(x) + x # (batch, seq, emb)\n",
        "\n",
        "    # passes to multi head attention\n",
        "    mha = self.multi_head(x, x, x, mask)\n",
        "    mha = self.ln1(mha + x)\n",
        "\n",
        "    # computes the ff\n",
        "    ff = self.feedforward(mha)\n",
        "    ff = self.ln2(ff + mha)\n",
        "    return ff"
      ],
      "execution_count": null,
      "outputs": []
    },
    {
      "cell_type": "code",
      "metadata": {
        "colab_type": "code",
        "id": "rwijOrIaZyVd",
        "colab": {}
      },
      "source": [
        "# cód. Israel\n",
        "\n",
        "class Model(nn.Module):\n",
        "\n",
        "  def __init__(self, vocab_size, emb_dim, out_features=2, nheads=1):\n",
        "    super().__init__()\n",
        "    self.vocab_size = vocab_size\n",
        "    self.emb_dim = emb_dim\n",
        "\n",
        "    self.emb = nn.Embedding.from_pretrained(glove_vectors.vectors, freeze=True)\n",
        "\n",
        "    self.attention = Transformer(emb_dim, nheads=nheads)\n",
        "    self.classifier = nn.Linear(emb_dim, out_features)\n",
        "\n",
        "  def grad_embs(self, grad=False):\n",
        "    for params in self.emb.parameters():\n",
        "        params.requires_grad = grad\n",
        "\n",
        "  def forward(self, x, mask=None):\n",
        "    embs = self.emb(x) # (batch_size, seq_len, emb_dim)\n",
        "    attn = self.attention(embs, mask) # (batch_size, seq_len, emb_dim)\n",
        "    if mask is not None:\n",
        "      attn = (attn.permute(2, 0, 1) * mask).permute(1,2,0).contiguous() # this will ignore the padding on the mean\n",
        "      attn = (attn.sum(1).transpose(-2, -1) / mask.sum(1)).transpose(-2, -1) # (batch_size, out_features)\n",
        "    else:\n",
        "      attn = attn.mean(1)\n",
        "    out = self.classifier(attn) # (batch_size, out_features)\n",
        "    return out"
      ],
      "execution_count": null,
      "outputs": []
    },
    {
      "cell_type": "code",
      "metadata": {
        "colab_type": "code",
        "id": "qGbycwbUdWOU",
        "colab": {
          "base_uri": "https://localhost:8080/",
          "height": 102
        },
        "outputId": "ee9059f5-d249-44fc-92c7-197b6a707a0e"
      },
      "source": [
        "model = Model(vocab_size, emb_dim, nheads=6)\n",
        "model.to(device)\n",
        "\n",
        "with torch.no_grad():\n",
        "  out = model(x.to(device), mask=mask.to(device))\n",
        "out.shape\n",
        "\n",
        "def count_parameters(model):\n",
        "    return sum(p.numel() for p in model.parameters() if p.requires_grad)\n",
        "\n",
        "print('\\n','#' * 46,f'\\n # The model has {count_parameters(model):,}' \\\n",
        "       ' trainable parameters #\\n', '#' * 46,'\\n' )  "
      ],
      "execution_count": null,
      "outputs": [
        {
          "output_type": "stream",
          "text": [
            "\n",
            " ############################################## \n",
            " # The model has 696,302 trainable parameters #\n",
            " ############################################## \n",
            "\n"
          ],
          "name": "stdout"
        }
      ]
    },
    {
      "cell_type": "markdown",
      "metadata": {
        "colab_type": "text",
        "id": "mr3qaW9Yd9B1"
      },
      "source": [
        "# <span style=\"color:orange\"> Função Treino/Validação"
      ]
    },
    {
      "cell_type": "code",
      "metadata": {
        "colab_type": "code",
        "id": "SMrpLoWXd9B4",
        "colab": {}
      },
      "source": [
        "from sklearn.metrics import accuracy_score\n",
        "\n",
        "def train(model, device, train_loader, loss_fn, optimizer):\n",
        "  model.train()\n",
        "  loss_train = []\n",
        "  for data, mask, target in train_loader:\n",
        "    data, mask, target = data.to(device), mask.to(device), target.to(device)\n",
        "    optimizer.zero_grad()\n",
        "    output = model(data, mask)\n",
        "    loss = loss_fn(output, target)\n",
        "    loss_train.append(loss.item())\n",
        "  \n",
        "    loss.backward()\n",
        "    optimizer.step()\n",
        "  \n",
        "  ave_train_loss = sum(loss_train) / len(loss_train)\n",
        "  return ave_train_loss\n",
        "\n",
        "def test(model, device, valid_loader, loss_fn):\n",
        "  model.eval()\n",
        "  logits, trues, loss_test = [],[],[]\n",
        "  with torch.no_grad():\n",
        "    for data, mask, target in valid_loader:\n",
        "      data, mask, target = data.to(device), mask.to(device), target.to(device)\n",
        "      output = model(data, mask)\n",
        "      loss = loss_fn(output, target)\n",
        "      loss_test.append(loss.item())\n",
        "      \n",
        "      logits.extend(output.to('cpu').numpy().tolist())\n",
        "      trues.extend(target.to('cpu').numpy().tolist())\n",
        "      prob = F.softmax(torch.tensor(logits), dim=1).numpy().copy()\n",
        "      probs = prob[:,1]\n",
        "  \n",
        "    ave_test_loss = sum(loss_test) / len(loss_test)\n",
        "  return ave_test_loss, accuracy_score(trues, probs.round()) "
      ],
      "execution_count": null,
      "outputs": []
    },
    {
      "cell_type": "markdown",
      "metadata": {
        "colab_type": "text",
        "id": "GdZ6-8yeeTLy"
      },
      "source": [
        "#  <span style=\"color:orange\">  Treino em um único Batch - check de convergência\n",
        "\n",
        "\n",
        "\n"
      ]
    },
    {
      "cell_type": "code",
      "metadata": {
        "colab_type": "code",
        "id": "0qUIFaxEeTLz",
        "colab": {
          "base_uri": "https://localhost:8080/",
          "height": 442
        },
        "outputId": "409e618e-169a-455c-c3ad-c1b53c2d67ca"
      },
      "source": [
        "start = torch.cuda.Event(enable_timing=True)\n",
        "end = torch.cuda.Event(enable_timing=True)\n",
        "\n",
        "deterministic() \n",
        "\n",
        "model = Model(vocab_size, emb_dim, nheads=5).to(device)\n",
        "criterion = nn.CrossEntropyLoss() \n",
        "optimizer = torch.optim.Adam(model.parameters())\n",
        "N_EPOCHS  = 1000\n",
        "\n",
        "#-------------------------- pega um único batch\n",
        "data, mask, target = next(iter(dataloaders['train']))\n",
        "loss_train = []\n",
        "\n",
        "# start time record\n",
        "start.record()\n",
        "\n",
        "for step in range(1, N_EPOCHS+1):\n",
        "    model.train()\n",
        "    data, mask, target = data.to(device), mask.to(device), target.to(device)\n",
        "    optimizer.zero_grad()\n",
        "    output = model(data)\n",
        "    loss   = criterion(output, target)\n",
        "    loss_train.append(loss.item())\n",
        "    loss.backward()\n",
        "    optimizer.step()\n",
        "    ave_train_loss = sum(loss_train) / len(loss_train)\n",
        "    \n",
        "    if step ==1:\n",
        "        print(f'[Epoch [{step}/{N_EPOCHS}] |', end=' ')\n",
        "        print(f'Train Loss: {ave_train_loss:.3f}')\n",
        "    if step % 50 == 0:\n",
        "        print(f'[Epoch [{step}/{N_EPOCHS}] |', end=' ')\n",
        "        print(f'Train Loss: {ave_train_loss:.3f}')\n",
        "\n",
        "print(f'\\nEnd of training.')\n",
        "\n",
        "# end time record\n",
        "end.record()\n",
        "torch.cuda.synchronize()\n",
        "\n",
        "print(f'Tempo: {start.elapsed_time(end)/1000 :.3} seg.')"
      ],
      "execution_count": null,
      "outputs": [
        {
          "output_type": "stream",
          "text": [
            "Deterministic experiment, seed: 0\n",
            "[Epoch [1/1000] | Train Loss: 0.701\n",
            "[Epoch [50/1000] | Train Loss: 0.459\n",
            "[Epoch [100/1000] | Train Loss: 0.231\n",
            "[Epoch [150/1000] | Train Loss: 0.154\n",
            "[Epoch [200/1000] | Train Loss: 0.116\n",
            "[Epoch [250/1000] | Train Loss: 0.093\n",
            "[Epoch [300/1000] | Train Loss: 0.077\n",
            "[Epoch [350/1000] | Train Loss: 0.066\n",
            "[Epoch [400/1000] | Train Loss: 0.058\n",
            "[Epoch [450/1000] | Train Loss: 0.051\n",
            "[Epoch [500/1000] | Train Loss: 0.046\n",
            "[Epoch [550/1000] | Train Loss: 0.042\n",
            "[Epoch [600/1000] | Train Loss: 0.039\n",
            "[Epoch [650/1000] | Train Loss: 0.036\n",
            "[Epoch [700/1000] | Train Loss: 0.033\n",
            "[Epoch [750/1000] | Train Loss: 0.031\n",
            "[Epoch [800/1000] | Train Loss: 0.029\n",
            "[Epoch [850/1000] | Train Loss: 0.027\n",
            "[Epoch [900/1000] | Train Loss: 0.026\n",
            "[Epoch [950/1000] | Train Loss: 0.024\n",
            "[Epoch [1000/1000] | Train Loss: 0.023\n",
            "\n",
            "End of training.\n",
            "Tempo: 67.8 seg.\n"
          ],
          "name": "stdout"
        }
      ]
    },
    {
      "cell_type": "markdown",
      "metadata": {
        "colab_type": "text",
        "id": "Uzzv2cdH7AqT"
      },
      "source": [
        "# <span style=\"color:orange\"> Medindo o tempo com torch.cuda.Event"
      ]
    },
    {
      "cell_type": "code",
      "metadata": {
        "colab_type": "code",
        "id": "T0g976s-7DvC",
        "colab": {
          "base_uri": "https://localhost:8080/",
          "height": 51
        },
        "outputId": "74f1d904-2155-4995-9788-14b95cb5b89a"
      },
      "source": [
        "# Tempos gasto no treino\n",
        "start = torch.cuda.Event(enable_timing=True)\n",
        "end = torch.cuda.Event(enable_timing=True)\n",
        "start.record()\n",
        "_ = train(model, device, dataloaders['train'], criterion, optimizer)\n",
        "end.record()\n",
        "torch.cuda.synchronize()    \n",
        "\n",
        "print(f'Tempo no treino em 20k exemplos: {start.elapsed_time(end)/1000 :.3f} seg.')\n",
        "\n",
        "# Tempos gasto no teste\n",
        "start.record()\n",
        "_, _ =  test(model, device, dataloaders['val'], criterion)\n",
        "end.record()\n",
        "torch.cuda.synchronize()    \n",
        "\n",
        "print(f'Tempo no teste em 5k exemplos: {start.elapsed_time(end)/1000 :.3f} seg.')"
      ],
      "execution_count": null,
      "outputs": [
        {
          "output_type": "stream",
          "text": [
            "Tempo no treino em 20k exemplos: 11.117 seg.\n",
            "Tempo no teste em 5k exemplos: 1.060 seg.\n"
          ],
          "name": "stdout"
        }
      ]
    },
    {
      "cell_type": "markdown",
      "metadata": {
        "colab_type": "text",
        "id": "ATptaOzQDq79"
      },
      "source": [
        "### <span style=\"color:orange\">Calculando a memória"
      ]
    },
    {
      "cell_type": "code",
      "metadata": {
        "colab_type": "code",
        "id": "57Fg24TzCLAT",
        "colab": {
          "base_uri": "https://localhost:8080/",
          "height": 34
        },
        "outputId": "0ef14711-ef26-488c-9416-409452952aa5"
      },
      "source": [
        "!pip install -q memory_profiler\n",
        "%load_ext memory_profiler"
      ],
      "execution_count": null,
      "outputs": [
        {
          "output_type": "stream",
          "text": [
            "  Building wheel for memory-profiler (setup.py) ... \u001b[?25l\u001b[?25hdone\n"
          ],
          "name": "stdout"
        }
      ]
    },
    {
      "cell_type": "code",
      "metadata": {
        "colab_type": "code",
        "id": "jkaeBN5XDxJA",
        "colab": {
          "base_uri": "https://localhost:8080/",
          "height": 34
        },
        "outputId": "1bb47fd5-aa55-425c-b4a1-7fecdee7b0b2"
      },
      "source": [
        "%memit test(model, device, dataloaders['val'], criterion)"
      ],
      "execution_count": null,
      "outputs": [
        {
          "output_type": "stream",
          "text": [
            "peak memory: 5987.88 MiB, increment: 0.12 MiB\n"
          ],
          "name": "stdout"
        }
      ]
    },
    {
      "cell_type": "markdown",
      "metadata": {
        "colab_type": "text",
        "id": "xiikjF3w2UaV"
      },
      "source": [
        "# <span style=\"color:orange\"> Treinamento"
      ]
    },
    {
      "cell_type": "code",
      "metadata": {
        "colab_type": "code",
        "id": "fyuMD11U2UaY",
        "colab": {
          "base_uri": "https://localhost:8080/",
          "height": 187
        },
        "outputId": "e238bbb2-08c4-4c03-dccf-b65193c5d747"
      },
      "source": [
        "start = torch.cuda.Event(enable_timing=True)\n",
        "end = torch.cuda.Event(enable_timing=True)\n",
        "\n",
        "deterministic() \n",
        "#--------------- configuração de treino\n",
        "N_EPOCHS  = 30\n",
        "model = Model(vocab_size, emb_dim, nheads=5).to(device)\n",
        "criterion = nn.CrossEntropyLoss() \n",
        "optimizer = torch.optim.Adam(model.parameters())\n",
        "epoch, best_acc = 0,0\n",
        "\n",
        "#-------------------- looping de treino\n",
        "start.record()\n",
        "for step in range(1, N_EPOCHS+1):\n",
        "    loss_t      = train(model, device, dataloaders['train'], criterion, optimizer)\n",
        "    loss_v, acc =  test(model, device, dataloaders['val'],   criterion)\n",
        "    if acc >= best_acc:\n",
        "        best_acc = acc\n",
        "        epoch    = step\n",
        "        torch.save(model.state_dict(), os.path.join('', 'epoch_-{}.pth'.format(epoch)))\n",
        "        print(f'[Epoch [{step}/{N_EPOCHS}] |', end=' ')\n",
        "        print(f'Train Loss: {loss_t:.3f} -- Valid Loss: {loss_v:.3f} --',end=' ')\n",
        "        print(f'Acc: {acc:.3f}')\n",
        "end.record()\n",
        "torch.cuda.synchronize()    \n",
        "\n",
        "print(f'\\nEnd of training. Best Acc: -->[{best_acc:.4f}]<--, at epoch: {epoch}\\n')\n",
        "print(f'Tempo: {start.elapsed_time(end)/1000/60 :.3f} min.')"
      ],
      "execution_count": null,
      "outputs": [
        {
          "output_type": "stream",
          "text": [
            "Deterministic experiment, seed: 0\n",
            "[Epoch [1/30] | Train Loss: 0.533 -- Valid Loss: 0.542 -- Acc: 0.730\n",
            "[Epoch [2/30] | Train Loss: 0.424 -- Valid Loss: 0.458 -- Acc: 0.787\n",
            "[Epoch [3/30] | Train Loss: 0.400 -- Valid Loss: 0.409 -- Acc: 0.813\n",
            "[Epoch [4/30] | Train Loss: 0.380 -- Valid Loss: 0.410 -- Acc: 0.817\n",
            "[Epoch [5/30] | Train Loss: 0.367 -- Valid Loss: 0.406 -- Acc: 0.821\n",
            "\n",
            "End of training. Best Acc: -->[0.8210]<--, at epoch: 5\n",
            "\n",
            "Tempo: 6.270 min.\n"
          ],
          "name": "stdout"
        }
      ]
    },
    {
      "cell_type": "markdown",
      "metadata": {
        "colab_type": "text",
        "id": "039Qjhr6LUG_"
      },
      "source": [
        "#  <span style=\"color:orange\"> Validação no conj. de teste\n"
      ]
    },
    {
      "cell_type": "code",
      "metadata": {
        "colab_type": "code",
        "id": "HlIw4vY5drmf",
        "colab": {}
      },
      "source": [
        "def logits_and_trues(model, dataloader, device=device):\n",
        "    model.eval()\n",
        "    logits, trues = [],[]\n",
        "    for x, mask, y in dataloader:\n",
        "        with torch.no_grad():\n",
        "            y_pred = model(x.to(device), mask.to(device))\n",
        "            logits.extend(y_pred.to('cpu').numpy().tolist())\n",
        "            trues.extend(y.to('cpu').numpy().tolist())\n",
        "    return torch.tensor(logits), np.array(trues)"
      ],
      "execution_count": null,
      "outputs": []
    },
    {
      "cell_type": "code",
      "metadata": {
        "colab_type": "code",
        "id": "fY_wyc-UiC4x",
        "colab": {
          "base_uri": "https://localhost:8080/",
          "height": 34
        },
        "outputId": "8fdfa8f6-165b-4d32-b708-faa063ab514d"
      },
      "source": [
        "model = Model(vocab_size, emb_dim, nheads=5).to(device)\n",
        "string = '/content/epoch_-5.pth'\n",
        "model.load_state_dict(torch.load(string, map_location=device))\n",
        "\n",
        "logits, trues = logits_and_trues(model, dataloaders['test'], device=device)\n",
        "prob  = F.softmax(logits, dim=1).detach().numpy()\n",
        "probs = prob[:,1]\n",
        "y     = pd.Series(trues)\n",
        "y_pred= pd.Series(probs)\n",
        "print(f'Acc = {accuracy_score(y, y_pred.round())}')"
      ],
      "execution_count": null,
      "outputs": [
        {
          "output_type": "stream",
          "text": [
            "Acc = 0.8194\n"
          ],
          "name": "stdout"
        }
      ]
    },
    {
      "cell_type": "code",
      "metadata": {
        "colab_type": "code",
        "id": "81gX6QFOiC5M",
        "colab": {
          "base_uri": "https://localhost:8080/",
          "height": 435
        },
        "outputId": "d4a60af3-6bd8-4d2d-a72c-6de75ba41fa2"
      },
      "source": [
        "from sklearn.metrics import roc_curve\n",
        "from sklearn.metrics import auc\n",
        "\n",
        "def plot_roc_curve(y, y_pred):\n",
        "    fpr, tpr,_ = roc_curve(y, y_pred)\n",
        "    roc_auc    = auc(fpr, tpr)\n",
        "    acc        = accuracy_score(y, y_pred.round())\n",
        "    \n",
        "    # plot\n",
        "    fig = plt.figure()\n",
        "    plt.figure(figsize=(15, 6))\n",
        "    plt.plot(fpr,tpr,'b',lw=2,label='%s AUC=%0.3f -- ACC=%0.3f'%('Modelo: Emb. Pos. Sinusoidal:',roc_auc,acc))\n",
        "    plt.plot([0, 1], [0, 1], 'm--')\n",
        "    \n",
        "    # decoração\n",
        "    plt.xlim([0.0, 1.0])\n",
        "    plt.xticks(fontsize=16)\n",
        "    plt.yticks(fontsize=16)\n",
        "    plt.ylim([0.0, 1.0])\n",
        "    plt.title('Encoder - MultiHeadAttention', size=18)\n",
        "    plt.xlabel('False Positive Rate', size=16)\n",
        "    plt.ylabel('True Positive Rate', size=16)\n",
        "    plt.legend(loc=0, fontsize=16)\n",
        "    plt.show()\n",
        "\n",
        "plot_roc_curve(y, y_pred)"
      ],
      "execution_count": null,
      "outputs": [
        {
          "output_type": "display_data",
          "data": {
            "text/plain": [
              "<Figure size 432x288 with 0 Axes>"
            ]
          },
          "metadata": {
            "tags": []
          }
        },
        {
          "output_type": "display_data",
          "data": {
            "image/png": "[encoded data removed]",
            "text/plain": [
              "<Figure size 1080x432 with 1 Axes>"
            ]
          },
          "metadata": {
            "tags": [],
            "needs_background": "light"
          }
        }
      ]
    },
    {
      "cell_type": "markdown",
      "metadata": {
        "colab_type": "text",
        "id": "OS4P6Pg6g-DX"
      },
      "source": [
        "# <span style=\"color:purple\">Fim do notebook\n",
        "\n",
        "\n",
        "\n"
      ]
    }
  ]
}